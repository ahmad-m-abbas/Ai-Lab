{
 "cells": [
  {
   "cell_type": "markdown",
   "id": "5367e53f-6ea6-4628-9c4c-2bbaaaf47a92",
   "metadata": {},
   "source": [
    "# **Case Study 2.1**: \n",
    "For this case study, your task is to apply the data cleaning techniques previously covered on a modified version of the Health Insurance Dataset obtained from Kaggle (https://www.kaggle.com/datasets/teertha/ushealthinsurancedataset). You can access the dataset in the **ENCS5141_Exp2_HealthInsurance.csv** file. This file is available in the GitHub repository hosted at https://github.com/mkjubran/ENCS5141Datasets.\n"
   ]
  },
  {
   "cell_type": "markdown",
   "id": "81a5f2bb-5637-4298-a789-f3faa0a47c84",
   "metadata": {},
   "source": [
    "## 1. Data cleaning"
   ]
  },
  {
   "cell_type": "code",
   "execution_count": 1,
   "id": "d16ebaf2",
   "metadata": {},
   "outputs": [
    {
     "name": "stderr",
     "output_type": "stream",
     "text": [
      "'rm' is not recognized as an internal or external command,\n",
      "operable program or batch file.\n"
     ]
    }
   ],
   "source": [
    "!rm -rf ../ENCS5141Datasets"
   ]
  },
  {
   "cell_type": "code",
   "execution_count": 2,
   "id": "d5710dee-1196-4447-bf87-a18a6f48e3c5",
   "metadata": {},
   "outputs": [
    {
     "name": "stderr",
     "output_type": "stream",
     "text": [
      "fatal: destination path '../ENCS5141Datasets' already exists and is not an empty directory.\n"
     ]
    }
   ],
   "source": [
    "!git clone https://github.com/mkjubran/ENCS5141Datasets.git ../ENCS5141Datasets"
   ]
  },
  {
   "cell_type": "code",
   "execution_count": 3,
   "id": "3cd5b903-985f-464e-bcac-664a70151bc1",
   "metadata": {},
   "outputs": [],
   "source": [
    "import matplotlib.pyplot as plt\n",
    "import seaborn as sns\n",
    "import pandas as pd\n",
    "from sklearn.preprocessing import LabelEncoder\n",
    "import seaborn as sns\n",
    "from sklearn.cluster import KMeans\n",
    "from sklearn.impute import KNNImputer\n"
   ]
  },
  {
   "cell_type": "code",
   "execution_count": 4,
   "id": "62ee61bd-b39b-4b76-92c9-630da8b29722",
   "metadata": {},
   "outputs": [
    {
     "data": {
      "text/html": [
       "<div>\n",
       "<style scoped>\n",
       "    .dataframe tbody tr th:only-of-type {\n",
       "        vertical-align: middle;\n",
       "    }\n",
       "\n",
       "    .dataframe tbody tr th {\n",
       "        vertical-align: top;\n",
       "    }\n",
       "\n",
       "    .dataframe thead th {\n",
       "        text-align: right;\n",
       "    }\n",
       "</style>\n",
       "<table border=\"1\" class=\"dataframe\">\n",
       "  <thead>\n",
       "    <tr style=\"text-align: right;\">\n",
       "      <th></th>\n",
       "      <th>age</th>\n",
       "      <th>sex</th>\n",
       "      <th>bmi</th>\n",
       "      <th>children</th>\n",
       "      <th>smoker</th>\n",
       "      <th>region</th>\n",
       "      <th>charges</th>\n",
       "    </tr>\n",
       "  </thead>\n",
       "  <tbody>\n",
       "    <tr>\n",
       "      <th>0</th>\n",
       "      <td>19.0</td>\n",
       "      <td>female</td>\n",
       "      <td>27.900</td>\n",
       "      <td>0.0</td>\n",
       "      <td>yes</td>\n",
       "      <td>southwest</td>\n",
       "      <td>16884.92400</td>\n",
       "    </tr>\n",
       "    <tr>\n",
       "      <th>1</th>\n",
       "      <td>18.0</td>\n",
       "      <td>male</td>\n",
       "      <td>33.770</td>\n",
       "      <td>1.0</td>\n",
       "      <td>no</td>\n",
       "      <td>southeast</td>\n",
       "      <td>1725.55230</td>\n",
       "    </tr>\n",
       "    <tr>\n",
       "      <th>2</th>\n",
       "      <td>28.0</td>\n",
       "      <td>male</td>\n",
       "      <td>33.000</td>\n",
       "      <td>3.0</td>\n",
       "      <td>no</td>\n",
       "      <td>southeast</td>\n",
       "      <td>4449.46200</td>\n",
       "    </tr>\n",
       "    <tr>\n",
       "      <th>3</th>\n",
       "      <td>33.0</td>\n",
       "      <td>male</td>\n",
       "      <td>22.705</td>\n",
       "      <td>0.0</td>\n",
       "      <td>no</td>\n",
       "      <td>northwest</td>\n",
       "      <td>21984.47061</td>\n",
       "    </tr>\n",
       "    <tr>\n",
       "      <th>4</th>\n",
       "      <td>32.0</td>\n",
       "      <td>male</td>\n",
       "      <td>28.880</td>\n",
       "      <td>0.0</td>\n",
       "      <td>no</td>\n",
       "      <td>northwest</td>\n",
       "      <td>3866.85520</td>\n",
       "    </tr>\n",
       "  </tbody>\n",
       "</table>\n",
       "</div>"
      ],
      "text/plain": [
       "    age     sex     bmi  children smoker     region      charges\n",
       "0  19.0  female  27.900       0.0    yes  southwest  16884.92400\n",
       "1  18.0    male  33.770       1.0     no  southeast   1725.55230\n",
       "2  28.0    male  33.000       3.0     no  southeast   4449.46200\n",
       "3  33.0    male  22.705       0.0     no  northwest  21984.47061\n",
       "4  32.0    male  28.880       0.0     no  northwest   3866.85520"
      ]
     },
     "execution_count": 4,
     "metadata": {},
     "output_type": "execute_result"
    }
   ],
   "source": [
    "df = pd.read_csv(\"../ENCS5141Datasets/ENCS5141_Exp2_HealthInsurance.csv\")\n",
    "df.head()"
   ]
  },
  {
   "cell_type": "code",
   "execution_count": 5,
   "id": "0283a972-8388-44c6-a9f0-02b18147a78a",
   "metadata": {},
   "outputs": [
    {
     "name": "stdout",
     "output_type": "stream",
     "text": [
      "age         12\n",
      "sex         19\n",
      "bmi         17\n",
      "children    52\n",
      "smoker      17\n",
      "region       0\n",
      "charges      0\n",
      "dtype: int64\n",
      "1338\n"
     ]
    }
   ],
   "source": [
    "print(df.isnull().sum())\n",
    "print(len(df))"
   ]
  },
  {
   "cell_type": "markdown",
   "id": "5b3adc1d-6427-4d15-8b36-3d1426c16283",
   "metadata": {},
   "source": [
    "For category columns, we must check all possible labels and dublicates"
   ]
  },
  {
   "cell_type": "code",
   "execution_count": 6,
   "id": "64946ccf-f7b0-43b2-8753-ba10fd1dd540",
   "metadata": {},
   "outputs": [
    {
     "name": "stdout",
     "output_type": "stream",
     "text": [
      "['female' 'male' nan]\n",
      "['yes' 'no' nan]\n",
      "['southwest' 'southeast' 'northwest' 'northeast']\n"
     ]
    }
   ],
   "source": [
    "print(df['sex'].unique())\n",
    "print(df['smoker'].unique())\n",
    "print(df['region'].unique())"
   ]
  },
  {
   "cell_type": "code",
   "execution_count": 7,
   "id": "781882a4-3d39-465d-a1ee-d46b14026571",
   "metadata": {},
   "outputs": [
    {
     "data": {
      "text/plain": [
       "False    1337\n",
       "True        1\n",
       "dtype: int64"
      ]
     },
     "execution_count": 7,
     "metadata": {},
     "output_type": "execute_result"
    }
   ],
   "source": [
    "df.duplicated().value_counts()"
   ]
  },
  {
   "cell_type": "code",
   "execution_count": 8,
   "id": "4b35bb42",
   "metadata": {},
   "outputs": [],
   "source": [
    "df = df.drop_duplicates()"
   ]
  },
  {
   "cell_type": "code",
   "execution_count": 9,
   "id": "ff9a10a6",
   "metadata": {},
   "outputs": [
    {
     "data": {
      "text/html": [
       "<div>\n",
       "<style scoped>\n",
       "    .dataframe tbody tr th:only-of-type {\n",
       "        vertical-align: middle;\n",
       "    }\n",
       "\n",
       "    .dataframe tbody tr th {\n",
       "        vertical-align: top;\n",
       "    }\n",
       "\n",
       "    .dataframe thead th {\n",
       "        text-align: right;\n",
       "    }\n",
       "</style>\n",
       "<table border=\"1\" class=\"dataframe\">\n",
       "  <thead>\n",
       "    <tr style=\"text-align: right;\">\n",
       "      <th></th>\n",
       "      <th>age</th>\n",
       "      <th>sex</th>\n",
       "      <th>bmi</th>\n",
       "      <th>children</th>\n",
       "      <th>smoker</th>\n",
       "      <th>region</th>\n",
       "      <th>charges</th>\n",
       "    </tr>\n",
       "  </thead>\n",
       "  <tbody>\n",
       "    <tr>\n",
       "      <th>0</th>\n",
       "      <td>19.0</td>\n",
       "      <td>female</td>\n",
       "      <td>27.900</td>\n",
       "      <td>0.0</td>\n",
       "      <td>yes</td>\n",
       "      <td>southwest</td>\n",
       "      <td>16884.92400</td>\n",
       "    </tr>\n",
       "    <tr>\n",
       "      <th>1</th>\n",
       "      <td>18.0</td>\n",
       "      <td>male</td>\n",
       "      <td>33.770</td>\n",
       "      <td>1.0</td>\n",
       "      <td>no</td>\n",
       "      <td>southeast</td>\n",
       "      <td>1725.55230</td>\n",
       "    </tr>\n",
       "    <tr>\n",
       "      <th>2</th>\n",
       "      <td>28.0</td>\n",
       "      <td>male</td>\n",
       "      <td>33.000</td>\n",
       "      <td>3.0</td>\n",
       "      <td>no</td>\n",
       "      <td>southeast</td>\n",
       "      <td>4449.46200</td>\n",
       "    </tr>\n",
       "    <tr>\n",
       "      <th>3</th>\n",
       "      <td>33.0</td>\n",
       "      <td>male</td>\n",
       "      <td>22.705</td>\n",
       "      <td>0.0</td>\n",
       "      <td>no</td>\n",
       "      <td>northwest</td>\n",
       "      <td>21984.47061</td>\n",
       "    </tr>\n",
       "    <tr>\n",
       "      <th>4</th>\n",
       "      <td>32.0</td>\n",
       "      <td>male</td>\n",
       "      <td>28.880</td>\n",
       "      <td>0.0</td>\n",
       "      <td>no</td>\n",
       "      <td>northwest</td>\n",
       "      <td>3866.85520</td>\n",
       "    </tr>\n",
       "    <tr>\n",
       "      <th>...</th>\n",
       "      <td>...</td>\n",
       "      <td>...</td>\n",
       "      <td>...</td>\n",
       "      <td>...</td>\n",
       "      <td>...</td>\n",
       "      <td>...</td>\n",
       "      <td>...</td>\n",
       "    </tr>\n",
       "    <tr>\n",
       "      <th>1333</th>\n",
       "      <td>50.0</td>\n",
       "      <td>male</td>\n",
       "      <td>30.970</td>\n",
       "      <td>3.0</td>\n",
       "      <td>no</td>\n",
       "      <td>northwest</td>\n",
       "      <td>10600.54830</td>\n",
       "    </tr>\n",
       "    <tr>\n",
       "      <th>1334</th>\n",
       "      <td>18.0</td>\n",
       "      <td>female</td>\n",
       "      <td>31.920</td>\n",
       "      <td>0.0</td>\n",
       "      <td>no</td>\n",
       "      <td>northeast</td>\n",
       "      <td>2205.98080</td>\n",
       "    </tr>\n",
       "    <tr>\n",
       "      <th>1335</th>\n",
       "      <td>18.0</td>\n",
       "      <td>female</td>\n",
       "      <td>36.850</td>\n",
       "      <td>0.0</td>\n",
       "      <td>no</td>\n",
       "      <td>southeast</td>\n",
       "      <td>1629.83350</td>\n",
       "    </tr>\n",
       "    <tr>\n",
       "      <th>1336</th>\n",
       "      <td>21.0</td>\n",
       "      <td>female</td>\n",
       "      <td>25.800</td>\n",
       "      <td>0.0</td>\n",
       "      <td>no</td>\n",
       "      <td>southwest</td>\n",
       "      <td>2007.94500</td>\n",
       "    </tr>\n",
       "    <tr>\n",
       "      <th>1337</th>\n",
       "      <td>61.0</td>\n",
       "      <td>female</td>\n",
       "      <td>29.070</td>\n",
       "      <td>0.0</td>\n",
       "      <td>yes</td>\n",
       "      <td>northwest</td>\n",
       "      <td>29141.36030</td>\n",
       "    </tr>\n",
       "  </tbody>\n",
       "</table>\n",
       "<p>1337 rows × 7 columns</p>\n",
       "</div>"
      ],
      "text/plain": [
       "       age     sex     bmi  children smoker     region      charges\n",
       "0     19.0  female  27.900       0.0    yes  southwest  16884.92400\n",
       "1     18.0    male  33.770       1.0     no  southeast   1725.55230\n",
       "2     28.0    male  33.000       3.0     no  southeast   4449.46200\n",
       "3     33.0    male  22.705       0.0     no  northwest  21984.47061\n",
       "4     32.0    male  28.880       0.0     no  northwest   3866.85520\n",
       "...    ...     ...     ...       ...    ...        ...          ...\n",
       "1333  50.0    male  30.970       3.0     no  northwest  10600.54830\n",
       "1334  18.0  female  31.920       0.0     no  northeast   2205.98080\n",
       "1335  18.0  female  36.850       0.0     no  southeast   1629.83350\n",
       "1336  21.0  female  25.800       0.0     no  southwest   2007.94500\n",
       "1337  61.0  female  29.070       0.0    yes  northwest  29141.36030\n",
       "\n",
       "[1337 rows x 7 columns]"
      ]
     },
     "execution_count": 9,
     "metadata": {},
     "output_type": "execute_result"
    }
   ],
   "source": [
    "df"
   ]
  },
  {
   "cell_type": "code",
   "execution_count": 10,
   "id": "533496e6-1661-4d7f-97d6-a1da49e528cd",
   "metadata": {},
   "outputs": [
    {
     "data": {
      "text/html": [
       "<div>\n",
       "<style scoped>\n",
       "    .dataframe tbody tr th:only-of-type {\n",
       "        vertical-align: middle;\n",
       "    }\n",
       "\n",
       "    .dataframe tbody tr th {\n",
       "        vertical-align: top;\n",
       "    }\n",
       "\n",
       "    .dataframe thead th {\n",
       "        text-align: right;\n",
       "    }\n",
       "</style>\n",
       "<table border=\"1\" class=\"dataframe\">\n",
       "  <thead>\n",
       "    <tr style=\"text-align: right;\">\n",
       "      <th></th>\n",
       "      <th>age</th>\n",
       "      <th>bmi</th>\n",
       "      <th>children</th>\n",
       "      <th>charges</th>\n",
       "      <th>sex_encoded</th>\n",
       "      <th>smoker_encoded</th>\n",
       "      <th>region_encoded</th>\n",
       "    </tr>\n",
       "  </thead>\n",
       "  <tbody>\n",
       "    <tr>\n",
       "      <th>age</th>\n",
       "      <td>1.000000</td>\n",
       "      <td>0.041382</td>\n",
       "      <td>0.046480</td>\n",
       "      <td>0.288812</td>\n",
       "      <td>0.010572</td>\n",
       "      <td>-0.025480</td>\n",
       "      <td>0.004271</td>\n",
       "    </tr>\n",
       "    <tr>\n",
       "      <th>bmi</th>\n",
       "      <td>0.041382</td>\n",
       "      <td>1.000000</td>\n",
       "      <td>-0.014459</td>\n",
       "      <td>0.095272</td>\n",
       "      <td>0.024730</td>\n",
       "      <td>-0.009239</td>\n",
       "      <td>0.093003</td>\n",
       "    </tr>\n",
       "    <tr>\n",
       "      <th>children</th>\n",
       "      <td>0.046480</td>\n",
       "      <td>-0.014459</td>\n",
       "      <td>1.000000</td>\n",
       "      <td>0.069920</td>\n",
       "      <td>0.006063</td>\n",
       "      <td>0.041615</td>\n",
       "      <td>0.035458</td>\n",
       "    </tr>\n",
       "    <tr>\n",
       "      <th>charges</th>\n",
       "      <td>0.288812</td>\n",
       "      <td>0.095272</td>\n",
       "      <td>0.069920</td>\n",
       "      <td>1.000000</td>\n",
       "      <td>0.084554</td>\n",
       "      <td>0.706272</td>\n",
       "      <td>-0.006547</td>\n",
       "    </tr>\n",
       "    <tr>\n",
       "      <th>sex_encoded</th>\n",
       "      <td>0.010572</td>\n",
       "      <td>0.024730</td>\n",
       "      <td>0.006063</td>\n",
       "      <td>0.084554</td>\n",
       "      <td>1.000000</td>\n",
       "      <td>0.077150</td>\n",
       "      <td>0.011150</td>\n",
       "    </tr>\n",
       "    <tr>\n",
       "      <th>smoker_encoded</th>\n",
       "      <td>-0.025480</td>\n",
       "      <td>-0.009239</td>\n",
       "      <td>0.041615</td>\n",
       "      <td>0.706272</td>\n",
       "      <td>0.077150</td>\n",
       "      <td>1.000000</td>\n",
       "      <td>-0.006643</td>\n",
       "    </tr>\n",
       "    <tr>\n",
       "      <th>region_encoded</th>\n",
       "      <td>0.004271</td>\n",
       "      <td>0.093003</td>\n",
       "      <td>0.035458</td>\n",
       "      <td>-0.006547</td>\n",
       "      <td>0.011150</td>\n",
       "      <td>-0.006643</td>\n",
       "      <td>1.000000</td>\n",
       "    </tr>\n",
       "  </tbody>\n",
       "</table>\n",
       "</div>"
      ],
      "text/plain": [
       "                     age       bmi  children   charges  sex_encoded  \\\n",
       "age             1.000000  0.041382  0.046480  0.288812     0.010572   \n",
       "bmi             0.041382  1.000000 -0.014459  0.095272     0.024730   \n",
       "children        0.046480 -0.014459  1.000000  0.069920     0.006063   \n",
       "charges         0.288812  0.095272  0.069920  1.000000     0.084554   \n",
       "sex_encoded     0.010572  0.024730  0.006063  0.084554     1.000000   \n",
       "smoker_encoded -0.025480 -0.009239  0.041615  0.706272     0.077150   \n",
       "region_encoded  0.004271  0.093003  0.035458 -0.006547     0.011150   \n",
       "\n",
       "                smoker_encoded  region_encoded  \n",
       "age                  -0.025480        0.004271  \n",
       "bmi                  -0.009239        0.093003  \n",
       "children              0.041615        0.035458  \n",
       "charges               0.706272       -0.006547  \n",
       "sex_encoded           0.077150        0.011150  \n",
       "smoker_encoded        1.000000       -0.006643  \n",
       "region_encoded       -0.006643        1.000000  "
      ]
     },
     "execution_count": 10,
     "metadata": {},
     "output_type": "execute_result"
    }
   ],
   "source": [
    "def corr_table(df):\n",
    "    df_copy = df.copy()\n",
    "\n",
    "    label_encoder = LabelEncoder()\n",
    "\n",
    "    df_copy['sex_encoded'] = label_encoder.fit_transform(df_copy['sex'])\n",
    "    df_copy['smoker_encoded'] = label_encoder.fit_transform(df_copy['smoker'])\n",
    "    df_copy['region_encoded'] = label_encoder.fit_transform(df_copy['region'])\n",
    "\n",
    "    df_copy.drop(['sex','smoker', 'region'],axis=1,inplace=True)\n",
    "\n",
    "    return df_copy.corr()\n",
    "corr_table(df)"
   ]
  },
  {
   "cell_type": "markdown",
   "id": "566511d5-4a21-4573-beba-95c36a049386",
   "metadata": {},
   "source": [
    "For the `smoker` column, there is a high correlation with the `charges` column. We plot the relation, we may set a threshold to separate the values or use the outcome distributions to detect the values."
   ]
  },
  {
   "cell_type": "code",
   "execution_count": 11,
   "id": "8b497f52-699d-475c-9a6b-1b057d1a09dd",
   "metadata": {},
   "outputs": [
    {
     "data": {
      "text/plain": [
       "<Axes: xlabel='charges', ylabel='Count'>"
      ]
     },
     "execution_count": 11,
     "metadata": {},
     "output_type": "execute_result"
    },
    {
     "data": {
      "image/png": "[encoded data removed]",
      "text/plain": [
       "<Figure size 432x288 with 1 Axes>"
      ]
     },
     "metadata": {
      "needs_background": "light"
     },
     "output_type": "display_data"
    }
   ],
   "source": [
    "sns.histplot(data = df, x = 'charges', kde=True, hue = 'smoker')"
   ]
  },
  {
   "cell_type": "code",
   "execution_count": 12,
   "id": "abb0db7e-4f2a-411a-a047-11bedeb73f13",
   "metadata": {},
   "outputs": [],
   "source": [
    "threshold = 19000\n",
    "\n",
    "df.loc[df['smoker'].isnull() & (df['charges'] > threshold), 'smoker'] = 'yes'\n",
    "df.loc[df['smoker'].isnull() & (df['charges'] <= threshold), 'smoker'] = 'no'"
   ]
  },
  {
   "cell_type": "code",
   "execution_count": 13,
   "id": "5d907d20-2917-423e-b869-0f7feb22d457",
   "metadata": {},
   "outputs": [
    {
     "name": "stdout",
     "output_type": "stream",
     "text": [
      "age         12\n",
      "sex         19\n",
      "bmi         17\n",
      "children    52\n",
      "smoker       0\n",
      "region       0\n",
      "charges      0\n",
      "dtype: int64\n"
     ]
    }
   ],
   "source": [
    "print(df.isnull().sum())"
   ]
  },
  {
   "cell_type": "markdown",
   "id": "d0289eb0-86bf-4e8a-b1ae-700361bc1484",
   "metadata": {},
   "source": [
    "From the correlation table, `charges` can be used to determine the `age` column. First we will plot the relation between them."
   ]
  },
  {
   "cell_type": "markdown",
   "id": "60497ed2-04a3-4aa5-8bab-4676afc950e8",
   "metadata": {},
   "source": [
    "I will use Kmeans clustering to define the threshold for each region as the med point between the means."
   ]
  },
  {
   "cell_type": "code",
   "execution_count": 14,
   "id": "41c6c8b6-bed3-4175-98c2-c244e5fcf425",
   "metadata": {},
   "outputs": [],
   "source": [
    "def draw_cluster(df, x_col, y_col):\n",
    "    plt.figure(figsize=(10, 6))\n",
    "    model = KMeans(n_clusters=3, random_state=42).fit(df[[x_col]])\n",
    "    df['cluster'] = model.labels_\n",
    "\n",
    "    iqr1 = df.groupby('cluster')[x_col].quantile(0.50)\n",
    "\n",
    "    for cluster in df['cluster'].unique():\n",
    "        subset = df[(df['cluster'] == cluster) & (df[x_col] > iqr1[cluster])]\n",
    "        sns.regplot(data=subset, x=x_col, y=y_col, scatter=False, label=f'Cluster {cluster} Line')\n",
    "        \n",
    "    sns.scatterplot(data=df, x=x_col, y=y_col, hue='cluster', palette='deep')\n",
    "\n",
    "    plt.legend()\n",
    "    plt.show()\n",
    "    cetners = sorted(model.cluster_centers_.flatten())\n",
    "\n",
    "    threshold1 = (cetners[0] + cetners[1]) / 2\n",
    "    threshold2 = (cetners[1] + cetners[2]) / 2\n",
    "    return threshold1, threshold2"
   ]
  },
  {
   "cell_type": "code",
   "execution_count": 15,
   "id": "4f9a4aa7",
   "metadata": {},
   "outputs": [
    {
     "data": {
      "image/png": "[encoded data removed]",
      "text/plain": [
       "<Figure size 720x432 with 1 Axes>"
      ]
     },
     "metadata": {
      "needs_background": "light"
     },
     "output_type": "display_data"
    }
   ],
   "source": [
    "threshold1, threshold2 = draw_cluster(df, 'charges', 'age')"
   ]
  },
  {
   "cell_type": "code",
   "execution_count": 16,
   "id": "8d059752-6e88-42be-a30f-a7e4bd52c8e7",
   "metadata": {},
   "outputs": [
    {
     "name": "stdout",
     "output_type": "stream",
     "text": [
      "12106.7470417177 29337.39748330826\n"
     ]
    }
   ],
   "source": [
    "print(threshold1, threshold2)"
   ]
  },
  {
   "cell_type": "code",
   "execution_count": 17,
   "id": "64a455e1-7d88-46fe-bef5-51ffe2c50a0c",
   "metadata": {},
   "outputs": [],
   "source": [
    "from sklearn.linear_model import LinearRegression\n",
    "def fill_nan(df_orig):\n",
    "    df = df_orig.copy()\n",
    "    df_missing = df[df['age'].isna()]\n",
    "    \n",
    "    if len(df_missing) == 0:\n",
    "        return df\n",
    "    \n",
    "    df_not_missing = df[~df['age'].isna()]\n",
    "    \n",
    "    \n",
    "    iqr1 = df_not_missing['charges'].quantile(0.25)\n",
    "    \n",
    "    train = df_not_missing[(df_not_missing['charges'] > iqr1)]\n",
    "    \n",
    "    model = LinearRegression()\n",
    "    model.fit(train[['charges']], train['age'])\n",
    "\n",
    "    x_missing = df_missing[['charges']]\n",
    "    df.loc[df['age'].isna(), 'age'] = model.predict(x_missing)\n",
    "    return df"
   ]
  },
  {
   "cell_type": "code",
   "execution_count": 18,
   "id": "5220afef-64f6-4c29-ba72-94a789f9820a",
   "metadata": {},
   "outputs": [],
   "source": [
    "\n",
    "df_s1 = df[df['charges'] <= threshold1]\n",
    "df_s2 = df[(df['charges'] > threshold1) & (df['charges'] <= threshold2)]\n",
    "df_s3 = df[df['charges'] > threshold2]\n",
    "\n",
    "df_s1 = fill_nan(df_s1)\n",
    "df_s2 = fill_nan(df_s2)\n",
    "df_s3 = fill_nan(df_s3)\n",
    "\n",
    "df = pd.concat([df_s1, df_s2, df_s3]).sort_index().reset_index(drop=True)\n"
   ]
  },
  {
   "cell_type": "code",
   "execution_count": 19,
   "id": "09760003",
   "metadata": {},
   "outputs": [
    {
     "data": {
      "image/png": "[encoded data removed]",
      "text/plain": [
       "<Figure size 720x432 with 1 Axes>"
      ]
     },
     "metadata": {
      "needs_background": "light"
     },
     "output_type": "display_data"
    },
    {
     "data": {
      "text/plain": [
       "(12106.7470417177, 29337.39748330826)"
      ]
     },
     "execution_count": 19,
     "metadata": {},
     "output_type": "execute_result"
    }
   ],
   "source": [
    "draw_cluster(df, 'charges', 'age')"
   ]
  },
  {
   "cell_type": "code",
   "execution_count": 20,
   "id": "ca7f3a73",
   "metadata": {},
   "outputs": [],
   "source": [
    "df = df.drop('cluster', axis=1)"
   ]
  },
  {
   "cell_type": "code",
   "execution_count": 21,
   "id": "21e6bd04-91e6-4d34-ac81-024dda9f8702",
   "metadata": {},
   "outputs": [
    {
     "name": "stdout",
     "output_type": "stream",
     "text": [
      "age          0\n",
      "sex         19\n",
      "bmi         17\n",
      "children    52\n",
      "smoker       0\n",
      "region       0\n",
      "charges      0\n",
      "dtype: int64\n"
     ]
    }
   ],
   "source": [
    "print(df.isnull().sum())"
   ]
  },
  {
   "cell_type": "markdown",
   "id": "3636ee98-87a5-45c7-9777-ad17ef30f607",
   "metadata": {},
   "source": [
    "For `bmi`, we will replace it with the mean of the column and replace `sex` with the mode."
   ]
  },
  {
   "cell_type": "code",
   "execution_count": 22,
   "id": "3a726b3e-6f54-44fd-8bfa-d950d9ac39fe",
   "metadata": {},
   "outputs": [],
   "source": [
    "df.loc[df['bmi'].isna(), 'bmi']  = int(df['bmi'].mean())"
   ]
  },
  {
   "cell_type": "code",
   "execution_count": 23,
   "id": "3b335fd7-f9e1-4f34-8973-ef3782e1cadd",
   "metadata": {},
   "outputs": [
    {
     "name": "stdout",
     "output_type": "stream",
     "text": [
      "age          0\n",
      "sex         19\n",
      "bmi          0\n",
      "children    52\n",
      "smoker       0\n",
      "region       0\n",
      "charges      0\n",
      "dtype: int64\n"
     ]
    }
   ],
   "source": [
    "print(df.isnull().sum())"
   ]
  },
  {
   "cell_type": "code",
   "execution_count": 24,
   "id": "10c3f894-31dd-42b8-8b6a-2687ba17e9ec",
   "metadata": {},
   "outputs": [],
   "source": [
    "df.loc[df['sex'].isnull(), 'sex'] = df['sex'].mode().iloc[0]"
   ]
  },
  {
   "cell_type": "code",
   "execution_count": 25,
   "id": "465289c0-9cdf-42c1-b797-247cf18bdc53",
   "metadata": {},
   "outputs": [
    {
     "name": "stdout",
     "output_type": "stream",
     "text": [
      "age          0\n",
      "sex          0\n",
      "bmi          0\n",
      "children    52\n",
      "smoker       0\n",
      "region       0\n",
      "charges      0\n",
      "dtype: int64\n"
     ]
    }
   ],
   "source": [
    "print(df.isnull().sum())"
   ]
  },
  {
   "cell_type": "markdown",
   "id": "657753f8-a507-4aeb-8a04-77eacc56b9e4",
   "metadata": {},
   "source": [
    "For `children`, I will use KNN to handle the missing data.\n",
    "[KNNImputer](https://www.analyticsvidhya.com/blog/2020/07/knnimputer-a-robust-way-to-impute-missing-values-using-scikit-learn/)\n"
   ]
  },
  {
   "cell_type": "code",
   "execution_count": 26,
   "id": "6cbf024c-8b80-4dea-8e48-4969c5f63178",
   "metadata": {},
   "outputs": [],
   "source": [
    "df_copy = df.copy()\n",
    "\n",
    "label_encoder = LabelEncoder()\n",
    "\n",
    "df_copy['sex_encoded'] = label_encoder.fit_transform(df_copy['sex'])\n",
    "df_copy['smoker_encoded'] = label_encoder.fit_transform(df_copy['smoker'])\n",
    "df_copy['region_encoded'] = label_encoder.fit_transform(df_copy['region'])\n",
    "\n",
    "df_copy.drop(['sex','smoker', 'region'],axis=1,inplace=True)\n",
    "\n",
    "imputer = KNNImputer(n_neighbors=1)  \n",
    "df_filled = imputer.fit_transform(df_copy)\n",
    "\n",
    "df_imputed = pd.DataFrame(df_filled, columns=df_copy.columns)\n",
    "\n",
    "df['children'] = df_imputed['children']\n"
   ]
  },
  {
   "cell_type": "code",
   "execution_count": 27,
   "id": "777377ac-1fae-4421-a8f1-f23624c2f21e",
   "metadata": {},
   "outputs": [
    {
     "name": "stdout",
     "output_type": "stream",
     "text": [
      "age         0\n",
      "sex         0\n",
      "bmi         0\n",
      "children    0\n",
      "smoker      0\n",
      "region      0\n",
      "charges     0\n",
      "dtype: int64\n"
     ]
    }
   ],
   "source": [
    "print(df.isnull().sum())"
   ]
  },
  {
   "cell_type": "code",
   "execution_count": 28,
   "id": "b4ab58f1",
   "metadata": {},
   "outputs": [
    {
     "data": {
      "text/html": [
       "<div>\n",
       "<style scoped>\n",
       "    .dataframe tbody tr th:only-of-type {\n",
       "        vertical-align: middle;\n",
       "    }\n",
       "\n",
       "    .dataframe tbody tr th {\n",
       "        vertical-align: top;\n",
       "    }\n",
       "\n",
       "    .dataframe thead th {\n",
       "        text-align: right;\n",
       "    }\n",
       "</style>\n",
       "<table border=\"1\" class=\"dataframe\">\n",
       "  <thead>\n",
       "    <tr style=\"text-align: right;\">\n",
       "      <th></th>\n",
       "      <th>age</th>\n",
       "      <th>sex</th>\n",
       "      <th>bmi</th>\n",
       "      <th>children</th>\n",
       "      <th>smoker</th>\n",
       "      <th>region</th>\n",
       "      <th>charges</th>\n",
       "    </tr>\n",
       "  </thead>\n",
       "  <tbody>\n",
       "    <tr>\n",
       "      <th>0</th>\n",
       "      <td>19.0</td>\n",
       "      <td>female</td>\n",
       "      <td>27.900</td>\n",
       "      <td>0.0</td>\n",
       "      <td>yes</td>\n",
       "      <td>southwest</td>\n",
       "      <td>16884.92400</td>\n",
       "    </tr>\n",
       "    <tr>\n",
       "      <th>1</th>\n",
       "      <td>18.0</td>\n",
       "      <td>male</td>\n",
       "      <td>33.770</td>\n",
       "      <td>1.0</td>\n",
       "      <td>no</td>\n",
       "      <td>southeast</td>\n",
       "      <td>1725.55230</td>\n",
       "    </tr>\n",
       "    <tr>\n",
       "      <th>2</th>\n",
       "      <td>28.0</td>\n",
       "      <td>male</td>\n",
       "      <td>33.000</td>\n",
       "      <td>3.0</td>\n",
       "      <td>no</td>\n",
       "      <td>southeast</td>\n",
       "      <td>4449.46200</td>\n",
       "    </tr>\n",
       "    <tr>\n",
       "      <th>3</th>\n",
       "      <td>33.0</td>\n",
       "      <td>male</td>\n",
       "      <td>22.705</td>\n",
       "      <td>0.0</td>\n",
       "      <td>no</td>\n",
       "      <td>northwest</td>\n",
       "      <td>21984.47061</td>\n",
       "    </tr>\n",
       "    <tr>\n",
       "      <th>4</th>\n",
       "      <td>32.0</td>\n",
       "      <td>male</td>\n",
       "      <td>28.880</td>\n",
       "      <td>0.0</td>\n",
       "      <td>no</td>\n",
       "      <td>northwest</td>\n",
       "      <td>3866.85520</td>\n",
       "    </tr>\n",
       "    <tr>\n",
       "      <th>...</th>\n",
       "      <td>...</td>\n",
       "      <td>...</td>\n",
       "      <td>...</td>\n",
       "      <td>...</td>\n",
       "      <td>...</td>\n",
       "      <td>...</td>\n",
       "      <td>...</td>\n",
       "    </tr>\n",
       "    <tr>\n",
       "      <th>1332</th>\n",
       "      <td>50.0</td>\n",
       "      <td>male</td>\n",
       "      <td>30.970</td>\n",
       "      <td>3.0</td>\n",
       "      <td>no</td>\n",
       "      <td>northwest</td>\n",
       "      <td>10600.54830</td>\n",
       "    </tr>\n",
       "    <tr>\n",
       "      <th>1333</th>\n",
       "      <td>18.0</td>\n",
       "      <td>female</td>\n",
       "      <td>31.920</td>\n",
       "      <td>0.0</td>\n",
       "      <td>no</td>\n",
       "      <td>northeast</td>\n",
       "      <td>2205.98080</td>\n",
       "    </tr>\n",
       "    <tr>\n",
       "      <th>1334</th>\n",
       "      <td>18.0</td>\n",
       "      <td>female</td>\n",
       "      <td>36.850</td>\n",
       "      <td>0.0</td>\n",
       "      <td>no</td>\n",
       "      <td>southeast</td>\n",
       "      <td>1629.83350</td>\n",
       "    </tr>\n",
       "    <tr>\n",
       "      <th>1335</th>\n",
       "      <td>21.0</td>\n",
       "      <td>female</td>\n",
       "      <td>25.800</td>\n",
       "      <td>0.0</td>\n",
       "      <td>no</td>\n",
       "      <td>southwest</td>\n",
       "      <td>2007.94500</td>\n",
       "    </tr>\n",
       "    <tr>\n",
       "      <th>1336</th>\n",
       "      <td>61.0</td>\n",
       "      <td>female</td>\n",
       "      <td>29.070</td>\n",
       "      <td>0.0</td>\n",
       "      <td>yes</td>\n",
       "      <td>northwest</td>\n",
       "      <td>29141.36030</td>\n",
       "    </tr>\n",
       "  </tbody>\n",
       "</table>\n",
       "<p>1337 rows × 7 columns</p>\n",
       "</div>"
      ],
      "text/plain": [
       "       age     sex     bmi  children smoker     region      charges\n",
       "0     19.0  female  27.900       0.0    yes  southwest  16884.92400\n",
       "1     18.0    male  33.770       1.0     no  southeast   1725.55230\n",
       "2     28.0    male  33.000       3.0     no  southeast   4449.46200\n",
       "3     33.0    male  22.705       0.0     no  northwest  21984.47061\n",
       "4     32.0    male  28.880       0.0     no  northwest   3866.85520\n",
       "...    ...     ...     ...       ...    ...        ...          ...\n",
       "1332  50.0    male  30.970       3.0     no  northwest  10600.54830\n",
       "1333  18.0  female  31.920       0.0     no  northeast   2205.98080\n",
       "1334  18.0  female  36.850       0.0     no  southeast   1629.83350\n",
       "1335  21.0  female  25.800       0.0     no  southwest   2007.94500\n",
       "1336  61.0  female  29.070       0.0    yes  northwest  29141.36030\n",
       "\n",
       "[1337 rows x 7 columns]"
      ]
     },
     "execution_count": 28,
     "metadata": {},
     "output_type": "execute_result"
    }
   ],
   "source": [
    "df"
   ]
  },
  {
   "cell_type": "markdown",
   "id": "26c2d536",
   "metadata": {},
   "source": [
    "## Outliers\n",
    "For `age` column, we will use the boxplot technique to detect outliers."
   ]
  },
  {
   "cell_type": "code",
   "execution_count": 29,
   "id": "727a3ee4",
   "metadata": {},
   "outputs": [
    {
     "data": {
      "text/plain": [
       "<Axes: >"
      ]
     },
     "execution_count": 29,
     "metadata": {},
     "output_type": "execute_result"
    },
    {
     "data": {
      "image/png": "[encoded data removed]",
      "text/plain": [
       "<Figure size 432x288 with 1 Axes>"
      ]
     },
     "metadata": {
      "needs_background": "light"
     },
     "output_type": "display_data"
    }
   ],
   "source": [
    "df.boxplot(column=['age'])"
   ]
  },
  {
   "cell_type": "markdown",
   "id": "4cba51d0",
   "metadata": {},
   "source": [
    "We will drop the outliers."
   ]
  },
  {
   "cell_type": "code",
   "execution_count": 30,
   "id": "9c861bb7",
   "metadata": {},
   "outputs": [
    {
     "name": "stdout",
     "output_type": "stream",
     "text": [
      "25th Percentile: 26.252057417248544\n",
      "50th Percentile: 39.0\n",
      "75th Percentile: 51.0\n",
      "Interquartile Range (IQR): 24.747942582751456\n",
      "Lower Bound = -10.869856456878644, and Upper Bound = 88.12191387412719\n"
     ]
    }
   ],
   "source": [
    "percentile_25 = df['age'].quantile(0.25)\n",
    "percentile_50 = df['age'].quantile(0.5)\n",
    "percentile_75 = df['age'].quantile(0.75)\n",
    "\n",
    "print(\"25th Percentile:\", percentile_25)\n",
    "print(\"50th Percentile:\", percentile_50)\n",
    "print(\"75th Percentile:\", percentile_75)\n",
    "\n",
    "iqr = percentile_75 - percentile_25\n",
    "print(\"Interquartile Range (IQR):\", iqr)\n",
    "\n",
    "LowerBound_age = percentile_25 - 1.5*iqr\n",
    "UpperBound_age = percentile_75 + 1.5*iqr\n",
    "print(f\"Lower Bound = {LowerBound_age}, and Upper Bound = {UpperBound_age}\")"
   ]
  },
  {
   "cell_type": "code",
   "execution_count": 31,
   "id": "a1235069",
   "metadata": {},
   "outputs": [
    {
     "name": "stdout",
     "output_type": "stream",
     "text": [
      "Number of detected outliers is 4 (0.2991772625280479%)\n"
     ]
    }
   ],
   "source": [
    "NumRecordsBefore = df.shape[0]\n",
    "df = df[(df['age'] >= LowerBound_age) & (df['age'] <= UpperBound_age)]\n",
    "NumRecordsAfter = df.shape[0]\n",
    "DroppedRecords = NumRecordsBefore - NumRecordsAfter\n",
    "print(f\"Number of detected outliers is {DroppedRecords} ({100*DroppedRecords/NumRecordsBefore}%)\")"
   ]
  },
  {
   "cell_type": "code",
   "execution_count": 32,
   "id": "f49bb31a",
   "metadata": {},
   "outputs": [
    {
     "data": {
      "text/plain": [
       "<Axes: >"
      ]
     },
     "execution_count": 32,
     "metadata": {},
     "output_type": "execute_result"
    },
    {
     "data": {
      "image/png": "[encoded data removed]",
      "text/plain": [
       "<Figure size 432x288 with 1 Axes>"
      ]
     },
     "metadata": {
      "needs_background": "light"
     },
     "output_type": "display_data"
    }
   ],
   "source": [
    "df.boxplot(column=['children'])"
   ]
  },
  {
   "cell_type": "markdown",
   "id": "61f15076",
   "metadata": {},
   "source": [
    "As shown above, box plot didn't detect any outlier. But we will study if there are relational outliers between age and children"
   ]
  },
  {
   "cell_type": "code",
   "execution_count": 33,
   "id": "811ad90b",
   "metadata": {},
   "outputs": [
    {
     "data": {
      "image/png": "[encoded data removed]",
      "text/plain": [
       "<Figure size 720x432 with 1 Axes>"
      ]
     },
     "metadata": {
      "needs_background": "light"
     },
     "output_type": "display_data"
    }
   ],
   "source": [
    "plt.figure(figsize=(10, 6))\n",
    "sns.scatterplot(data=df, x='age', y='children')\n",
    "plt.title(\"Scatter plot between Age and Children\")\n",
    "plt.show()"
   ]
  },
  {
   "cell_type": "markdown",
   "id": "65f0c048",
   "metadata": {},
   "source": [
    "As we can see, there are very young people with children, which is impossible, so we will drop any row that age is less than 15 and have childrens"
   ]
  },
  {
   "cell_type": "code",
   "execution_count": 34,
   "id": "1b67adea",
   "metadata": {},
   "outputs": [],
   "source": [
    "df = df[~((df['age'] < 16) & (df['children'] > 0))]"
   ]
  },
  {
   "cell_type": "markdown",
   "id": "4fee94aa",
   "metadata": {},
   "source": [
    "We will use Z-score fot `bmi`"
   ]
  },
  {
   "cell_type": "code",
   "execution_count": 35,
   "id": "9b9c0f3b",
   "metadata": {},
   "outputs": [
    {
     "name": "stdout",
     "output_type": "stream",
     "text": [
      "For the height feature, the mean = 31.075203313253002 and standard deviaton = 10.746727722467337 \n",
      "Lower Z-Score = 4.208384007084657, and Upper Z-Score = 57.94202261942135\n"
     ]
    }
   ],
   "source": [
    "mean = df['bmi'].mean()\n",
    "std = df['bmi'].std()\n",
    "print(f\"For the height feature, the mean = {mean} and standard deviaton = {std} \")\n",
    "\n",
    "LowerZScore_bmi = mean - 2.5*std\n",
    "UpperZScore_bmi = mean + 2.5*std\n",
    "print(f\"Lower Z-Score = {LowerZScore_bmi}, and Upper Z-Score = {UpperZScore_bmi}\")"
   ]
  },
  {
   "cell_type": "code",
   "execution_count": 36,
   "id": "78e3bade",
   "metadata": {},
   "outputs": [
    {
     "name": "stdout",
     "output_type": "stream",
     "text": [
      "Number of detected outliers is 11 (0.8283132530120482%)\n"
     ]
    }
   ],
   "source": [
    "NumRecordsBefore = df.shape[0]\n",
    "df = df[(df['bmi'] >= LowerZScore_bmi) & (df['bmi'] <= UpperZScore_bmi)]\n",
    "NumRecordsAfter = df.shape[0]\n",
    "DroppedRecords = NumRecordsBefore - NumRecordsAfter\n",
    "print(f\"Number of detected outliers is {DroppedRecords} ({100*DroppedRecords/NumRecordsBefore}%)\")"
   ]
  },
  {
   "cell_type": "markdown",
   "id": "c8e4a637",
   "metadata": {},
   "source": [
    "For charges, we will use Capping or Winsorizing the charges"
   ]
  },
  {
   "cell_type": "code",
   "execution_count": 37,
   "id": "aa40b9c0",
   "metadata": {},
   "outputs": [],
   "source": [
    "lower = 5\n",
    "upper = 90\n",
    "\n",
    "min_charge = df['charges'].quantile(lower / 100)\n",
    "max_charge = df['charges'].quantile(upper / 100)\n",
    "\n",
    "df['charges_new'] = df['charges'].apply(lambda x: min_charge if x < min_charge else (max_charge if x > max_charge else x))\n"
   ]
  },
  {
   "cell_type": "code",
   "execution_count": 38,
   "id": "94e8b9be",
   "metadata": {},
   "outputs": [
    {
     "data": {
      "text/plain": [
       "<Axes: >"
      ]
     },
     "execution_count": 38,
     "metadata": {},
     "output_type": "execute_result"
    },
    {
     "data": {
      "image/png": "[encoded data removed]",
      "text/plain": [
       "<Figure size 432x288 with 1 Axes>"
      ]
     },
     "metadata": {
      "needs_background": "light"
     },
     "output_type": "display_data"
    }
   ],
   "source": [
    "df.boxplot(column=['charges_new'])"
   ]
  },
  {
   "cell_type": "code",
   "execution_count": 39,
   "id": "93adc4fc",
   "metadata": {},
   "outputs": [],
   "source": [
    "df['charges'] = df['charges_new']\n",
    "df = df.drop('charges_new', axis=1)"
   ]
  },
  {
   "cell_type": "code",
   "execution_count": 42,
   "id": "ae04ceed",
   "metadata": {},
   "outputs": [],
   "source": [
    "df.to_csv('Cleaned_dataset.csv')"
   ]
  },
  {
   "cell_type": "code",
   "execution_count": null,
   "id": "a7b0eb5b",
   "metadata": {},
   "outputs": [],
   "source": []
  }
 ],
 "metadata": {
  "kernelspec": {
   "display_name": "Python 3",
   "language": "python",
   "name": "python3"
  },
  "language_info": {
   "codemirror_mode": {
    "name": "ipython",
    "version": 3
   },
   "file_extension": ".py",
   "mimetype": "text/x-python",
   "name": "python",
   "nbconvert_exporter": "python",
   "pygments_lexer": "ipython3",
   "version": "3.8.8"
  }
 },
 "nbformat": 4,
 "nbformat_minor": 5
}
