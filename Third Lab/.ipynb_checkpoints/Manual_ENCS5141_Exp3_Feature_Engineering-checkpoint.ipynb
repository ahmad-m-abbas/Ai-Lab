{
 "cells": [
  {
   "cell_type": "markdown",
   "metadata": {
    "colab_type": "text",
    "id": "view-in-github"
   },
   "source": [
    "<a href=\"https://colab.research.google.com/github/mkjubran/MANUAL-ENCS5141-INTELLIGENT-SYSTEMS-LAB/blob/main/Manual_ENCS5141_Exp3_Feature_Engineering.ipynb\" target=\"_parent\"><img src=\"https://colab.research.google.com/assets/colab-badge.svg\" alt=\"Open In Colab\"/></a>"
   ]
  },
  {
   "cell_type": "markdown",
   "metadata": {
    "id": "mkRHIvM06yZJ"
   },
   "source": [
    "## EXPLORATORY DATA ANALYSIS – FEATURE SELECTION AND FEATURE ENGINEERING"
   ]
  },
  {
   "cell_type": "markdown",
   "metadata": {
    "id": "pFB412fkroLI"
   },
   "source": [
    "# Experiment #3: Feature Selection and Feature Engineering\n",
    "\n",
    "This experiment focuses on discussing concepts and implementing code snippets to demonstrate various techniques used for feature selection nd feature engineering. These steps are vital in preparing data for machine learning and analysis. Throughout the experiment, you will also work on exercises to apply your knowledge and develop essential skills. The topics that will be discussed in the experiment are\n",
    "\n",
    "## 3.1 Feature Selection\n",
    "3.1.1 Filtering Method using Variance \n",
    "\n",
    "3.1.2 Filtering Method using Information Gain \n",
    "\n",
    "## 3.2 Data Transformation\n",
    "3.2.1 Scalling \\\n",
    "3.3.2 Discreateization \\\n",
    "3.3.3 Encoding \\\n",
    "\n",
    "## 3.3 Handling High-Dimensional Data\n",
    "3.3.1 Principal Component Analysis \\\n",
    "\n",
    "---"
   ]
  },
  {
   "cell_type": "markdown",
   "metadata": {
    "id": "dAAk9et4CHw-"
   },
   "source": [
    "---\n",
    "---\n",
    "\n",
    "<h1><center>Part One</center></h1>\n",
    "\n",
    "---\n",
    "---"
   ]
  },
  {
   "cell_type": "markdown",
   "metadata": {
    "id": "0og2RNis1mWU"
   },
   "source": [
    "# 3.1 Feature Selection\n"
   ]
  },
  {
   "cell_type": "markdown",
   "metadata": {
    "id": "cV8bWUF1KrZD"
   },
   "source": [
    "Feature selection is a critical data preprocessing technique in machine learning that involves choosing a subset of the most relevant features (variables or columns) from a dataset. The goal of feature selection is to improve the performance of machine learning models by reducing the dimensionality of the data, eliminating irrelevant or redundant features, and enhancing model interpretability and generalization. There are several common feature selection methods, which can be categorized into three main types: filter methods, wrapper methods, and embedded methods.\n",
    "*   **Filter Methods** involves using statistical measures to identify and select the most relevant features from a dataset. Some common filter methods for feature selection include:\n",
    "\n",
    "  - **Variance**: This method removes features that have a low variance, which means that they do not vary much across the data. This can help to remove noise and irrelevant features.\n",
    "  - **Information gain**: This method measures the reduction in entropy that is achieved by knowing the value of a feature. It can be used to identify features that are most informative for predicting the target variable.\n",
    "  - **Chi-squared test**: This method is used to test the independence of two variables. It can be used to identify features that are correlated with the target variable, which can be useful for classification and regression tasks.\n",
    "  - **Correlation coefficient**: This method measures the linear relationship between two variables. It can be used to identify features that are highly correlated with each other, which can be removed to reduce multicollinearity.\n",
    "- **Wrapper Methods** are techniques that involve selecting the optimal subset of features by repeatedly training and evaluating the machine learning model with different feature subsets. These methods are called \"wrapper\" methods because they wrap around the machine learning algorithm to find the best feature set based on model performance.Wrapper methods are model-specific, meaning they consider the performance of a specific machine learning algorithm. This can lead to highly relevant feature subsets for that particular algorithm.\n",
    "- **Embedded Methods** are techniques that incorporate feature selection directly into the process of training a machine learning model. Unlike filter methods that evaluate feature relevance independently of the chosen model, and wrapper methods that involve a separate evaluation process, embedded methods select features during the model training process itself. Some common examples of embedded methods are:\n",
    "  - **L1 Regularization (Lasso)**: Penalizes the absolute values of feature coefficients, effectively encouraging sparse feature sets.\n",
    "  - **Tree-Based Methods**: Decision trees and ensemble methods like Random Forest and Gradient Boosting inherently provide feature importance scores based on node impurity or information gain.\n",
    "  - **Linear Support Vector Machines (SVM)**: SVMs can automatically select relevant support vectors, effectively reducing the dimensionality.\n",
    "\n",
    " In this experiment, our primary emphasis will be on filtering methods, while we will explore wrapper and embedded methods in upcoming experiments."
   ]
  },
  {
   "cell_type": "markdown",
   "metadata": {
    "id": "c2JirLv0psC_"
   },
   "source": [
    "## 3.1.1 Filtering Method using Variance\n",
    "To demonstrate the filtering method using the variance threshold, let us start with synthetic data as presented in the code snippet below."
   ]
  },
  {
   "cell_type": "code",
   "execution_count": 2,
   "metadata": {
    "colab": {
     "base_uri": "https://localhost:8080/",
     "height": 206
    },
    "id": "-1p86a0lqGCw",
    "outputId": "e300b85d-0586-47aa-9929-d7a03c9bc357"
   },
   "outputs": [
    {
     "data": {
      "text/html": [
       "<div>\n",
       "<style scoped>\n",
       "    .dataframe tbody tr th:only-of-type {\n",
       "        vertical-align: middle;\n",
       "    }\n",
       "\n",
       "    .dataframe tbody tr th {\n",
       "        vertical-align: top;\n",
       "    }\n",
       "\n",
       "    .dataframe thead th {\n",
       "        text-align: right;\n",
       "    }\n",
       "</style>\n",
       "<table border=\"1\" class=\"dataframe\">\n",
       "  <thead>\n",
       "    <tr style=\"text-align: right;\">\n",
       "      <th></th>\n",
       "      <th>col_1</th>\n",
       "      <th>col_2</th>\n",
       "      <th>col_3</th>\n",
       "    </tr>\n",
       "  </thead>\n",
       "  <tbody>\n",
       "    <tr>\n",
       "      <th>0</th>\n",
       "      <td>1.0</td>\n",
       "      <td>2.4</td>\n",
       "      <td>3.01</td>\n",
       "    </tr>\n",
       "    <tr>\n",
       "      <th>1</th>\n",
       "      <td>1.1</td>\n",
       "      <td>2.2</td>\n",
       "      <td>3.04</td>\n",
       "    </tr>\n",
       "    <tr>\n",
       "      <th>2</th>\n",
       "      <td>1.2</td>\n",
       "      <td>2.1</td>\n",
       "      <td>3.04</td>\n",
       "    </tr>\n",
       "    <tr>\n",
       "      <th>3</th>\n",
       "      <td>1.1</td>\n",
       "      <td>2.6</td>\n",
       "      <td>3.06</td>\n",
       "    </tr>\n",
       "    <tr>\n",
       "      <th>4</th>\n",
       "      <td>1.0</td>\n",
       "      <td>2.5</td>\n",
       "      <td>3.00</td>\n",
       "    </tr>\n",
       "  </tbody>\n",
       "</table>\n",
       "</div>"
      ],
      "text/plain": [
       "   col_1  col_2  col_3\n",
       "0    1.0    2.4   3.01\n",
       "1    1.1    2.2   3.04\n",
       "2    1.2    2.1   3.04\n",
       "3    1.1    2.6   3.06\n",
       "4    1.0    2.5   3.00"
      ]
     },
     "execution_count": 2,
     "metadata": {},
     "output_type": "execute_result"
    }
   ],
   "source": [
    "from sklearn.feature_selection import VarianceThreshold\n",
    "import pandas as pd\n",
    "\n",
    "\n",
    "# Sample dataset with low-variance features\n",
    "data = [[1.0, 2.4, 3.01],\n",
    "     [1.1, 2.2, 3.04],\n",
    "     [1.2, 2.1, 3.04],\n",
    "     [1.1, 2.6, 3.06],\n",
    "     [1.0, 2.5, 3.00],\n",
    "     [1.1, 2.2, 3.01]]\n",
    "\n",
    "columns =['col_1', 'col_2', 'col_3']\n",
    "\n",
    "df = pd.DataFrame(data=data, columns=columns)\n",
    "df.head()\n"
   ]
  },
  {
   "cell_type": "markdown",
   "metadata": {
    "id": "CKFAyGeyqsA_"
   },
   "source": [
    "To assess the variance of individual features and apply the variance-based filtering method, we will employ the **VarianceThreshol()** method from sklearn. This method calculates the variance for each column (feature) and eliminates features with variances below a specified threshold, which we will set to 0 initially, thus retaining all features."
   ]
  },
  {
   "cell_type": "code",
   "execution_count": 3,
   "metadata": {
    "colab": {
     "base_uri": "https://localhost:8080/"
    },
    "id": "F8nyaDvUqyYx",
    "outputId": "5f01f077-2b6c-418d-daa1-d5a54ea52294"
   },
   "outputs": [
    {
     "data": {
      "text/plain": [
       "array([0.00472222, 0.03222222, 0.00045556])"
      ]
     },
     "execution_count": 3,
     "metadata": {},
     "output_type": "execute_result"
    }
   ],
   "source": [
    "from sklearn.feature_selection import VarianceThreshold\n",
    "\n",
    "# Initialize the VarianceThreshold selector with a threshold\n",
    "selector = VarianceThreshold(threshold=0)\n",
    "\n",
    "# Fit the selector to the data\n",
    "selector = selector.fit(df)\n",
    "\n",
    "# Apply the selector to the data\n",
    "df_high_variance = selector.transform(df)\n",
    "\n",
    "# Variance of the data\n",
    "selector.variances_\n"
   ]
  },
  {
   "cell_type": "markdown",
   "metadata": {
    "id": "alz2PQdAtOMO"
   },
   "source": [
    "It's evident that the 'col_3' feature has significantly lower variance in comparison to the other features, and it will be excluded if we establish a threshold value of 0.001."
   ]
  },
  {
   "cell_type": "code",
   "execution_count": 4,
   "metadata": {
    "colab": {
     "base_uri": "https://localhost:8080/"
    },
    "id": "fLpCQBaVtl9D",
    "outputId": "6f85d0d8-b308-4ae7-c3c3-e5ce2abce06f"
   },
   "outputs": [
    {
     "name": "stdout",
     "output_type": "stream",
     "text": [
      "Original Data:\n",
      "   col_1  col_2  col_3\n",
      "0    1.0    2.4   3.01\n",
      "1    1.1    2.2   3.04\n",
      "2    1.2    2.1   3.04\n",
      "3    1.1    2.6   3.06\n",
      "4    1.0    2.5   3.00\n",
      "5    1.1    2.2   3.01\n",
      "Data after VarianceThreshold:\n",
      "[[1.  2.4]\n",
      " [1.1 2.2]\n",
      " [1.2 2.1]\n",
      " [1.1 2.6]\n",
      " [1.  2.5]\n",
      " [1.1 2.2]]\n"
     ]
    }
   ],
   "source": [
    "# Initialize the VarianceThreshold selector with a threshold\n",
    "selector = VarianceThreshold(threshold=0.001)\n",
    "\n",
    "# Fit and apply the selector to the data\n",
    "df_high_variance = selector.fit_transform(df)\n",
    "\n",
    "# Display the original and selected data\n",
    "print(\"Original Data:\")\n",
    "print(df)\n",
    "\n",
    "print(\"Data after VarianceThreshold:\")\n",
    "print(df_high_variance)"
   ]
  },
  {
   "cell_type": "markdown",
   "metadata": {
    "id": "Ot_zVH23lMpC"
   },
   "source": [
    "**Task 3.1**: To understand the variance of a feature, modify the values of both feature **col_3** and feature **col_1** in such a way that, in the previous code snippet with a **0.001** threshold, the **col_3 feature will be retained, while the col_1 feature will be eliminated**.\n"
   ]
  },
  {
   "cell_type": "code",
   "execution_count": 5,
   "metadata": {},
   "outputs": [
    {
     "data": {
      "text/plain": [
       "array([0.00472222, 0.03222222, 0.00045556])"
      ]
     },
     "execution_count": 5,
     "metadata": {},
     "output_type": "execute_result"
    }
   ],
   "source": [
    "selector.variances_"
   ]
  },
  {
   "cell_type": "code",
   "execution_count": 6,
   "metadata": {
    "id": "_M91SU8AmZFU"
   },
   "outputs": [
    {
     "name": "stdout",
     "output_type": "stream",
     "text": [
      "Original Data:\n",
      "   col_1  col_2  col_3\n",
      "0   1.00    2.4   3.01\n",
      "1   1.01    2.2   3.04\n",
      "2   1.02    2.1   3.04\n",
      "3   1.01    2.6   3.06\n",
      "4   1.00    2.5   3.10\n",
      "5   1.01    2.2   3.19\n",
      "Data after VarianceThreshold:\n",
      "[[2.4  3.01]\n",
      " [2.2  3.04]\n",
      " [2.1  3.04]\n",
      " [2.6  3.06]\n",
      " [2.5  3.1 ]\n",
      " [2.2  3.19]]\n"
     ]
    }
   ],
   "source": [
    "#write you code here\n",
    "data = [[1.0, 2.4, 3.01],\n",
    "     [1.01, 2.2, 3.04],\n",
    "     [1.02, 2.1, 3.04],\n",
    "     [1.01, 2.6, 3.06],\n",
    "     [1.0, 2.5, 3.10],\n",
    "     [1.01, 2.2, 3.19]]\n",
    "columns =['col_1', 'col_2', 'col_3']\n",
    "\n",
    "df = pd.DataFrame(data=data, columns=columns)\n",
    "selector = VarianceThreshold(threshold=0.001)\n",
    "\n",
    "df_high_variance = selector.fit_transform(df)\n",
    "print(\"Original Data:\")\n",
    "print(df)\n",
    "\n",
    "print(\"Data after VarianceThreshold:\")\n",
    "print(df_high_variance)"
   ]
  },
  {
   "cell_type": "markdown",
   "metadata": {
    "id": "VaLFJLHS_bUD"
   },
   "source": [
    "To demonstrate the affect of applying the variance threshold filtering method on machine learning, we will implement this approach on the iris dataset. The Iris dataset is a classic and widely used dataset in machine learning and statistics. Within this dataset, there are 150 instances, each featuring 4 continuous, numeric attributes. The target variable, categorized by class, signifies the different Iris species: Iris-setosa, Iris-versicolor, and Iris-virginica. The attributes, also referred to as features, encompass the following dimensions:\n",
    "- Sepal Length (measured in centimeters): This dimension quantifies the length of the sepal, which is the outermost part of the flower.\n",
    "- Sepal Width (measured in centimeters): This dimension specifies the width of the sepal.\n",
    "- Petal Length (measured in centimeters): This dimension characterizes the length of the petal, which constitutes the inner part of the flower.\n",
    "- Petal Width (measured in centimeters): This dimension quantifies the width of the petal.\n",
    "\n",
    "To display images of Iris flowers, run the following code.\n"
   ]
  },
  {
   "cell_type": "code",
   "execution_count": 7,
   "metadata": {
    "colab": {
     "base_uri": "https://localhost:8080/",
     "height": 706
    },
    "id": "TwoTc6a8BbFu",
    "outputId": "3710964b-e0f7-4bbd-9f3d-4d85121731a5"
   },
   "outputs": [
    {
     "data": {
      "image/jpeg": "[encoded data removed]",
      "text/plain": [
       "<IPython.core.display.Image object>"
      ]
     },
     "metadata": {
      "image/jpeg": {
       "height": 200,
       "width": 200
      }
     },
     "output_type": "display_data"
    },
    {
     "name": "stdout",
     "output_type": "stream",
     "text": [
      "Iris Setosa\n",
      "\n"
     ]
    },
    {
     "data": {
      "image/jpeg": "[encoded data removed]",
      "text/plain": [
       "<IPython.core.display.Image object>"
      ]
     },
     "metadata": {
      "image/jpeg": {
       "height": 200,
       "width": 200
      }
     },
     "output_type": "display_data"
    },
    {
     "name": "stdout",
     "output_type": "stream",
     "text": [
      "Iris Versicolor\n",
      "\n"
     ]
    },
    {
     "data": {
      "image/jpeg": "[encoded data removed]",
      "text/plain": [
       "<IPython.core.display.Image object>"
      ]
     },
     "metadata": {
      "image/jpeg": {
       "height": 200,
       "width": 200
      }
     },
     "output_type": "display_data"
    },
    {
     "name": "stdout",
     "output_type": "stream",
     "text": [
      "Iris Virginica\n"
     ]
    }
   ],
   "source": [
    "from IPython.core.display import Image, display\n",
    "display(Image('http://mirlab.org/jang/books/dcpr/image/Iris-setosa-10_1.jpg', width=200, height=200))\n",
    "print (\"Iris Setosa\\n\")\n",
    "\n",
    "display(Image('http://mirlab.org/jang/books/dcpr/image/Iris-versicolor-21_1.jpg', width=200, height=200))\n",
    "print (\"Iris Versicolor\\n\")\n",
    "\n",
    "display(Image('http://mirlab.org/jang/books/dcpr/image/Iris-virginica-3_1.jpg', width=200, height=200))\n",
    "print (\"Iris Virginica\")"
   ]
  },
  {
   "cell_type": "markdown",
   "metadata": {
    "id": "zxi8ehIBCm5M"
   },
   "source": [
    "To import the dataset and display the features of a sample, use the following code."
   ]
  },
  {
   "cell_type": "code",
   "execution_count": 8,
   "metadata": {
    "colab": {
     "base_uri": "https://localhost:8080/",
     "height": 206
    },
    "id": "fCvRonkwAP2H",
    "outputId": "805d7c4a-01d4-43ce-a024-b2d28ae246ad"
   },
   "outputs": [
    {
     "data": {
      "text/html": [
       "<div>\n",
       "<style scoped>\n",
       "    .dataframe tbody tr th:only-of-type {\n",
       "        vertical-align: middle;\n",
       "    }\n",
       "\n",
       "    .dataframe tbody tr th {\n",
       "        vertical-align: top;\n",
       "    }\n",
       "\n",
       "    .dataframe thead th {\n",
       "        text-align: right;\n",
       "    }\n",
       "</style>\n",
       "<table border=\"1\" class=\"dataframe\">\n",
       "  <thead>\n",
       "    <tr style=\"text-align: right;\">\n",
       "      <th></th>\n",
       "      <th>sepal length (cm)</th>\n",
       "      <th>sepal width (cm)</th>\n",
       "      <th>petal length (cm)</th>\n",
       "      <th>petal width (cm)</th>\n",
       "      <th>target</th>\n",
       "    </tr>\n",
       "  </thead>\n",
       "  <tbody>\n",
       "    <tr>\n",
       "      <th>0</th>\n",
       "      <td>5.1</td>\n",
       "      <td>3.5</td>\n",
       "      <td>1.4</td>\n",
       "      <td>0.2</td>\n",
       "      <td>0.0</td>\n",
       "    </tr>\n",
       "    <tr>\n",
       "      <th>1</th>\n",
       "      <td>4.9</td>\n",
       "      <td>3.0</td>\n",
       "      <td>1.4</td>\n",
       "      <td>0.2</td>\n",
       "      <td>0.0</td>\n",
       "    </tr>\n",
       "    <tr>\n",
       "      <th>2</th>\n",
       "      <td>4.7</td>\n",
       "      <td>3.2</td>\n",
       "      <td>1.3</td>\n",
       "      <td>0.2</td>\n",
       "      <td>0.0</td>\n",
       "    </tr>\n",
       "    <tr>\n",
       "      <th>3</th>\n",
       "      <td>4.6</td>\n",
       "      <td>3.1</td>\n",
       "      <td>1.5</td>\n",
       "      <td>0.2</td>\n",
       "      <td>0.0</td>\n",
       "    </tr>\n",
       "    <tr>\n",
       "      <th>4</th>\n",
       "      <td>5.0</td>\n",
       "      <td>3.6</td>\n",
       "      <td>1.4</td>\n",
       "      <td>0.2</td>\n",
       "      <td>0.0</td>\n",
       "    </tr>\n",
       "  </tbody>\n",
       "</table>\n",
       "</div>"
      ],
      "text/plain": [
       "   sepal length (cm)  sepal width (cm)  petal length (cm)  petal width (cm)  \\\n",
       "0                5.1               3.5                1.4               0.2   \n",
       "1                4.9               3.0                1.4               0.2   \n",
       "2                4.7               3.2                1.3               0.2   \n",
       "3                4.6               3.1                1.5               0.2   \n",
       "4                5.0               3.6                1.4               0.2   \n",
       "\n",
       "   target  \n",
       "0     0.0  \n",
       "1     0.0  \n",
       "2     0.0  \n",
       "3     0.0  \n",
       "4     0.0  "
      ]
     },
     "execution_count": 8,
     "metadata": {},
     "output_type": "execute_result"
    }
   ],
   "source": [
    "# Import necessary libraries\n",
    "import pandas as pd\n",
    "from sklearn.datasets import load_iris\n",
    "import numpy as np\n",
    "\n",
    "# Load the Iris dataset\n",
    "data = load_iris()\n",
    "X, y = data.data, data.target\n",
    "\n",
    "# Create a DataFrame to work with the dataset\n",
    "iris_df = pd.DataFrame(data=np.c_[X, y], columns=data.feature_names + ['target'])\n",
    "\n",
    "iris_df.head()"
   ]
  },
  {
   "cell_type": "markdown",
   "metadata": {
    "id": "96sJLL95nIEl"
   },
   "source": [
    "As previously explained, the dataset comprises four features and a label. To obtain the variance of each feature run the following code snippet."
   ]
  },
  {
   "cell_type": "code",
   "execution_count": 9,
   "metadata": {
    "colab": {
     "base_uri": "https://localhost:8080/"
    },
    "id": "t2cC8Pv1mxRy",
    "outputId": "3c2c59f7-b6e3-44fb-a3b0-3ac90db96ef7"
   },
   "outputs": [
    {
     "name": "stdout",
     "output_type": "stream",
     "text": [
      "The variance of each featue: [0.68112222 0.18871289 3.09550267 0.57713289]\n"
     ]
    }
   ],
   "source": [
    "# Apply Variance Threshold\n",
    "selector = VarianceThreshold(threshold=0.3) # the threshold value is set to 0.3\n",
    "X_variance = selector.fit_transform(X)\n",
    "\n",
    "print(f\"The variance of each featue: {selector.variances_}\")"
   ]
  },
  {
   "cell_type": "markdown",
   "metadata": {
    "id": "jNsWy4Asx37g"
   },
   "source": [
    "As observed, the features have varying variance values, and therefore, the feature selection method can be used to eliminate low variance features.\n",
    "\n",
    "To investigate the impact of the variance threshold filtering method on machine learning, we will compare the performance of the machine learning models with and without feature filtering. In this context, we will employ the **train_test_split()** method to partition the dataset into training and testing datasets. Subsequently, we will utilize the training data to train the random forest classifier. Following the training, we will assess both training and testing accuracies (classification correctness). More comprehensive details regarding the random forest classifier and the training and evaluation processes will be discussed in future experiments."
   ]
  },
  {
   "cell_type": "code",
   "execution_count": 10,
   "metadata": {
    "colab": {
     "base_uri": "https://localhost:8080/"
    },
    "id": "0Prog92XvwPE",
    "outputId": "636f8b8e-0822-4af8-f313-8f7ccac5d149"
   },
   "outputs": [
    {
     "name": "stdout",
     "output_type": "stream",
     "text": [
      "The variance of each featue: [0.68778231 0.17381406 2.93484263 0.54638005]\n",
      "Number of original features: 4\n",
      "Number of features after variance threshold filtering: 3\n",
      "Accuracy of Original features (testing accuracy): 1.0\n",
      "Accuracy after variance threshold filtering (testing accuracy): 1.0\n"
     ]
    }
   ],
   "source": [
    "# Import necessary libraries\n",
    "from sklearn.model_selection import train_test_split\n",
    "from sklearn.ensemble import RandomForestClassifier\n",
    "from sklearn.metrics import accuracy_score\n",
    "\n",
    "# Split the dataset into training and testing sets\n",
    "X_train, X_test, y_train, y_test = train_test_split(X, y, test_size=0.3, random_state=42)\n",
    "\n",
    "# Train a classifier on the original features and evaluate\n",
    "clf = RandomForestClassifier(random_state=42)\n",
    "clf.fit(X_train, y_train)\n",
    "y_pred = clf.predict(X_test)\n",
    "accuracy = accuracy_score(y_test, y_pred)\n",
    "\n",
    "# Apply Variance Threshold\n",
    "selector = VarianceThreshold(threshold=0.3)\n",
    "X_train_variance = selector.fit_transform(X_train)\n",
    "X_test_variance = selector.transform(X_test)\n",
    "\n",
    "# Train a classifier on the selected features and evaluate\n",
    "clf = RandomForestClassifier(random_state=42)\n",
    "clf.fit(X_train_variance, y_train)\n",
    "y_pred = clf.predict(X_test_variance)\n",
    "accuracy_variance = accuracy_score(y_test, y_pred)\n",
    "\n",
    "print(f\"The variance of each featue: {selector.variances_}\")\n",
    "print(f\"Number of original features: {X_train.shape[1]}\")\n",
    "print(f\"Number of features after variance threshold filtering: {X_train_variance.shape[1]}\")\n",
    "print(f\"Accuracy of Original features (testing accuracy): {accuracy}\")\n",
    "print(f\"Accuracy after variance threshold filtering (testing accuracy): {accuracy_variance}\")\n"
   ]
  },
  {
   "cell_type": "markdown",
   "metadata": {
    "id": "Uexl2Sr7sU7D"
   },
   "source": [
    "Note that the order of applying feature filtering (feature selection or feature engineering) concerning splitting the dataset into training and testing sets is an important consideration in machine learning workflows. Here are the common approaches:\n",
    "- **Apply Feature Filtering Before Splitting**:\\\n",
    "  *Advantages*:\n",
    "  - Filtering is performed on the entire dataset, ensuring that the selected features are consistent across training and testing sets.\n",
    "  - It can help reduce the risk of data leakage, where information from the testing set inadvertently influences the feature selection process.\n",
    "\n",
    "  *Considerations*:\n",
    "  - Make sure to perform feature selection using only the training data and then apply the same feature selection to the testing data to maintain consistency.\n",
    "\n",
    "- **Apply Feature Filtering After Splitting**: \\\n",
    "  *Advantages*:\n",
    "  - Feature filtering is applied separately to the training and testing sets, which mimics a real-world scenario where you may not have access to the entire dataset during feature selection.\n",
    "  - Reduces the risk of overfitting to the training data during feature selection.\n",
    "\n",
    "  *Considerations*:\n",
    "  - Ensure that the same feature selection criteria or method is applied consistently to both the training and testing sets to maintain fairness in evaluation.\n",
    "\n",
    "The choice between these approaches depends on factors such as the dataset size, the nature of the features, and the risk of data leakage. In practice, both methods can be effective if implemented correctly. In the preceding code snippet, feature filtering is applied prior to dataset splitting."
   ]
  },
  {
   "cell_type": "markdown",
   "metadata": {
    "id": "_tngznDGv0Le"
   },
   "source": [
    "**Task 3.2**: To comprehend the effect of feature filtering using variance threshold on machine learning models, alter the value of the feature selection threshold in the previous code snippet and observe the number of eliminated and retained features, as well as the model's performance before and after feature filtering."
   ]
  },
  {
   "cell_type": "code",
   "execution_count": 11,
   "metadata": {},
   "outputs": [],
   "source": [
    "def threshold_effect(X, y, threshold):\n",
    "    X_train, X_test, y_train, y_test = train_test_split(X, y, test_size=0.2, random_state=42)\n",
    "\n",
    "    clf = RandomForestClassifier(random_state=42)\n",
    "    clf.fit(X_train, y_train)\n",
    "    y_pred = clf.predict(X_test)\n",
    "    accuracy = accuracy_score(y_test, y_pred)\n",
    "\n",
    "    selector = VarianceThreshold(threshold=threshold)\n",
    "    X_train_variance = selector.fit_transform(X_train)\n",
    "    X_test_variance = selector.transform(X_test)\n",
    "\n",
    "    clf = RandomForestClassifier(random_state=42)\n",
    "    clf.fit(X_train_variance, y_train)\n",
    "    y_pred = clf.predict(X_test_variance)\n",
    "    accuracy_variance = accuracy_score(y_test, y_pred)\n",
    "\n",
    "    print(f\"The variance of each featue: {selector.variances_}\")\n",
    "    print(f\"Number of original features: {X_train.shape[1]}\")\n",
    "    print(f\"Number of features after variance threshold filtering: {X_train_variance.shape[1]}\")\n",
    "    print(f\"Accuracy of Original features (testing accuracy): {accuracy}\")\n",
    "    print(f\"Accuracy after variance threshold filtering (testing accuracy): {accuracy_variance}\")\n"
   ]
  },
  {
   "cell_type": "code",
   "execution_count": 12,
   "metadata": {},
   "outputs": [
    {
     "name": "stdout",
     "output_type": "stream",
     "text": [
      "The variance of each featue: [0.67299931 0.20003056 3.04512222 0.56122222]\n",
      "Number of original features: 4\n",
      "Number of features after variance threshold filtering: 4\n",
      "Accuracy of Original features (testing accuracy): 1.0\n",
      "Accuracy after variance threshold filtering (testing accuracy): 1.0\n"
     ]
    }
   ],
   "source": [
    "threshold_effect(X, y, 0.1)"
   ]
  },
  {
   "cell_type": "code",
   "execution_count": 13,
   "metadata": {},
   "outputs": [
    {
     "name": "stdout",
     "output_type": "stream",
     "text": [
      "The variance of each featue: [0.67299931 0.20003056 3.04512222 0.56122222]\n",
      "Number of original features: 4\n",
      "Number of features after variance threshold filtering: 4\n",
      "Accuracy of Original features (testing accuracy): 1.0\n",
      "Accuracy after variance threshold filtering (testing accuracy): 1.0\n"
     ]
    }
   ],
   "source": [
    "threshold_effect(X, y, 0.01)"
   ]
  },
  {
   "cell_type": "code",
   "execution_count": 14,
   "metadata": {},
   "outputs": [
    {
     "name": "stdout",
     "output_type": "stream",
     "text": [
      "The variance of each featue: [0.67299931 0.20003056 3.04512222 0.56122222]\n",
      "Number of original features: 4\n",
      "Number of features after variance threshold filtering: 1\n",
      "Accuracy of Original features (testing accuracy): 1.0\n",
      "Accuracy after variance threshold filtering (testing accuracy): 0.9333333333333333\n"
     ]
    }
   ],
   "source": [
    "threshold_effect(X, y, 3)"
   ]
  },
  {
   "cell_type": "markdown",
   "metadata": {
    "id": "cjY7feYeCLfh"
   },
   "source": [
    "## 3.1.4 Filtering Method using Information Gain"
   ]
  },
  {
   "cell_type": "markdown",
   "metadata": {
    "id": "yrW_j5NMEuj2"
   },
   "source": [
    "Task 3.3: Modify the code snippet in the `Filtering Method using Variance`section to demonstrate feature filtering using Information Gain. To calculate information gain, utilize the SelectKBest() method with the mutual_info_classif function in sklearn."
   ]
  },
  {
   "cell_type": "code",
   "execution_count": 137,
   "metadata": {
    "id": "WcveSfAzEvRM"
   },
   "outputs": [],
   "source": [
    "from sklearn.feature_selection import SelectKBest\n",
    "from sklearn.feature_selection import mutual_info_classif\n",
    "data = load_iris()\n",
    "X, y = data.data, data.target"
   ]
  },
  {
   "cell_type": "code",
   "execution_count": 139,
   "metadata": {},
   "outputs": [],
   "source": [
    "selector = SelectKBest(score_func=mutual_info_classif, k=3)\n",
    "X_new = selector.fit_transform(X, y)"
   ]
  },
  {
   "cell_type": "code",
   "execution_count": 140,
   "metadata": {},
   "outputs": [
    {
     "name": "stdout",
     "output_type": "stream",
     "text": [
      "X shape (150, 4) and X_new shape: (150, 3)\n"
     ]
    }
   ],
   "source": [
    "print(f\"X shape {X.shape} and X_new shape: {X_new.shape}\")"
   ]
  },
  {
   "cell_type": "code",
   "execution_count": 141,
   "metadata": {},
   "outputs": [
    {
     "name": "stdout",
     "output_type": "stream",
     "text": [
      "Selected Feature Indices: [0 2 3]\n",
      "Information Gain Scores for All Features:\n",
      "Feature 0: 0.4692\n",
      "Feature 1: 0.2098\n",
      "Feature 2: 0.9949\n",
      "Feature 3: 0.9843\n"
     ]
    }
   ],
   "source": [
    "selected_feature_indices = selector.get_support(indices=True)\n",
    "\n",
    "print(\"Selected Feature Indices:\", selected_feature_indices)\n",
    "\n",
    "for i, score in enumerate(selector.scores_):\n",
    "    print(f\"Feature {i}: {score:.4f}\")"
   ]
  },
  {
   "cell_type": "markdown",
   "metadata": {
    "id": "wfBshSnFE4ri"
   },
   "source": [
    "## Filtering Methods **Task 3.4**\n",
    "In this task, you will compare different feature selection techniques. You will apply these techniques to a modified version of the Pima Indians Diabetes Database from Kaggle (https://www.kaggle.com/datasets/uciml/pima-indians-diabetes-database). This dataset is originally from the Indian Institute of Diabetes and Digestive and Kidney Diseases. The dataset's objective is to predict, based on certain diagnostic measurements, whether a patient has diabetes or not. The Diabetes dataset is stored in a file named **ENCS5141_Exp3_Diabetes.csv**, which can be found in the GitHub repository located at https://github.com/mkjubran/ENCS5141Datasets.\n",
    "\n",
    "After cloning the repository using the code below, apply the following procedure to solve the task:\n",
    "\n",
    "1. Read the dataset from the ENCS5141_Exp3_Diabetes.csv file.\n",
    "2. Apply the Random Forest classifier to the original dataset and measure the classification (testing) accuracy.\n",
    "3. Utilize the four feature filtering methods mentioned previously for feature selection, then apply the Random Forest classifier to the selected features, and measure the testing accuracies for each method.\n",
    "4. Experiment with varying the parameters of each feature filtering method and observe the effect on the classification accuracy of the Random Forest classifier."
   ]
  },
  {
   "cell_type": "code",
   "execution_count": 16,
   "metadata": {
    "colab": {
     "base_uri": "https://localhost:8080/"
    },
    "id": "s134_jeCG8Sk",
    "outputId": "0aa5e1a3-6b8d-42ef-cbf2-a4d852889800"
   },
   "outputs": [
    {
     "name": "stderr",
     "output_type": "stream",
     "text": [
      "'rm' is not recognized as an internal or external command,\n",
      "operable program or batch file.\n",
      "Cloning into 'ENCS5141Datasets'...\n"
     ]
    }
   ],
   "source": [
    "!rm -rf ./ENCS5141Datasets\n",
    "!git clone https://github.com/mkjubran/ENCS5141Datasets.git"
   ]
  },
  {
   "cell_type": "code",
   "execution_count": 194,
   "metadata": {},
   "outputs": [],
   "source": [
    "from sklearn.model_selection import cross_val_score\n",
    "\n",
    "def random_forest(X, y):\n",
    "    X_train, X_test, y_train, y_test = train_test_split(X, y, test_size=0.2, random_state=42)\n",
    "    \n",
    "    clf = RandomForestClassifier(random_state=42)\n",
    "    clf.fit(X_train, y_train)\n",
    "    y_pred = clf.predict(X_test)\n",
    "    accuracy = accuracy_score(y_test, y_pred)\n",
    "    \n",
    "    clf = RandomForestClassifier(random_state=0)\n",
    "    scores = cross_val_score(clf, X, y, cv=5)\n",
    "    \n",
    "    print(f\"Accuracy: {accuracy}\")\n",
    "    \n",
    "    print(\"Cross-Validation Scores:\", scores)\n",
    "    print(\"Mean Accuracy:\", scores.mean())\n",
    "    return y_test, y_pred\n"
   ]
  },
  {
   "cell_type": "code",
   "execution_count": 195,
   "metadata": {},
   "outputs": [
    {
     "name": "stdout",
     "output_type": "stream",
     "text": [
      "Accuracy: 0.7532467532467533\n",
      "Cross-Validation Scores: [0.74025974 0.72727273 0.75324675 0.81045752 0.77777778]\n",
      "Mean Accuracy: 0.7618029029793736\n"
     ]
    }
   ],
   "source": [
    "X, y = df.loc[:, df.columns != 'Outcome'], df['Outcome']\n",
    "X_train, X_test, y_train, y_test = train_test_split(X, df['Outcome'], test_size=0.2, random_state=42)\n",
    "\n",
    "a, b = random_forest(X, y)"
   ]
  },
  {
   "cell_type": "code",
   "execution_count": 196,
   "metadata": {},
   "outputs": [
    {
     "data": {
      "text/plain": [
       "(768, 9)"
      ]
     },
     "execution_count": 196,
     "metadata": {},
     "output_type": "execute_result"
    }
   ],
   "source": [
    "X.shape"
   ]
  },
  {
   "cell_type": "code",
   "execution_count": 197,
   "metadata": {},
   "outputs": [],
   "source": [
    "from sklearn.feature_selection import chi2\n",
    "\n",
    "def chi_filter(X, y, number_of_features = 7):\n",
    "    selector = SelectKBest(score_func=mutual_info_classif, k=number_of_features)\n",
    "    X_new = selector.fit_transform(X, y)\n",
    "    print(f\"The new shape {X_new.shape}\")\n",
    "    random_forest(X_new, y)"
   ]
  },
  {
   "cell_type": "code",
   "execution_count": 198,
   "metadata": {},
   "outputs": [
    {
     "name": "stdout",
     "output_type": "stream",
     "text": [
      "The new shape (768, 7)\n",
      "Accuracy: 0.7597402597402597\n",
      "Cross-Validation Scores: [0.74675325 0.74675325 0.75324675 0.83006536 0.73856209]\n",
      "Mean Accuracy: 0.7630761395467278\n"
     ]
    }
   ],
   "source": [
    "chi_filter(X, y)"
   ]
  },
  {
   "cell_type": "code",
   "execution_count": 199,
   "metadata": {},
   "outputs": [
    {
     "name": "stdout",
     "output_type": "stream",
     "text": [
      "The new shape (768, 4)\n",
      "Accuracy: 0.7337662337662337\n",
      "Cross-Validation Scores: [0.74025974 0.71428571 0.74675325 0.79738562 0.7124183 ]\n",
      "Mean Accuracy: 0.7422205245734658\n"
     ]
    }
   ],
   "source": [
    "chi_filter(X, y, 4)"
   ]
  },
  {
   "cell_type": "code",
   "execution_count": 200,
   "metadata": {},
   "outputs": [
    {
     "name": "stdout",
     "output_type": "stream",
     "text": [
      "The new shape (768, 3)\n",
      "Accuracy: 0.7337662337662337\n",
      "Cross-Validation Scores: [0.73376623 0.70779221 0.75974026 0.81045752 0.73202614]\n",
      "Mean Accuracy: 0.748756472285884\n"
     ]
    }
   ],
   "source": [
    "chi_filter(X, y, 3)"
   ]
  },
  {
   "cell_type": "code",
   "execution_count": 201,
   "metadata": {},
   "outputs": [
    {
     "name": "stdout",
     "output_type": "stream",
     "text": [
      "The new shape (768, 1)\n",
      "Accuracy: 0.6753246753246753\n",
      "Cross-Validation Scores: [0.7012987  0.66883117 0.66233766 0.75163399 0.75816993]\n",
      "Mean Accuracy: 0.708454290807232\n"
     ]
    }
   ],
   "source": [
    "chi_filter(X, y, 1)"
   ]
  },
  {
   "cell_type": "code",
   "execution_count": 202,
   "metadata": {},
   "outputs": [],
   "source": [
    "from sklearn.feature_selection import f_classif\n",
    "\n",
    "def corr_filter(X, y, k = 7):\n",
    "    selector = SelectKBest(f_classif, k=k)\n",
    "    X_corr_selected = selector.fit_transform(X_train, y_train)\n",
    "    X_new = selector.fit_transform(X, y)\n",
    "    print(f\"The new shape {X_new.shape}\")\n",
    "    random_forest(X_new, y)"
   ]
  },
  {
   "cell_type": "code",
   "execution_count": 203,
   "metadata": {},
   "outputs": [
    {
     "name": "stdout",
     "output_type": "stream",
     "text": [
      "The new shape (768, 7)\n",
      "Accuracy: 0.7597402597402597\n",
      "Cross-Validation Scores: [0.74675325 0.74675325 0.75324675 0.83006536 0.73856209]\n",
      "Mean Accuracy: 0.7630761395467278\n"
     ]
    }
   ],
   "source": [
    "corr_filter(X, y)"
   ]
  },
  {
   "cell_type": "code",
   "execution_count": 204,
   "metadata": {},
   "outputs": [
    {
     "name": "stdout",
     "output_type": "stream",
     "text": [
      "The new shape (768, 1)\n",
      "Accuracy: 0.6753246753246753\n",
      "Cross-Validation Scores: [0.7012987  0.66883117 0.66233766 0.75163399 0.75816993]\n",
      "Mean Accuracy: 0.708454290807232\n"
     ]
    }
   ],
   "source": [
    "corr_filter(X, y, 1)"
   ]
  },
  {
   "cell_type": "code",
   "execution_count": 205,
   "metadata": {},
   "outputs": [],
   "source": [
    "from sklearn.linear_model import LogisticRegression\n",
    "from sklearn.feature_selection import SelectFromModel\n",
    "\n",
    "def embedded(X, y, penalty='l1', solver='liblinear'):\n",
    "    lr = LogisticRegression(penalty=penalty, solver=solver, random_state=0)\n",
    "    lr.fit(X, y)\n",
    "    sfm = SelectFromModel(lr)\n",
    "    sfm.fit(X, y)\n",
    "    X_new = sfm.transform(X)\n",
    "    print(f\"The new shape {X_new.shape}\")\n",
    "    random_forest(X_new, y)"
   ]
  },
  {
   "cell_type": "code",
   "execution_count": 206,
   "metadata": {},
   "outputs": [
    {
     "name": "stdout",
     "output_type": "stream",
     "text": [
      "The new shape (768, 9)\n",
      "Accuracy: 0.7532467532467533\n",
      "Cross-Validation Scores: [0.74025974 0.72727273 0.75324675 0.81045752 0.77777778]\n",
      "Mean Accuracy: 0.7618029029793736\n"
     ]
    }
   ],
   "source": [
    "embedded(X, y)"
   ]
  },
  {
   "cell_type": "code",
   "execution_count": 207,
   "metadata": {},
   "outputs": [
    {
     "name": "stdout",
     "output_type": "stream",
     "text": [
      "The new shape (768, 2)\n",
      "Accuracy: 0.5909090909090909\n",
      "Cross-Validation Scores: [0.58441558 0.62987013 0.53896104 0.60784314 0.58169935]\n",
      "Mean Accuracy: 0.5885578473813768\n"
     ]
    }
   ],
   "source": [
    "embedded(X, y, 'l2')"
   ]
  },
  {
   "cell_type": "code",
   "execution_count": 208,
   "metadata": {},
   "outputs": [
    {
     "name": "stdout",
     "output_type": "stream",
     "text": [
      "The new shape (768, 1)\n",
      "Accuracy: 0.5194805194805194\n",
      "Cross-Validation Scores: [0.53246753 0.57142857 0.53896104 0.58169935 0.5620915 ]\n",
      "Mean Accuracy: 0.5573295985060691\n"
     ]
    }
   ],
   "source": [
    "embedded(X, y, 'l2', 'newton-cg')"
   ]
  },
  {
   "cell_type": "code",
   "execution_count": 209,
   "metadata": {},
   "outputs": [],
   "source": [
    "from sklearn.feature_selection import RFE\n",
    "def RFE_selecion(clf, X, y, k=5):\n",
    "\n",
    "    rfe = RFE(estimator=clf, n_features_to_select=k)\n",
    "    rfe.fit(X, y)\n",
    "    X_new = rfe.transform(X)\n",
    "    print(f\"The new shape {X_new.shape}\")\n",
    "    random_forest(X_new, y)"
   ]
  },
  {
   "cell_type": "code",
   "execution_count": 210,
   "metadata": {},
   "outputs": [
    {
     "name": "stderr",
     "output_type": "stream",
     "text": [
      "C:\\Users\\Watani Mall\\anaconda3\\lib\\site-packages\\sklearn\\linear_model\\_logistic.py:763: ConvergenceWarning: lbfgs failed to converge (status=1):\n",
      "STOP: TOTAL NO. of ITERATIONS REACHED LIMIT.\n",
      "\n",
      "Increase the number of iterations (max_iter) or scale the data as shown in:\n",
      "    https://scikit-learn.org/stable/modules/preprocessing.html\n",
      "Please also refer to the documentation for alternative solver options:\n",
      "    https://scikit-learn.org/stable/modules/linear_model.html#logistic-regression\n",
      "  n_iter_i = _check_optimize_result(\n",
      "C:\\Users\\Watani Mall\\anaconda3\\lib\\site-packages\\sklearn\\linear_model\\_logistic.py:763: ConvergenceWarning: lbfgs failed to converge (status=1):\n",
      "STOP: TOTAL NO. of ITERATIONS REACHED LIMIT.\n",
      "\n",
      "Increase the number of iterations (max_iter) or scale the data as shown in:\n",
      "    https://scikit-learn.org/stable/modules/preprocessing.html\n",
      "Please also refer to the documentation for alternative solver options:\n",
      "    https://scikit-learn.org/stable/modules/linear_model.html#logistic-regression\n",
      "  n_iter_i = _check_optimize_result(\n"
     ]
    },
    {
     "name": "stdout",
     "output_type": "stream",
     "text": [
      "The new shape (768, 5)\n",
      "Accuracy: 0.7857142857142857\n",
      "Cross-Validation Scores: [0.74675325 0.74025974 0.75974026 0.79738562 0.71895425]\n",
      "Mean Accuracy: 0.7526186232068586\n"
     ]
    }
   ],
   "source": [
    "clf = LogisticRegression(random_state=0)\n",
    "RFE_selecion(clf, X, y, k=5)"
   ]
  },
  {
   "cell_type": "code",
   "execution_count": 211,
   "metadata": {},
   "outputs": [
    {
     "name": "stdout",
     "output_type": "stream",
     "text": [
      "The new shape (768, 1)\n",
      "Accuracy: 0.6753246753246753\n",
      "Cross-Validation Scores: [0.7012987  0.66883117 0.66233766 0.75163399 0.75816993]\n",
      "Mean Accuracy: 0.708454290807232\n"
     ]
    }
   ],
   "source": [
    "clf = RandomForestClassifier(random_state=0)\n",
    "RFE_selecion(clf, X, y, k=1)"
   ]
  },
  {
   "cell_type": "markdown",
   "metadata": {
    "id": "UzrzNdSYKiqc"
   },
   "source": [
    "\n",
    "# 3.2 Data Transformation\n"
   ]
  },
  {
   "cell_type": "markdown",
   "metadata": {
    "id": "fPwH-Cv7LijH"
   },
   "source": [
    "Data Transformation is a crucial step in the data preprocessing phase of machine learning. It involves a series of operations aimed at preparing raw data into a format that is suitable for training and evaluating machine learning models. Data transformation encompasses several key processes, including scaling, normalization, discretization, and encoding, each serving its purpose in enhancing the quality and usability of the data. Here's a description of these data transformation techniques:\n",
    "\n",
    "- **Scaling**: This method involves transforming numerical features to a common scale without changing their relative relationships. This is particularly important for algorithms that are sensitive to the magnitude of features. Scaling is applied to ensure that no single feature dominates the learning process due to its larger magnitude. The Min-Max scaling is a commonly used method in which features are scaled to a specific range, often [0, 1]. The standardization is another type of scaling that transforms numerical features to have a a zero mean and unity variance (mean=0, standard deviation=1).\n",
    "\n",
    "- **Discretization**: This method involves converting continuous numerical data into discrete categories or bins. This is particularly useful when you want to transform numeric data into categorical or ordinal data. Discretization can simplify complex numerical data and make it suitable for algorithms that work with categorical or ordinal features. Some common techniques include equal-width binning (dividing the data into equal-width intervals) and equal-frequency binning (ensuring each bin contains approximately the same number of data points).\n",
    "\n",
    "- **Encoding**: Encoding is the process of converting categorical data (text or labels) into a numerical format that machine learning models can understand. It allows algorithms to work with non-numeric data Some common encoding methods include **one-hot encoding** (creating binary columns for each category), **label encoding** (assigning a unique integer to each category), and **ordinal encoding** (mapping ordinal categories to numerical values)."
   ]
  },
  {
   "cell_type": "markdown",
   "metadata": {
    "id": "cSjUJUxTOkY1"
   },
   "source": [
    "## 3.2.1 Scaling"
   ]
  },
  {
   "cell_type": "markdown",
   "metadata": {
    "id": "kOxE-CruoGm1"
   },
   "source": [
    "To demonstrate the Scaling method, let us start with synthetic data as presented in the code snippet below."
   ]
  },
  {
   "cell_type": "code",
   "execution_count": 218,
   "metadata": {
    "colab": {
     "base_uri": "https://localhost:8080/",
     "height": 206
    },
    "id": "8TK6gRX5OvlC",
    "outputId": "52ce0147-1047-498a-9887-de0bef19c0f0"
   },
   "outputs": [
    {
     "data": {
      "text/html": [
       "<div>\n",
       "<style scoped>\n",
       "    .dataframe tbody tr th:only-of-type {\n",
       "        vertical-align: middle;\n",
       "    }\n",
       "\n",
       "    .dataframe tbody tr th {\n",
       "        vertical-align: top;\n",
       "    }\n",
       "\n",
       "    .dataframe thead th {\n",
       "        text-align: right;\n",
       "    }\n",
       "</style>\n",
       "<table border=\"1\" class=\"dataframe\">\n",
       "  <thead>\n",
       "    <tr style=\"text-align: right;\">\n",
       "      <th></th>\n",
       "      <th>A</th>\n",
       "      <th>B</th>\n",
       "      <th>C</th>\n",
       "      <th>D</th>\n",
       "    </tr>\n",
       "  </thead>\n",
       "  <tbody>\n",
       "    <tr>\n",
       "      <th>0</th>\n",
       "      <td>-0.111255</td>\n",
       "      <td>-2.497166</td>\n",
       "      <td>0.593042</td>\n",
       "      <td>3.022834</td>\n",
       "    </tr>\n",
       "    <tr>\n",
       "      <th>1</th>\n",
       "      <td>1.090978</td>\n",
       "      <td>4.397442</td>\n",
       "      <td>0.516128</td>\n",
       "      <td>9.591722</td>\n",
       "    </tr>\n",
       "    <tr>\n",
       "      <th>2</th>\n",
       "      <td>-0.650264</td>\n",
       "      <td>5.666084</td>\n",
       "      <td>0.200893</td>\n",
       "      <td>3.033323</td>\n",
       "    </tr>\n",
       "    <tr>\n",
       "      <th>3</th>\n",
       "      <td>1.226630</td>\n",
       "      <td>-3.255992</td>\n",
       "      <td>0.621498</td>\n",
       "      <td>8.690421</td>\n",
       "    </tr>\n",
       "    <tr>\n",
       "      <th>4</th>\n",
       "      <td>-1.499794</td>\n",
       "      <td>2.485799</td>\n",
       "      <td>0.871751</td>\n",
       "      <td>0.932207</td>\n",
       "    </tr>\n",
       "  </tbody>\n",
       "</table>\n",
       "</div>"
      ],
      "text/plain": [
       "          A         B         C         D\n",
       "0 -0.111255 -2.497166  0.593042  3.022834\n",
       "1  1.090978  4.397442  0.516128  9.591722\n",
       "2 -0.650264  5.666084  0.200893  3.033323\n",
       "3  1.226630 -3.255992  0.621498  8.690421\n",
       "4 -1.499794  2.485799  0.871751  0.932207"
      ]
     },
     "execution_count": 218,
     "metadata": {},
     "output_type": "execute_result"
    }
   ],
   "source": [
    "import numpy as np\n",
    "import pandas as pd\n",
    "\n",
    "#To generate an array of floating numbers between -2 and 2\n",
    "A = np.random.random(1000)*4 - 2\n",
    "\n",
    "#To generate an array of floating numbers between -10 and 10\n",
    "B = np.random.random(1000)*20 - 10\n",
    "\n",
    "#To generate an array of floating numbers between 0 and 1\n",
    "C = np.random.random(1000)\n",
    "\n",
    "#To generate an array of floating numbers between 0 and 10\n",
    "D = np.random.random(1000)*10\n",
    "\n",
    "df = pd.DataFrame({'A':A,'B':B,'C':C,'D':D})\n",
    "df.head()"
   ]
  },
  {
   "cell_type": "markdown",
   "metadata": {
    "id": "xFoLXxSSbJ8r"
   },
   "source": [
    "Let's also display some statistics about this synthetic data."
   ]
  },
  {
   "cell_type": "code",
   "execution_count": 219,
   "metadata": {
    "colab": {
     "base_uri": "https://localhost:8080/",
     "height": 300
    },
    "id": "66NXIgM4bKhh",
    "outputId": "cc8c1ba1-b900-4dd1-c680-99ed13b5e201"
   },
   "outputs": [
    {
     "data": {
      "text/html": [
       "<div>\n",
       "<style scoped>\n",
       "    .dataframe tbody tr th:only-of-type {\n",
       "        vertical-align: middle;\n",
       "    }\n",
       "\n",
       "    .dataframe tbody tr th {\n",
       "        vertical-align: top;\n",
       "    }\n",
       "\n",
       "    .dataframe thead th {\n",
       "        text-align: right;\n",
       "    }\n",
       "</style>\n",
       "<table border=\"1\" class=\"dataframe\">\n",
       "  <thead>\n",
       "    <tr style=\"text-align: right;\">\n",
       "      <th></th>\n",
       "      <th>A</th>\n",
       "      <th>B</th>\n",
       "      <th>C</th>\n",
       "      <th>D</th>\n",
       "    </tr>\n",
       "  </thead>\n",
       "  <tbody>\n",
       "    <tr>\n",
       "      <th>count</th>\n",
       "      <td>1000.000000</td>\n",
       "      <td>1000.000000</td>\n",
       "      <td>1000.000000</td>\n",
       "      <td>1000.000000</td>\n",
       "    </tr>\n",
       "    <tr>\n",
       "      <th>mean</th>\n",
       "      <td>0.015090</td>\n",
       "      <td>-0.175929</td>\n",
       "      <td>0.505890</td>\n",
       "      <td>4.949743</td>\n",
       "    </tr>\n",
       "    <tr>\n",
       "      <th>std</th>\n",
       "      <td>1.158793</td>\n",
       "      <td>5.903400</td>\n",
       "      <td>0.289547</td>\n",
       "      <td>2.896564</td>\n",
       "    </tr>\n",
       "    <tr>\n",
       "      <th>min</th>\n",
       "      <td>-1.990145</td>\n",
       "      <td>-9.990752</td>\n",
       "      <td>0.000786</td>\n",
       "      <td>0.015064</td>\n",
       "    </tr>\n",
       "    <tr>\n",
       "      <th>25%</th>\n",
       "      <td>-1.003174</td>\n",
       "      <td>-5.465846</td>\n",
       "      <td>0.250816</td>\n",
       "      <td>2.457409</td>\n",
       "    </tr>\n",
       "    <tr>\n",
       "      <th>50%</th>\n",
       "      <td>0.042026</td>\n",
       "      <td>-0.354836</td>\n",
       "      <td>0.508713</td>\n",
       "      <td>4.911179</td>\n",
       "    </tr>\n",
       "    <tr>\n",
       "      <th>75%</th>\n",
       "      <td>1.021109</td>\n",
       "      <td>4.922015</td>\n",
       "      <td>0.761660</td>\n",
       "      <td>7.473407</td>\n",
       "    </tr>\n",
       "    <tr>\n",
       "      <th>max</th>\n",
       "      <td>1.999506</td>\n",
       "      <td>9.955135</td>\n",
       "      <td>0.999656</td>\n",
       "      <td>9.993029</td>\n",
       "    </tr>\n",
       "  </tbody>\n",
       "</table>\n",
       "</div>"
      ],
      "text/plain": [
       "                 A            B            C            D\n",
       "count  1000.000000  1000.000000  1000.000000  1000.000000\n",
       "mean      0.015090    -0.175929     0.505890     4.949743\n",
       "std       1.158793     5.903400     0.289547     2.896564\n",
       "min      -1.990145    -9.990752     0.000786     0.015064\n",
       "25%      -1.003174    -5.465846     0.250816     2.457409\n",
       "50%       0.042026    -0.354836     0.508713     4.911179\n",
       "75%       1.021109     4.922015     0.761660     7.473407\n",
       "max       1.999506     9.955135     0.999656     9.993029"
      ]
     },
     "execution_count": 219,
     "metadata": {},
     "output_type": "execute_result"
    }
   ],
   "source": [
    "df.describe()"
   ]
  },
  {
   "cell_type": "markdown",
   "metadata": {
    "id": "5A-wlhH3awVb"
   },
   "source": [
    "As can be observed, the range of values for each feature is different. To scale the data, we will use the **MinMaxScaler()** from sklearn. This method takes the intended minimum and maximum values of the scaled data as a tuple argument (min, max), which is set to (0, 1) by default."
   ]
  },
  {
   "cell_type": "code",
   "execution_count": 220,
   "metadata": {
    "colab": {
     "base_uri": "https://localhost:8080/",
     "height": 300
    },
    "id": "FoSCR9URa-bS",
    "outputId": "6f4ef408-b06a-447f-b344-d88da03fd9fd"
   },
   "outputs": [
    {
     "data": {
      "text/html": [
       "<div>\n",
       "<style scoped>\n",
       "    .dataframe tbody tr th:only-of-type {\n",
       "        vertical-align: middle;\n",
       "    }\n",
       "\n",
       "    .dataframe tbody tr th {\n",
       "        vertical-align: top;\n",
       "    }\n",
       "\n",
       "    .dataframe thead th {\n",
       "        text-align: right;\n",
       "    }\n",
       "</style>\n",
       "<table border=\"1\" class=\"dataframe\">\n",
       "  <thead>\n",
       "    <tr style=\"text-align: right;\">\n",
       "      <th></th>\n",
       "      <th>A</th>\n",
       "      <th>B</th>\n",
       "      <th>C</th>\n",
       "      <th>D</th>\n",
       "    </tr>\n",
       "  </thead>\n",
       "  <tbody>\n",
       "    <tr>\n",
       "      <th>count</th>\n",
       "      <td>1000.000000</td>\n",
       "      <td>1000.000000</td>\n",
       "      <td>1000.000000</td>\n",
       "      <td>1000.000000</td>\n",
       "    </tr>\n",
       "    <tr>\n",
       "      <th>mean</th>\n",
       "      <td>0.502609</td>\n",
       "      <td>0.492073</td>\n",
       "      <td>0.505675</td>\n",
       "      <td>0.494558</td>\n",
       "    </tr>\n",
       "    <tr>\n",
       "      <th>std</th>\n",
       "      <td>0.290450</td>\n",
       "      <td>0.295971</td>\n",
       "      <td>0.289875</td>\n",
       "      <td>0.290296</td>\n",
       "    </tr>\n",
       "    <tr>\n",
       "      <th>min</th>\n",
       "      <td>0.000000</td>\n",
       "      <td>0.000000</td>\n",
       "      <td>0.000000</td>\n",
       "      <td>0.000000</td>\n",
       "    </tr>\n",
       "    <tr>\n",
       "      <th>25%</th>\n",
       "      <td>0.247383</td>\n",
       "      <td>0.226859</td>\n",
       "      <td>0.250312</td>\n",
       "      <td>0.244774</td>\n",
       "    </tr>\n",
       "    <tr>\n",
       "      <th>50%</th>\n",
       "      <td>0.509361</td>\n",
       "      <td>0.483103</td>\n",
       "      <td>0.508501</td>\n",
       "      <td>0.490693</td>\n",
       "    </tr>\n",
       "    <tr>\n",
       "      <th>75%</th>\n",
       "      <td>0.754766</td>\n",
       "      <td>0.747661</td>\n",
       "      <td>0.761735</td>\n",
       "      <td>0.747481</td>\n",
       "    </tr>\n",
       "    <tr>\n",
       "      <th>max</th>\n",
       "      <td>1.000000</td>\n",
       "      <td>1.000000</td>\n",
       "      <td>1.000000</td>\n",
       "      <td>1.000000</td>\n",
       "    </tr>\n",
       "  </tbody>\n",
       "</table>\n",
       "</div>"
      ],
      "text/plain": [
       "                 A            B            C            D\n",
       "count  1000.000000  1000.000000  1000.000000  1000.000000\n",
       "mean      0.502609     0.492073     0.505675     0.494558\n",
       "std       0.290450     0.295971     0.289875     0.290296\n",
       "min       0.000000     0.000000     0.000000     0.000000\n",
       "25%       0.247383     0.226859     0.250312     0.244774\n",
       "50%       0.509361     0.483103     0.508501     0.490693\n",
       "75%       0.754766     0.747661     0.761735     0.747481\n",
       "max       1.000000     1.000000     1.000000     1.000000"
      ]
     },
     "execution_count": 220,
     "metadata": {},
     "output_type": "execute_result"
    }
   ],
   "source": [
    "from sklearn.preprocessing import MinMaxScaler\n",
    "scaler = MinMaxScaler()\n",
    "scaler.fit(df)\n",
    "data = scaler.transform(df)\n",
    "df_scaler = pd.DataFrame(data,columns=list('ABCD'))\n",
    "df_scaler.describe()"
   ]
  },
  {
   "cell_type": "code",
   "execution_count": 222,
   "metadata": {},
   "outputs": [
    {
     "data": {
      "text/html": [
       "<div>\n",
       "<style scoped>\n",
       "    .dataframe tbody tr th:only-of-type {\n",
       "        vertical-align: middle;\n",
       "    }\n",
       "\n",
       "    .dataframe tbody tr th {\n",
       "        vertical-align: top;\n",
       "    }\n",
       "\n",
       "    .dataframe thead th {\n",
       "        text-align: right;\n",
       "    }\n",
       "</style>\n",
       "<table border=\"1\" class=\"dataframe\">\n",
       "  <thead>\n",
       "    <tr style=\"text-align: right;\">\n",
       "      <th></th>\n",
       "      <th>A</th>\n",
       "      <th>B</th>\n",
       "      <th>C</th>\n",
       "      <th>D</th>\n",
       "    </tr>\n",
       "  </thead>\n",
       "  <tbody>\n",
       "    <tr>\n",
       "      <th>0</th>\n",
       "      <td>0.470941</td>\n",
       "      <td>0.375696</td>\n",
       "      <td>0.592927</td>\n",
       "      <td>0.301441</td>\n",
       "    </tr>\n",
       "    <tr>\n",
       "      <th>1</th>\n",
       "      <td>0.772279</td>\n",
       "      <td>0.721361</td>\n",
       "      <td>0.515925</td>\n",
       "      <td>0.959781</td>\n",
       "    </tr>\n",
       "    <tr>\n",
       "      <th>2</th>\n",
       "      <td>0.335839</td>\n",
       "      <td>0.784966</td>\n",
       "      <td>0.200333</td>\n",
       "      <td>0.302492</td>\n",
       "    </tr>\n",
       "    <tr>\n",
       "      <th>3</th>\n",
       "      <td>0.806280</td>\n",
       "      <td>0.337652</td>\n",
       "      <td>0.621414</td>\n",
       "      <td>0.869452</td>\n",
       "    </tr>\n",
       "    <tr>\n",
       "      <th>4</th>\n",
       "      <td>0.122906</td>\n",
       "      <td>0.625520</td>\n",
       "      <td>0.871951</td>\n",
       "      <td>0.091917</td>\n",
       "    </tr>\n",
       "  </tbody>\n",
       "</table>\n",
       "</div>"
      ],
      "text/plain": [
       "          A         B         C         D\n",
       "0  0.470941  0.375696  0.592927  0.301441\n",
       "1  0.772279  0.721361  0.515925  0.959781\n",
       "2  0.335839  0.784966  0.200333  0.302492\n",
       "3  0.806280  0.337652  0.621414  0.869452\n",
       "4  0.122906  0.625520  0.871951  0.091917"
      ]
     },
     "execution_count": 222,
     "metadata": {},
     "output_type": "execute_result"
    }
   ],
   "source": [
    "df_scaler.head()"
   ]
  },
  {
   "cell_type": "code",
   "execution_count": 228,
   "metadata": {},
   "outputs": [],
   "source": [
    "df = df.to_numpy().T\n",
    "df_scaler = df_scaler.to_numpy().T"
   ]
  },
  {
   "cell_type": "markdown",
   "metadata": {
    "id": "2MXlEvdcfNtE"
   },
   "source": [
    "After scaling, all features are scaled between 0 and 1. Let's plot the distribution of the original and scaled data."
   ]
  },
  {
   "cell_type": "code",
   "execution_count": 230,
   "metadata": {},
   "outputs": [],
   "source": [
    "sns.histplot(df_scaler[0], ax=axs[0,0], kde=True);axs[0,0].set_title(f\"Original A\")\n",
    "fig.subplots_adjust(hspace=1)"
   ]
  },
  {
   "cell_type": "code",
   "execution_count": 235,
   "metadata": {
    "colab": {
     "base_uri": "https://localhost:8080/",
     "height": 487
    },
    "id": "nFk0vmeFgPxR",
    "outputId": "0b09aa72-deb4-4cf6-d0a8-e447f12229a3"
   },
   "outputs": [
    {
     "name": "stderr",
     "output_type": "stream",
     "text": [
      "C:\\Users\\Watani Mall\\anaconda3\\lib\\site-packages\\seaborn\\_core.py:881: FutureWarning: elementwise comparison failed; returning scalar instead, but in the future will perform elementwise comparison\n",
      "  val in data\n"
     ]
    },
    {
     "ename": "ValueError",
     "evalue": "Could not interpret value `A` for parameter `x`",
     "output_type": "error",
     "traceback": [
      "\u001b[1;31m---------------------------------------------------------------------------\u001b[0m",
      "\u001b[1;31mValueError\u001b[0m                                Traceback (most recent call last)",
      "\u001b[1;32m<ipython-input-235-5b22877f57ee>\u001b[0m in \u001b[0;36m<module>\u001b[1;34m\u001b[0m\n\u001b[0;32m      8\u001b[0m \u001b[0msns\u001b[0m\u001b[1;33m.\u001b[0m\u001b[0mhistplot\u001b[0m\u001b[1;33m(\u001b[0m\u001b[0mdata\u001b[0m\u001b[1;33m=\u001b[0m\u001b[0mdf\u001b[0m\u001b[1;33m,\u001b[0m \u001b[0mx\u001b[0m\u001b[1;33m=\u001b[0m\u001b[1;34m\"D\"\u001b[0m\u001b[1;33m,\u001b[0m \u001b[0max\u001b[0m\u001b[1;33m=\u001b[0m\u001b[0maxs\u001b[0m\u001b[1;33m[\u001b[0m\u001b[1;36m0\u001b[0m\u001b[1;33m,\u001b[0m\u001b[1;36m3\u001b[0m\u001b[1;33m]\u001b[0m\u001b[1;33m,\u001b[0m \u001b[0mkde\u001b[0m\u001b[1;33m=\u001b[0m\u001b[1;32mTrue\u001b[0m\u001b[1;33m)\u001b[0m\u001b[1;33m;\u001b[0m\u001b[0maxs\u001b[0m\u001b[1;33m[\u001b[0m\u001b[1;36m0\u001b[0m\u001b[1;33m,\u001b[0m\u001b[1;36m3\u001b[0m\u001b[1;33m]\u001b[0m\u001b[1;33m.\u001b[0m\u001b[0mset_title\u001b[0m\u001b[1;33m(\u001b[0m\u001b[1;34mf\"Original D\"\u001b[0m\u001b[1;33m)\u001b[0m\u001b[1;33m\u001b[0m\u001b[1;33m\u001b[0m\u001b[0m\n\u001b[0;32m      9\u001b[0m \u001b[1;33m\u001b[0m\u001b[0m\n\u001b[1;32m---> 10\u001b[1;33m \u001b[0msns\u001b[0m\u001b[1;33m.\u001b[0m\u001b[0mhistplot\u001b[0m\u001b[1;33m(\u001b[0m\u001b[0mdata\u001b[0m\u001b[1;33m=\u001b[0m\u001b[0mdf_scaler\u001b[0m\u001b[1;33m,\u001b[0m \u001b[0mx\u001b[0m\u001b[1;33m=\u001b[0m\u001b[1;34m\"A\"\u001b[0m\u001b[1;33m,\u001b[0m \u001b[0max\u001b[0m\u001b[1;33m=\u001b[0m\u001b[0maxs\u001b[0m\u001b[1;33m[\u001b[0m\u001b[1;36m1\u001b[0m\u001b[1;33m,\u001b[0m\u001b[1;36m0\u001b[0m\u001b[1;33m]\u001b[0m\u001b[1;33m,\u001b[0m \u001b[0mkde\u001b[0m\u001b[1;33m=\u001b[0m\u001b[1;32mTrue\u001b[0m\u001b[1;33m)\u001b[0m\u001b[1;33m;\u001b[0m\u001b[0maxs\u001b[0m\u001b[1;33m[\u001b[0m\u001b[1;36m1\u001b[0m\u001b[1;33m,\u001b[0m\u001b[1;36m0\u001b[0m\u001b[1;33m]\u001b[0m\u001b[1;33m.\u001b[0m\u001b[0mset_title\u001b[0m\u001b[1;33m(\u001b[0m\u001b[1;34mf\"Scalled A\"\u001b[0m\u001b[1;33m)\u001b[0m\u001b[1;33m\u001b[0m\u001b[1;33m\u001b[0m\u001b[0m\n\u001b[0m\u001b[0;32m     11\u001b[0m \u001b[0msns\u001b[0m\u001b[1;33m.\u001b[0m\u001b[0mhistplot\u001b[0m\u001b[1;33m(\u001b[0m\u001b[0mdata\u001b[0m\u001b[1;33m=\u001b[0m\u001b[0mdf_scaler\u001b[0m\u001b[1;33m,\u001b[0m \u001b[0mx\u001b[0m\u001b[1;33m=\u001b[0m\u001b[1;34m\"B\"\u001b[0m\u001b[1;33m,\u001b[0m \u001b[0max\u001b[0m\u001b[1;33m=\u001b[0m\u001b[0maxs\u001b[0m\u001b[1;33m[\u001b[0m\u001b[1;36m1\u001b[0m\u001b[1;33m,\u001b[0m\u001b[1;36m1\u001b[0m\u001b[1;33m]\u001b[0m\u001b[1;33m,\u001b[0m \u001b[0mkde\u001b[0m\u001b[1;33m=\u001b[0m\u001b[1;32mTrue\u001b[0m\u001b[1;33m)\u001b[0m\u001b[1;33m;\u001b[0m\u001b[0maxs\u001b[0m\u001b[1;33m[\u001b[0m\u001b[1;36m1\u001b[0m\u001b[1;33m,\u001b[0m\u001b[1;36m1\u001b[0m\u001b[1;33m]\u001b[0m\u001b[1;33m.\u001b[0m\u001b[0mset_title\u001b[0m\u001b[1;33m(\u001b[0m\u001b[1;34mf\"Scalled B\"\u001b[0m\u001b[1;33m)\u001b[0m\u001b[1;33m\u001b[0m\u001b[1;33m\u001b[0m\u001b[0m\n\u001b[0;32m     12\u001b[0m \u001b[0msns\u001b[0m\u001b[1;33m.\u001b[0m\u001b[0mhistplot\u001b[0m\u001b[1;33m(\u001b[0m\u001b[0mdata\u001b[0m\u001b[1;33m=\u001b[0m\u001b[0mdf_scaler\u001b[0m\u001b[1;33m,\u001b[0m \u001b[0mx\u001b[0m\u001b[1;33m=\u001b[0m\u001b[1;34m\"C\"\u001b[0m\u001b[1;33m,\u001b[0m \u001b[0max\u001b[0m\u001b[1;33m=\u001b[0m\u001b[0maxs\u001b[0m\u001b[1;33m[\u001b[0m\u001b[1;36m1\u001b[0m\u001b[1;33m,\u001b[0m\u001b[1;36m2\u001b[0m\u001b[1;33m]\u001b[0m\u001b[1;33m,\u001b[0m \u001b[0mkde\u001b[0m\u001b[1;33m=\u001b[0m\u001b[1;32mTrue\u001b[0m\u001b[1;33m)\u001b[0m\u001b[1;33m;\u001b[0m\u001b[0maxs\u001b[0m\u001b[1;33m[\u001b[0m\u001b[1;36m1\u001b[0m\u001b[1;33m,\u001b[0m\u001b[1;36m2\u001b[0m\u001b[1;33m]\u001b[0m\u001b[1;33m.\u001b[0m\u001b[0mset_title\u001b[0m\u001b[1;33m(\u001b[0m\u001b[1;34mf\"Scalled C\"\u001b[0m\u001b[1;33m)\u001b[0m\u001b[1;33m\u001b[0m\u001b[1;33m\u001b[0m\u001b[0m\n",
      "\u001b[1;32m~\\anaconda3\\lib\\site-packages\\seaborn\\distributions.py\u001b[0m in \u001b[0;36mhistplot\u001b[1;34m(data, x, y, hue, weights, stat, bins, binwidth, binrange, discrete, cumulative, common_bins, common_norm, multiple, element, fill, shrink, kde, kde_kws, line_kws, thresh, pthresh, pmax, cbar, cbar_ax, cbar_kws, palette, hue_order, hue_norm, color, log_scale, legend, ax, **kwargs)\u001b[0m\n\u001b[0;32m   1389\u001b[0m ):\n\u001b[0;32m   1390\u001b[0m \u001b[1;33m\u001b[0m\u001b[0m\n\u001b[1;32m-> 1391\u001b[1;33m     p = _DistributionPlotter(\n\u001b[0m\u001b[0;32m   1392\u001b[0m         \u001b[0mdata\u001b[0m\u001b[1;33m=\u001b[0m\u001b[0mdata\u001b[0m\u001b[1;33m,\u001b[0m\u001b[1;33m\u001b[0m\u001b[1;33m\u001b[0m\u001b[0m\n\u001b[0;32m   1393\u001b[0m         \u001b[0mvariables\u001b[0m\u001b[1;33m=\u001b[0m\u001b[0m_DistributionPlotter\u001b[0m\u001b[1;33m.\u001b[0m\u001b[0mget_semantics\u001b[0m\u001b[1;33m(\u001b[0m\u001b[0mlocals\u001b[0m\u001b[1;33m(\u001b[0m\u001b[1;33m)\u001b[0m\u001b[1;33m)\u001b[0m\u001b[1;33m\u001b[0m\u001b[1;33m\u001b[0m\u001b[0m\n",
      "\u001b[1;32m~\\anaconda3\\lib\\site-packages\\seaborn\\distributions.py\u001b[0m in \u001b[0;36m__init__\u001b[1;34m(self, data, variables)\u001b[0m\n\u001b[0;32m    107\u001b[0m     ):\n\u001b[0;32m    108\u001b[0m \u001b[1;33m\u001b[0m\u001b[0m\n\u001b[1;32m--> 109\u001b[1;33m         \u001b[0msuper\u001b[0m\u001b[1;33m(\u001b[0m\u001b[1;33m)\u001b[0m\u001b[1;33m.\u001b[0m\u001b[0m__init__\u001b[0m\u001b[1;33m(\u001b[0m\u001b[0mdata\u001b[0m\u001b[1;33m=\u001b[0m\u001b[0mdata\u001b[0m\u001b[1;33m,\u001b[0m \u001b[0mvariables\u001b[0m\u001b[1;33m=\u001b[0m\u001b[0mvariables\u001b[0m\u001b[1;33m)\u001b[0m\u001b[1;33m\u001b[0m\u001b[1;33m\u001b[0m\u001b[0m\n\u001b[0m\u001b[0;32m    110\u001b[0m \u001b[1;33m\u001b[0m\u001b[0m\n\u001b[0;32m    111\u001b[0m     \u001b[1;33m@\u001b[0m\u001b[0mproperty\u001b[0m\u001b[1;33m\u001b[0m\u001b[1;33m\u001b[0m\u001b[0m\n",
      "\u001b[1;32m~\\anaconda3\\lib\\site-packages\\seaborn\\_core.py\u001b[0m in \u001b[0;36m__init__\u001b[1;34m(self, data, variables)\u001b[0m\n\u001b[0;32m    602\u001b[0m     \u001b[1;32mdef\u001b[0m \u001b[0m__init__\u001b[0m\u001b[1;33m(\u001b[0m\u001b[0mself\u001b[0m\u001b[1;33m,\u001b[0m \u001b[0mdata\u001b[0m\u001b[1;33m=\u001b[0m\u001b[1;32mNone\u001b[0m\u001b[1;33m,\u001b[0m \u001b[0mvariables\u001b[0m\u001b[1;33m=\u001b[0m\u001b[1;33m{\u001b[0m\u001b[1;33m}\u001b[0m\u001b[1;33m)\u001b[0m\u001b[1;33m:\u001b[0m\u001b[1;33m\u001b[0m\u001b[1;33m\u001b[0m\u001b[0m\n\u001b[0;32m    603\u001b[0m \u001b[1;33m\u001b[0m\u001b[0m\n\u001b[1;32m--> 604\u001b[1;33m         \u001b[0mself\u001b[0m\u001b[1;33m.\u001b[0m\u001b[0massign_variables\u001b[0m\u001b[1;33m(\u001b[0m\u001b[0mdata\u001b[0m\u001b[1;33m,\u001b[0m \u001b[0mvariables\u001b[0m\u001b[1;33m)\u001b[0m\u001b[1;33m\u001b[0m\u001b[1;33m\u001b[0m\u001b[0m\n\u001b[0m\u001b[0;32m    605\u001b[0m \u001b[1;33m\u001b[0m\u001b[0m\n\u001b[0;32m    606\u001b[0m         \u001b[1;32mfor\u001b[0m \u001b[0mvar\u001b[0m\u001b[1;33m,\u001b[0m \u001b[0mcls\u001b[0m \u001b[1;32min\u001b[0m \u001b[0mself\u001b[0m\u001b[1;33m.\u001b[0m\u001b[0m_semantic_mappings\u001b[0m\u001b[1;33m.\u001b[0m\u001b[0mitems\u001b[0m\u001b[1;33m(\u001b[0m\u001b[1;33m)\u001b[0m\u001b[1;33m:\u001b[0m\u001b[1;33m\u001b[0m\u001b[1;33m\u001b[0m\u001b[0m\n",
      "\u001b[1;32m~\\anaconda3\\lib\\site-packages\\seaborn\\_core.py\u001b[0m in \u001b[0;36massign_variables\u001b[1;34m(self, data, variables)\u001b[0m\n\u001b[0;32m    665\u001b[0m         \u001b[1;32melse\u001b[0m\u001b[1;33m:\u001b[0m\u001b[1;33m\u001b[0m\u001b[1;33m\u001b[0m\u001b[0m\n\u001b[0;32m    666\u001b[0m             \u001b[0mself\u001b[0m\u001b[1;33m.\u001b[0m\u001b[0minput_format\u001b[0m \u001b[1;33m=\u001b[0m \u001b[1;34m\"long\"\u001b[0m\u001b[1;33m\u001b[0m\u001b[1;33m\u001b[0m\u001b[0m\n\u001b[1;32m--> 667\u001b[1;33m             plot_data, variables = self._assign_variables_longform(\n\u001b[0m\u001b[0;32m    668\u001b[0m                 \u001b[0mdata\u001b[0m\u001b[1;33m,\u001b[0m \u001b[1;33m**\u001b[0m\u001b[0mvariables\u001b[0m\u001b[1;33m,\u001b[0m\u001b[1;33m\u001b[0m\u001b[1;33m\u001b[0m\u001b[0m\n\u001b[0;32m    669\u001b[0m             )\n",
      "\u001b[1;32m~\\anaconda3\\lib\\site-packages\\seaborn\\_core.py\u001b[0m in \u001b[0;36m_assign_variables_longform\u001b[1;34m(self, data, **kwargs)\u001b[0m\n\u001b[0;32m    900\u001b[0m \u001b[1;33m\u001b[0m\u001b[0m\n\u001b[0;32m    901\u001b[0m                 \u001b[0merr\u001b[0m \u001b[1;33m=\u001b[0m \u001b[1;34mf\"Could not interpret value `{val}` for parameter `{key}`\"\u001b[0m\u001b[1;33m\u001b[0m\u001b[1;33m\u001b[0m\u001b[0m\n\u001b[1;32m--> 902\u001b[1;33m                 \u001b[1;32mraise\u001b[0m \u001b[0mValueError\u001b[0m\u001b[1;33m(\u001b[0m\u001b[0merr\u001b[0m\u001b[1;33m)\u001b[0m\u001b[1;33m\u001b[0m\u001b[1;33m\u001b[0m\u001b[0m\n\u001b[0m\u001b[0;32m    903\u001b[0m \u001b[1;33m\u001b[0m\u001b[0m\n\u001b[0;32m    904\u001b[0m             \u001b[1;32melse\u001b[0m\u001b[1;33m:\u001b[0m\u001b[1;33m\u001b[0m\u001b[1;33m\u001b[0m\u001b[0m\n",
      "\u001b[1;31mValueError\u001b[0m: Could not interpret value `A` for parameter `x`"
     ]
    },
    {
     "data": {
      "image/png": "[encoded data removed]",
      "text/plain": [
       "<Figure size 1296x360 with 8 Axes>"
      ]
     },
     "metadata": {
      "needs_background": "light"
     },
     "output_type": "display_data"
    }
   ],
   "source": [
    "import matplotlib.pyplot as plt\n",
    "import seaborn as sns\n",
    "fig, axs = plt.subplots(figsize=(18, 5),ncols=4,nrows=2)\n",
    "\n",
    "sns.histplot(data=df, x=\"A\", ax=axs[0,0], kde=True);axs[0,0].set_title(f\"Original A\")\n",
    "sns.histplot(data=df, x=\"B\", ax=axs[0,1], kde=True);axs[0,1].set_title(f\"Original B\")\n",
    "sns.histplot(data=df, x=\"C\", ax=axs[0,2], kde=True);axs[0,2].set_title(f\"Original C\")\n",
    "sns.histplot(data=df, x=\"D\", ax=axs[0,3], kde=True);axs[0,3].set_title(f\"Original D\")\n",
    "\n",
    "sns.histplot(data=df_scaler, x=\"A\", ax=axs[1,0], kde=True);axs[1,0].set_title(f\"Scalled A\")\n",
    "sns.histplot(data=df_scaler, x=\"B\", ax=axs[1,1], kde=True);axs[1,1].set_title(f\"Scalled B\")\n",
    "sns.histplot(data=df_scaler, x=\"C\", ax=axs[1,2], kde=True);axs[1,2].set_title(f\"Scalled C\")\n",
    "sns.histplot(data=df_scaler, x=\"D\", ax=axs[1,3], kde=True);axs[1,3].set_title(f\"Scalled D\")\n",
    "\n",
    "fig.subplots_adjust(hspace=1)"
   ]
  },
  {
   "cell_type": "markdown",
   "metadata": {
    "id": "XB2qyC4AhTaz"
   },
   "source": [
    "The histogram plots illustrate that scaling did not alter the distribution of the features but did affect the range of their values."
   ]
  },
  {
   "cell_type": "markdown",
   "metadata": {
    "id": "jwRHE-UIlj4W"
   },
   "source": [
    "To illustrate the significance of feature scaling in many machine learning scenarios, consider the data within the **ENCS5141_Exp3_Mall_Customers.csv** file, available in the GitHub repository at https://github.com/mkjubran/ENCS5141Datasets. This dataset includes the annual income and spending score of numerous mall customers. As before, we will initiate by cloning the GitHub repository. You may skip this step if the repository has already been cloned"
   ]
  },
  {
   "cell_type": "code",
   "execution_count": 22,
   "metadata": {
    "colab": {
     "base_uri": "https://localhost:8080/"
    },
    "id": "NUFmR5O5okNT",
    "outputId": "3f189e05-d7c2-43d9-fc55-310fb6193493"
   },
   "outputs": [
    {
     "name": "stderr",
     "output_type": "stream",
     "text": [
      "'rm' is not recognized as an internal or external command,\n",
      "operable program or batch file.\n",
      "fatal: destination path 'ENCS5141Datasets' already exists and is not an empty directory.\n"
     ]
    }
   ],
   "source": [
    "!rm -rf ./ENCS5141Datasets\n",
    "!git clone https://github.com/mkjubran/ENCS5141Datasets.git"
   ]
  },
  {
   "cell_type": "markdown",
   "metadata": {
    "id": "I-Iw5rNpoozk"
   },
   "source": [
    "To read the file and display information about the features run the following code"
   ]
  },
  {
   "cell_type": "code",
   "execution_count": 161,
   "metadata": {
    "colab": {
     "base_uri": "https://localhost:8080/",
     "height": 300
    },
    "id": "_IQozrgrowk3",
    "outputId": "8b338963-7bc0-4535-c842-7699f8b330b9"
   },
   "outputs": [
    {
     "data": {
      "text/html": [
       "<div>\n",
       "<style scoped>\n",
       "    .dataframe tbody tr th:only-of-type {\n",
       "        vertical-align: middle;\n",
       "    }\n",
       "\n",
       "    .dataframe tbody tr th {\n",
       "        vertical-align: top;\n",
       "    }\n",
       "\n",
       "    .dataframe thead th {\n",
       "        text-align: right;\n",
       "    }\n",
       "</style>\n",
       "<table border=\"1\" class=\"dataframe\">\n",
       "  <thead>\n",
       "    <tr style=\"text-align: right;\">\n",
       "      <th></th>\n",
       "      <th>Annual Income</th>\n",
       "      <th>Spending Score</th>\n",
       "    </tr>\n",
       "  </thead>\n",
       "  <tbody>\n",
       "    <tr>\n",
       "      <th>count</th>\n",
       "      <td>30.000000</td>\n",
       "      <td>30.000000</td>\n",
       "    </tr>\n",
       "    <tr>\n",
       "      <th>mean</th>\n",
       "      <td>21433.333333</td>\n",
       "      <td>50.866667</td>\n",
       "    </tr>\n",
       "    <tr>\n",
       "      <th>std</th>\n",
       "      <td>4452.301484</td>\n",
       "      <td>33.053492</td>\n",
       "    </tr>\n",
       "    <tr>\n",
       "      <th>min</th>\n",
       "      <td>15000.000000</td>\n",
       "      <td>3.000000</td>\n",
       "    </tr>\n",
       "    <tr>\n",
       "      <th>25%</th>\n",
       "      <td>18250.000000</td>\n",
       "      <td>18.500000</td>\n",
       "    </tr>\n",
       "    <tr>\n",
       "      <th>50%</th>\n",
       "      <td>20000.000000</td>\n",
       "      <td>53.500000</td>\n",
       "    </tr>\n",
       "    <tr>\n",
       "      <th>75%</th>\n",
       "      <td>24750.000000</td>\n",
       "      <td>78.500000</td>\n",
       "    </tr>\n",
       "    <tr>\n",
       "      <th>max</th>\n",
       "      <td>29000.000000</td>\n",
       "      <td>99.000000</td>\n",
       "    </tr>\n",
       "  </tbody>\n",
       "</table>\n",
       "</div>"
      ],
      "text/plain": [
       "       Annual Income  Spending Score\n",
       "count      30.000000       30.000000\n",
       "mean    21433.333333       50.866667\n",
       "std      4452.301484       33.053492\n",
       "min     15000.000000        3.000000\n",
       "25%     18250.000000       18.500000\n",
       "50%     20000.000000       53.500000\n",
       "75%     24750.000000       78.500000\n",
       "max     29000.000000       99.000000"
      ]
     },
     "execution_count": 161,
     "metadata": {},
     "output_type": "execute_result"
    }
   ],
   "source": [
    "import pandas as pd\n",
    "df = pd.read_csv(\"../ENCS5141Datasets/ENCS5141_Exp3_Mall_Customers.csv\", index_col=0)\n",
    "df.describe()"
   ]
  },
  {
   "cell_type": "markdown",
   "metadata": {
    "id": "XQKtW0oNqIys"
   },
   "source": [
    "As can be observed, the Annual Income feature has a range in the thousands, whereas the Spending Score is in tens."
   ]
  },
  {
   "cell_type": "markdown",
   "metadata": {
    "id": "yFGd2yjMiCl6"
   },
   "source": [
    "To investigate the impact of the scalling on machine learning, we will compare the performance of the machine learning models with and without feature scalling. In this context, we will use the K-Means classifier to cluster the data into groups. The classifier will be discussed in detail in subsequent experimental sessions."
   ]
  },
  {
   "cell_type": "code",
   "execution_count": 162,
   "metadata": {
    "colab": {
     "base_uri": "https://localhost:8080/",
     "height": 293
    },
    "id": "Hwhj8OiitH5q",
    "outputId": "b5ccdab2-4f59-4993-81b3-b825b92a696f"
   },
   "outputs": [
    {
     "data": {
      "text/html": [
       "<div>\n",
       "<style scoped>\n",
       "    .dataframe tbody tr th:only-of-type {\n",
       "        vertical-align: middle;\n",
       "    }\n",
       "\n",
       "    .dataframe tbody tr th {\n",
       "        vertical-align: top;\n",
       "    }\n",
       "\n",
       "    .dataframe thead th {\n",
       "        text-align: right;\n",
       "    }\n",
       "</style>\n",
       "<table border=\"1\" class=\"dataframe\">\n",
       "  <thead>\n",
       "    <tr style=\"text-align: right;\">\n",
       "      <th></th>\n",
       "      <th>Annual Income</th>\n",
       "      <th>Spending Score</th>\n",
       "      <th>cluster</th>\n",
       "    </tr>\n",
       "    <tr>\n",
       "      <th>CustomerID</th>\n",
       "      <th></th>\n",
       "      <th></th>\n",
       "      <th></th>\n",
       "    </tr>\n",
       "  </thead>\n",
       "  <tbody>\n",
       "    <tr>\n",
       "      <th>1</th>\n",
       "      <td>15000</td>\n",
       "      <td>30</td>\n",
       "      <td>2</td>\n",
       "    </tr>\n",
       "    <tr>\n",
       "      <th>2</th>\n",
       "      <td>15000</td>\n",
       "      <td>81</td>\n",
       "      <td>2</td>\n",
       "    </tr>\n",
       "    <tr>\n",
       "      <th>3</th>\n",
       "      <td>16000</td>\n",
       "      <td>6</td>\n",
       "      <td>2</td>\n",
       "    </tr>\n",
       "    <tr>\n",
       "      <th>4</th>\n",
       "      <td>16000</td>\n",
       "      <td>77</td>\n",
       "      <td>2</td>\n",
       "    </tr>\n",
       "    <tr>\n",
       "      <th>5</th>\n",
       "      <td>17000</td>\n",
       "      <td>33</td>\n",
       "      <td>2</td>\n",
       "    </tr>\n",
       "  </tbody>\n",
       "</table>\n",
       "</div>"
      ],
      "text/plain": [
       "            Annual Income  Spending Score  cluster\n",
       "CustomerID                                        \n",
       "1                   15000              30        2\n",
       "2                   15000              81        2\n",
       "3                   16000               6        2\n",
       "4                   16000              77        2\n",
       "5                   17000              33        2"
      ]
     },
     "execution_count": 162,
     "metadata": {},
     "output_type": "execute_result"
    }
   ],
   "source": [
    "# Import the KMeans class from the sklearn.cluster module\n",
    "from sklearn.cluster import KMeans\n",
    "\n",
    "# Create a KMeans object with the desired number of clusters (4 in this case)\n",
    "km = KMeans(n_clusters=4)\n",
    "\n",
    "# Fit the KMeans model to the data, using the 'Annual Income' and 'Spending Score' columns as features\n",
    "km.fit(df[['Annual Income', 'Spending Score']])\n",
    "\n",
    "# Predict the cluster labels for each data point based on the fitted model\n",
    "cluster = km.predict(df[['Annual Income', 'Spending Score']])\n",
    "\n",
    "# Create a new column 'cluster' in the DataFrame to store the predicted cluster labels\n",
    "df['cluster'] = cluster\n",
    "\n",
    "# Display the first few rows of the DataFrame with the 'cluster' column added\n",
    "df.head()"
   ]
  },
  {
   "cell_type": "markdown",
   "metadata": {
    "id": "Cc7xc411wHJ8"
   },
   "source": [
    "To visualize the resuls, use the **sns.scatterplot()** as below"
   ]
  },
  {
   "cell_type": "code",
   "execution_count": 163,
   "metadata": {
    "colab": {
     "base_uri": "https://localhost:8080/",
     "height": 467
    },
    "id": "YcucRtS7taen",
    "outputId": "e6d00731-a034-4ebf-d0fc-df367f725a09"
   },
   "outputs": [
    {
     "data": {
      "text/plain": [
       "<Axes: xlabel='Annual Income', ylabel='Spending Score'>"
      ]
     },
     "execution_count": 163,
     "metadata": {},
     "output_type": "execute_result"
    },
    {
     "data": {
      "image/png": "[encoded data removed]",
      "text/plain": [
       "<Figure size 432x288 with 1 Axes>"
      ]
     },
     "metadata": {
      "needs_background": "light"
     },
     "output_type": "display_data"
    }
   ],
   "source": [
    "# Import the seaborn library for data visualization\n",
    "import seaborn as sns\n",
    "\n",
    "# Create a scatter plot:\n",
    "# - x-axis: 'Annual Income'\n",
    "# - y-axis: 'Spending Score'\n",
    "# - 'hue' parameter assigns different colors to data points based on the 'cluster' column\n",
    "# - 'style' parameter assigns different markers/styles to data points based on the 'cluster' column\n",
    "# - 'size' parameter adjusts the size of data points based on the 'cluster' column\n",
    "# - 'palette' parameter defines the color palette used for the plot\n",
    "sns.scatterplot(x=df['Annual Income'], y=df['Spending Score'], hue=df['cluster'], style=df['cluster'], size=df['cluster'], palette='colorblind')"
   ]
  },
  {
   "cell_type": "markdown",
   "metadata": {
    "id": "thqB5VlAws86"
   },
   "source": [
    "From the scatter plot, it's evident that the points are grouped or clustered based on the 'Annual Income' (with values in thousands) and do not take into account the 'Spending Score' feature (with values in tens). Is this an acceptable clustering approach?"
   ]
  },
  {
   "cell_type": "markdown",
   "metadata": {
    "id": "Uj4EViFmxS_W"
   },
   "source": [
    "Let us repeate the classification but after feature scalling."
   ]
  },
  {
   "cell_type": "code",
   "execution_count": 164,
   "metadata": {
    "colab": {
     "base_uri": "https://localhost:8080/",
     "height": 522
    },
    "id": "LjMQcxOgxZSB",
    "outputId": "ba71bc42-f515-43e5-caea-e9f08bfb413f"
   },
   "outputs": [
    {
     "data": {
      "text/plain": [
       "<Axes: xlabel='Annual Income', ylabel='Spending Score'>"
      ]
     },
     "execution_count": 164,
     "metadata": {},
     "output_type": "execute_result"
    },
    {
     "data": {
      "image/png": "[encoded data removed]",
      "text/plain": [
       "<Figure size 432x288 with 1 Axes>"
      ]
     },
     "metadata": {
      "needs_background": "light"
     },
     "output_type": "display_data"
    }
   ],
   "source": [
    "# Import the MinMaxScaler class from the sklearn.preprocessing module\n",
    "from sklearn.preprocessing import MinMaxScaler\n",
    "\n",
    "# Import the KMeans class from the sklearn.cluster module\n",
    "from sklearn.cluster import KMeans\n",
    "\n",
    "# Create a MinMaxScaler object\n",
    "scaler = MinMaxScaler()\n",
    "\n",
    "# Fit the scaler to the DataFrame 'df', which computes the minimum and maximum values for scaling\n",
    "scaler.fit(df)\n",
    "\n",
    "# Transform and scale the data in 'df' using the fitted scaler\n",
    "data = scaler.transform(df)\n",
    "\n",
    "# Create a new DataFrame 'df_scaler' to store the scaled data, maintaining column names from 'df'\n",
    "df_scaler = pd.DataFrame(data, columns=df.columns)\n",
    "\n",
    "\n",
    "# Create a KMeans object with the desired number of clusters (4 in this case)\n",
    "km = KMeans(n_clusters=4)\n",
    "\n",
    "# Fit the KMeans model to the data, using the 'Annual Income' and 'Spending Score' columns as features\n",
    "km.fit(df_scaler[['Annual Income', 'Spending Score']])\n",
    "\n",
    "# Predict the cluster labels for each data point based on the fitted model\n",
    "cluster = km.predict(df_scaler[['Annual Income', 'Spending Score']])\n",
    "\n",
    "# Create a new column 'cluster' in the DataFrame to store the predicted cluster labels\n",
    "df_scaler['cluster'] = cluster\n",
    "\n",
    "# Create a scatter plot:\n",
    "# - x-axis: 'Annual Income'\n",
    "# - y-axis: 'Spending Score'\n",
    "# - 'hue' parameter assigns different colors to data points based on the 'cluster' column\n",
    "# - 'style' parameter assigns different markers/styles to data points based on the 'cluster' column\n",
    "# - 'size' parameter adjusts the size of data points based on the 'cluster' column\n",
    "# - 'palette' parameter defines the color palette used for the plot\n",
    "sns.scatterplot(x=df_scaler['Annual Income'], y=df_scaler['Spending Score'], hue=df_scaler['cluster'], style=df_scaler['cluster'], size=df_scaler['cluster'], palette='colorblind')\n"
   ]
  },
  {
   "cell_type": "markdown",
   "metadata": {
    "id": "HM13dnExyIao"
   },
   "source": [
    "**Task 3.5**: Referring to the figure shown above, please provide your observations regarding the clustering of Mall Customers' records both before and after the scaling process."
   ]
  },
  {
   "cell_type": "code",
   "execution_count": null,
   "metadata": {
    "id": "AQy0t8FOy9mp"
   },
   "outputs": [],
   "source": [
    "#write you code here\n"
   ]
  },
  {
   "cell_type": "markdown",
   "metadata": {
    "id": "3U5PJn1fzGn0"
   },
   "source": [
    "**Task 3.6**: To demonstrate the impact of scaling on machine learning, your task is to cluster the records in the 'tips' dataset based on the **total_bill** and **tip** features, both before and after applying feature scaling.\n",
    "\n",
    "**Note**: The tips dataset contains information about tips received by a waiter over a few months in a restaurant. It has details like how much tip was given, the bill amount, whether the person paying the bill is male or female, if there were smokers in the group, the day of the week, the time of day, and the size of the group.\n",
    "\n",
    "You may load the dataset using the following code snippet."
   ]
  },
  {
   "cell_type": "code",
   "execution_count": 166,
   "metadata": {
    "colab": {
     "base_uri": "https://localhost:8080/"
    },
    "id": "d-gQxE9IzP-_",
    "outputId": "ee2b385b-edfd-46bf-f437-b44f334d9030"
   },
   "outputs": [
    {
     "name": "stdout",
     "output_type": "stream",
     "text": [
      "<class 'pandas.core.frame.DataFrame'>\n",
      "RangeIndex: 244 entries, 0 to 243\n",
      "Data columns (total 7 columns):\n",
      " #   Column      Non-Null Count  Dtype   \n",
      "---  ------      --------------  -----   \n",
      " 0   total_bill  244 non-null    float64 \n",
      " 1   tip         244 non-null    float64 \n",
      " 2   sex         244 non-null    category\n",
      " 3   smoker      244 non-null    category\n",
      " 4   day         244 non-null    category\n",
      " 5   time        244 non-null    category\n",
      " 6   size        244 non-null    int64   \n",
      "dtypes: category(4), float64(2), int64(1)\n",
      "memory usage: 7.4 KB\n"
     ]
    }
   ],
   "source": [
    "# Load an example dataset\n",
    "tips = sns.load_dataset(\"tips\")\n",
    "tips.info()"
   ]
  },
  {
   "cell_type": "code",
   "execution_count": 212,
   "metadata": {
    "id": "5pAQIKHh1dY0"
   },
   "outputs": [],
   "source": [
    "#write you code here\n",
    "def cluster_with_scaler(scaler, data):\n",
    "    features = ['total_bill', 'tip']\n",
    "    X = data[features]\n",
    "\n",
    "    if scaler != None:\n",
    "        X_scaled = scaler.fit_transform(X)\n",
    "    else:\n",
    "        X_scaled = X\n",
    "\n",
    "    kmeans = KMeans(n_clusters=3, random_state=0)\n",
    "    kmeans.fit(X_scaled)\n",
    "\n",
    "    data['cluster'] = kmeans.labels_\n",
    "\n",
    "    sns.scatterplot(x=data['total_bill'], y=data['tip'], hue=data['cluster'], style=data['cluster'], size=data['cluster'], palette='colorblind')\n"
   ]
  },
  {
   "cell_type": "code",
   "execution_count": 213,
   "metadata": {},
   "outputs": [
    {
     "data": {
      "image/png": "[encoded data removed]",
      "text/plain": [
       "<Figure size 432x288 with 1 Axes>"
      ]
     },
     "metadata": {
      "needs_background": "light"
     },
     "output_type": "display_data"
    }
   ],
   "source": [
    "cluster_with_scaler(None, tips)\n"
   ]
  },
  {
   "cell_type": "code",
   "execution_count": 214,
   "metadata": {},
   "outputs": [
    {
     "data": {
      "image/png": "[encoded data removed]",
      "text/plain": [
       "<Figure size 432x288 with 1 Axes>"
      ]
     },
     "metadata": {
      "needs_background": "light"
     },
     "output_type": "display_data"
    }
   ],
   "source": [
    "cluster_with_scaler(MinMaxScaler(), tips)"
   ]
  },
  {
   "cell_type": "code",
   "execution_count": 215,
   "metadata": {},
   "outputs": [
    {
     "data": {
      "image/png": "[encoded data removed]",
      "text/plain": [
       "<Figure size 432x288 with 1 Axes>"
      ]
     },
     "metadata": {
      "needs_background": "light"
     },
     "output_type": "display_data"
    }
   ],
   "source": [
    "from sklearn.preprocessing import StandardScaler\n",
    "\n",
    "cluster_with_scaler(StandardScaler(), tips)"
   ]
  },
  {
   "cell_type": "markdown",
   "metadata": {
    "id": "q9UpJC3vAlR7"
   },
   "source": [
    "---\n",
    "---\n",
    "\n",
    "<h1><center>Part Two</center></h1>\n",
    "\n",
    "---\n",
    "---\n",
    "\n",
    "## 3.2.2 Discretization\n",
    "\n"
   ]
  },
  {
   "cell_type": "markdown",
   "metadata": {
    "id": "DcpnZqMuoL5o"
   },
   "source": [
    "To demonstrate discretization, we will load the \"fetch_california_housing\" dataset. This dataset is a popular dataset used in machine learning. It contains data related to housing in California, primarily for the purpose of regression analysis. This dataset is often used for tasks such as predicting the median house value for districts in California based on various features. The dataset includes several features that can be used as input variables for regression models. Some of the typical features include median income, average house occupancy, latitude, longitude, and more. The target variable is the median house value for each district. This is the variable that you typically aim to predict in regression tasks."
   ]
  },
  {
   "cell_type": "code",
   "execution_count": 1,
   "metadata": {
    "colab": {
     "base_uri": "https://localhost:8080/"
    },
    "id": "dQNvN-tSF4Ik",
    "outputId": "5405eb5a-b5fe-46a0-a6e5-02cbc274c1a1"
   },
   "outputs": [
    {
     "data": {
      "text/html": [
       "<div>\n",
       "<style scoped>\n",
       "    .dataframe tbody tr th:only-of-type {\n",
       "        vertical-align: middle;\n",
       "    }\n",
       "\n",
       "    .dataframe tbody tr th {\n",
       "        vertical-align: top;\n",
       "    }\n",
       "\n",
       "    .dataframe thead th {\n",
       "        text-align: right;\n",
       "    }\n",
       "</style>\n",
       "<table border=\"1\" class=\"dataframe\">\n",
       "  <thead>\n",
       "    <tr style=\"text-align: right;\">\n",
       "      <th></th>\n",
       "      <th>MedInc</th>\n",
       "      <th>HouseAge</th>\n",
       "      <th>AveRooms</th>\n",
       "      <th>AveBedrms</th>\n",
       "      <th>Population</th>\n",
       "      <th>AveOccup</th>\n",
       "      <th>Latitude</th>\n",
       "      <th>Longitude</th>\n",
       "      <th>MedHouseVal</th>\n",
       "    </tr>\n",
       "  </thead>\n",
       "  <tbody>\n",
       "    <tr>\n",
       "      <th>0</th>\n",
       "      <td>8.3252</td>\n",
       "      <td>41.0</td>\n",
       "      <td>6.984127</td>\n",
       "      <td>1.023810</td>\n",
       "      <td>322.0</td>\n",
       "      <td>2.555556</td>\n",
       "      <td>37.88</td>\n",
       "      <td>-122.23</td>\n",
       "      <td>4.526</td>\n",
       "    </tr>\n",
       "    <tr>\n",
       "      <th>1</th>\n",
       "      <td>8.3014</td>\n",
       "      <td>21.0</td>\n",
       "      <td>6.238137</td>\n",
       "      <td>0.971880</td>\n",
       "      <td>2401.0</td>\n",
       "      <td>2.109842</td>\n",
       "      <td>37.86</td>\n",
       "      <td>-122.22</td>\n",
       "      <td>3.585</td>\n",
       "    </tr>\n",
       "    <tr>\n",
       "      <th>2</th>\n",
       "      <td>7.2574</td>\n",
       "      <td>52.0</td>\n",
       "      <td>8.288136</td>\n",
       "      <td>1.073446</td>\n",
       "      <td>496.0</td>\n",
       "      <td>2.802260</td>\n",
       "      <td>37.85</td>\n",
       "      <td>-122.24</td>\n",
       "      <td>3.521</td>\n",
       "    </tr>\n",
       "    <tr>\n",
       "      <th>3</th>\n",
       "      <td>5.6431</td>\n",
       "      <td>52.0</td>\n",
       "      <td>5.817352</td>\n",
       "      <td>1.073059</td>\n",
       "      <td>558.0</td>\n",
       "      <td>2.547945</td>\n",
       "      <td>37.85</td>\n",
       "      <td>-122.25</td>\n",
       "      <td>3.413</td>\n",
       "    </tr>\n",
       "    <tr>\n",
       "      <th>4</th>\n",
       "      <td>3.8462</td>\n",
       "      <td>52.0</td>\n",
       "      <td>6.281853</td>\n",
       "      <td>1.081081</td>\n",
       "      <td>565.0</td>\n",
       "      <td>2.181467</td>\n",
       "      <td>37.85</td>\n",
       "      <td>-122.25</td>\n",
       "      <td>3.422</td>\n",
       "    </tr>\n",
       "  </tbody>\n",
       "</table>\n",
       "</div>"
      ],
      "text/plain": [
       "   MedInc  HouseAge  AveRooms  AveBedrms  Population  AveOccup  Latitude  \\\n",
       "0  8.3252      41.0  6.984127   1.023810       322.0  2.555556     37.88   \n",
       "1  8.3014      21.0  6.238137   0.971880      2401.0  2.109842     37.86   \n",
       "2  7.2574      52.0  8.288136   1.073446       496.0  2.802260     37.85   \n",
       "3  5.6431      52.0  5.817352   1.073059       558.0  2.547945     37.85   \n",
       "4  3.8462      52.0  6.281853   1.081081       565.0  2.181467     37.85   \n",
       "\n",
       "   Longitude  MedHouseVal  \n",
       "0    -122.23        4.526  \n",
       "1    -122.22        3.585  \n",
       "2    -122.24        3.521  \n",
       "3    -122.25        3.413  \n",
       "4    -122.25        3.422  "
      ]
     },
     "execution_count": 1,
     "metadata": {},
     "output_type": "execute_result"
    }
   ],
   "source": [
    "from sklearn.datasets import fetch_california_housing\n",
    "import pandas as pd\n",
    "X,y = fetch_california_housing(return_X_y= True, as_frame = True)\n",
    "df = pd.concat((X,y), axis=1)\n",
    "df.head()"
   ]
  },
  {
   "cell_type": "markdown",
   "metadata": {
    "id": "QV2lKeQzbTUs"
   },
   "source": [
    "**3.2.2.1 Equal Width Discretiser**\n",
    "\n",
    "Equal Width Discretiser is a data preprocessing technique used in feature engineering to transform continuous numerical data into discrete categories of equal width. This method divides the range of the data into a specified number of bins or intervals, ensuring that each bin has the same width or range."
   ]
  },
  {
   "cell_type": "code",
   "execution_count": null,
   "metadata": {},
   "outputs": [],
   "source": [
    "# Install the feature_engine library if not already installed\n",
    "!python.exe -m pip install --upgrade pip\n",
    "!pip install feature_engine --user"
   ]
  },
  {
   "cell_type": "code",
   "execution_count": 2,
   "metadata": {
    "colab": {
     "base_uri": "https://localhost:8080/"
    },
    "id": "_4dDAc4WYiQj",
    "outputId": "32673bbc-5c2f-4cbc-d31d-fa245f63e56e"
   },
   "outputs": [
    {
     "data": {
      "text/plain": [
       "{'MedInc': [-inf,\n",
       "  2.312425,\n",
       "  4.12495,\n",
       "  5.937475,\n",
       "  7.75,\n",
       "  9.562525,\n",
       "  11.37505,\n",
       "  13.187574999999999,\n",
       "  inf]}"
      ]
     },
     "execution_count": 2,
     "metadata": {},
     "output_type": "execute_result"
    }
   ],
   "source": [
    "\n",
    "# Import the required library and module\n",
    "from feature_engine import discretisation as dsc\n",
    "\n",
    "# Set up the discretisation transformer with specified parameters:\n",
    "# - 'bins' sets the number of bins or intervals (8 in this case)\n",
    "# - 'variables' specifies the columns to be discretized\n",
    "# - if 'return_boundaries=True' is set, then it indicates that you want to return bin boundaries and not the discreate values\n",
    "disc = dsc.EqualWidthDiscretiser(bins=8, variables=['MedInc'])\n",
    "\n",
    "# Fit the transformer on the selected variables\n",
    "disc.fit(df[['MedInc']])\n",
    "\n",
    "# Create a copy of the original DataFrame to store the discretized data\n",
    "df_EqualWidthDiscretiser = df.copy()\n",
    "\n",
    "# Transform the specified columns using the fitted discretisation transformer\n",
    "df_EqualWidthDiscretiser[['MedInc']] = disc.transform(df[['MedInc']])\n",
    "\n",
    "# Access the bin boundaries dictionary (not required for the main discretization)\n",
    "disc.binner_dict_"
   ]
  },
  {
   "cell_type": "markdown",
   "metadata": {
    "id": "3lG_sR6siSbb"
   },
   "source": [
    "To print the DataFrame after discretisation of the MedInc"
   ]
  },
  {
   "cell_type": "code",
   "execution_count": 3,
   "metadata": {
    "colab": {
     "base_uri": "https://localhost:8080/"
    },
    "id": "wa2l58oehCvN",
    "outputId": "7e3f658f-3ca1-46ea-e31d-cee2f3484daa"
   },
   "outputs": [
    {
     "data": {
      "text/html": [
       "<div>\n",
       "<style scoped>\n",
       "    .dataframe tbody tr th:only-of-type {\n",
       "        vertical-align: middle;\n",
       "    }\n",
       "\n",
       "    .dataframe tbody tr th {\n",
       "        vertical-align: top;\n",
       "    }\n",
       "\n",
       "    .dataframe thead th {\n",
       "        text-align: right;\n",
       "    }\n",
       "</style>\n",
       "<table border=\"1\" class=\"dataframe\">\n",
       "  <thead>\n",
       "    <tr style=\"text-align: right;\">\n",
       "      <th></th>\n",
       "      <th>MedInc</th>\n",
       "      <th>HouseAge</th>\n",
       "      <th>AveRooms</th>\n",
       "      <th>AveBedrms</th>\n",
       "      <th>Population</th>\n",
       "      <th>AveOccup</th>\n",
       "      <th>Latitude</th>\n",
       "      <th>Longitude</th>\n",
       "      <th>MedHouseVal</th>\n",
       "    </tr>\n",
       "  </thead>\n",
       "  <tbody>\n",
       "    <tr>\n",
       "      <th>0</th>\n",
       "      <td>4</td>\n",
       "      <td>41.0</td>\n",
       "      <td>6.984127</td>\n",
       "      <td>1.023810</td>\n",
       "      <td>322.0</td>\n",
       "      <td>2.555556</td>\n",
       "      <td>37.88</td>\n",
       "      <td>-122.23</td>\n",
       "      <td>4.526</td>\n",
       "    </tr>\n",
       "    <tr>\n",
       "      <th>1</th>\n",
       "      <td>4</td>\n",
       "      <td>21.0</td>\n",
       "      <td>6.238137</td>\n",
       "      <td>0.971880</td>\n",
       "      <td>2401.0</td>\n",
       "      <td>2.109842</td>\n",
       "      <td>37.86</td>\n",
       "      <td>-122.22</td>\n",
       "      <td>3.585</td>\n",
       "    </tr>\n",
       "    <tr>\n",
       "      <th>2</th>\n",
       "      <td>3</td>\n",
       "      <td>52.0</td>\n",
       "      <td>8.288136</td>\n",
       "      <td>1.073446</td>\n",
       "      <td>496.0</td>\n",
       "      <td>2.802260</td>\n",
       "      <td>37.85</td>\n",
       "      <td>-122.24</td>\n",
       "      <td>3.521</td>\n",
       "    </tr>\n",
       "    <tr>\n",
       "      <th>3</th>\n",
       "      <td>2</td>\n",
       "      <td>52.0</td>\n",
       "      <td>5.817352</td>\n",
       "      <td>1.073059</td>\n",
       "      <td>558.0</td>\n",
       "      <td>2.547945</td>\n",
       "      <td>37.85</td>\n",
       "      <td>-122.25</td>\n",
       "      <td>3.413</td>\n",
       "    </tr>\n",
       "    <tr>\n",
       "      <th>4</th>\n",
       "      <td>1</td>\n",
       "      <td>52.0</td>\n",
       "      <td>6.281853</td>\n",
       "      <td>1.081081</td>\n",
       "      <td>565.0</td>\n",
       "      <td>2.181467</td>\n",
       "      <td>37.85</td>\n",
       "      <td>-122.25</td>\n",
       "      <td>3.422</td>\n",
       "    </tr>\n",
       "  </tbody>\n",
       "</table>\n",
       "</div>"
      ],
      "text/plain": [
       "   MedInc  HouseAge  AveRooms  AveBedrms  Population  AveOccup  Latitude  \\\n",
       "0       4      41.0  6.984127   1.023810       322.0  2.555556     37.88   \n",
       "1       4      21.0  6.238137   0.971880      2401.0  2.109842     37.86   \n",
       "2       3      52.0  8.288136   1.073446       496.0  2.802260     37.85   \n",
       "3       2      52.0  5.817352   1.073059       558.0  2.547945     37.85   \n",
       "4       1      52.0  6.281853   1.081081       565.0  2.181467     37.85   \n",
       "\n",
       "   Longitude  MedHouseVal  \n",
       "0    -122.23        4.526  \n",
       "1    -122.22        3.585  \n",
       "2    -122.24        3.521  \n",
       "3    -122.25        3.413  \n",
       "4    -122.25        3.422  "
      ]
     },
     "execution_count": 3,
     "metadata": {},
     "output_type": "execute_result"
    }
   ],
   "source": [
    "df_EqualWidthDiscretiser.head()"
   ]
  },
  {
   "cell_type": "markdown",
   "metadata": {
    "id": "MfxRrtZSc1EO"
   },
   "source": [
    "As can be observed, the 'MedInc' feature values have been converted into discrete values. To print the width of the bins used for discretization, execute the following code:"
   ]
  },
  {
   "cell_type": "code",
   "execution_count": 4,
   "metadata": {
    "colab": {
     "base_uri": "https://localhost:8080/"
    },
    "id": "x7XAKINSdAMA",
    "outputId": "77bc7984-f22a-4342-f16c-c9161f82862e"
   },
   "outputs": [
    {
     "data": {
      "text/plain": [
       "array([     inf, 1.812525, 1.812525, 1.812525, 1.812525, 1.812525,\n",
       "       1.812525,      inf])"
      ]
     },
     "execution_count": 4,
     "metadata": {},
     "output_type": "execute_result"
    }
   ],
   "source": [
    "import numpy as np\n",
    "np.array(disc.binner_dict_['MedInc'][1:]) - np.array(disc.binner_dict_['MedInc'][0:-1])"
   ]
  },
  {
   "cell_type": "markdown",
   "metadata": {
    "id": "EJTs0gMFdBjv"
   },
   "source": [
    "As observed, all bins, except the first and last ones, have the same width. Let us plot the distribution before and after discretisation."
   ]
  },
  {
   "cell_type": "code",
   "execution_count": 5,
   "metadata": {
    "colab": {
     "base_uri": "https://localhost:8080/"
    },
    "id": "UgPMdkHndi8T",
    "outputId": "d277b202-4b34-4b38-f89e-4c023602c4a7"
   },
   "outputs": [
    {
     "data": {
      "image/png": "[encoded data removed]",
      "text/plain": [
       "<Figure size 1296x360 with 2 Axes>"
      ]
     },
     "metadata": {
      "needs_background": "light"
     },
     "output_type": "display_data"
    }
   ],
   "source": [
    "import seaborn as sns\n",
    "import matplotlib.pyplot as plt\n",
    "fig, axs = plt.subplots(figsize=(18, 5),ncols=2,nrows=1)\n",
    "\n",
    "sns.histplot(data=df, x=\"MedInc\", ax=axs[0], kde=True);axs[0].set_title(f\"Original\")\n",
    "sns.histplot(data=df_EqualWidthDiscretiser, x=\"MedInc\", ax=axs[1], kde=True);axs[1].set_title(f\"After Equal Width Discretiser\")\n",
    "fig.subplots_adjust(hspace=1)"
   ]
  },
  {
   "cell_type": "code",
   "execution_count": 6,
   "metadata": {},
   "outputs": [
    {
     "data": {
      "text/plain": [
       "MedInc    15.0001\n",
       "dtype: float64"
      ]
     },
     "execution_count": 6,
     "metadata": {},
     "output_type": "execute_result"
    }
   ],
   "source": [
    "df[[\"MedInc\"]].max()"
   ]
  },
  {
   "cell_type": "markdown",
   "metadata": {
    "id": "HIk0SvZKfKY0"
   },
   "source": [
    "**Task 3.9**: What do you observe from the distributions of the MedInc feature before and after discretisation?"
   ]
  },
  {
   "cell_type": "markdown",
   "metadata": {
    "id": "Dwj6WdbjjwOT"
   },
   "source": [
    "**3.2.2.2 Equal-frequency discretization**\n",
    "\n",
    "Equal-frequency discretization is another data preprocessing technique used in feature engineering to transform continuous numerical data into discrete categories of equal frequency. This method divides the range of the data into a specified number of bins or intervals, ensuring that each bin contains approximately the same number of data points.\n",
    "\n",
    "**Task 3.10**: In this task, you will utilize the **KBinsDiscretizer** from scikit-learn (sklearn.preprocessing) to:\n",
    "1. Fit and apply the KBinsDiscretizer to the 'MedInc' feature in the 'fetch_california_housing' dataset.\n",
    "2. Plot and observe the histogram for the transformed feature."
   ]
  },
  {
   "cell_type": "code",
   "execution_count": 7,
   "metadata": {},
   "outputs": [
    {
     "data": {
      "text/html": [
       "<div>\n",
       "<style scoped>\n",
       "    .dataframe tbody tr th:only-of-type {\n",
       "        vertical-align: middle;\n",
       "    }\n",
       "\n",
       "    .dataframe tbody tr th {\n",
       "        vertical-align: top;\n",
       "    }\n",
       "\n",
       "    .dataframe thead th {\n",
       "        text-align: right;\n",
       "    }\n",
       "</style>\n",
       "<table border=\"1\" class=\"dataframe\">\n",
       "  <thead>\n",
       "    <tr style=\"text-align: right;\">\n",
       "      <th></th>\n",
       "      <th>MedInc</th>\n",
       "    </tr>\n",
       "  </thead>\n",
       "  <tbody>\n",
       "    <tr>\n",
       "      <th>0</th>\n",
       "      <td>8.3252</td>\n",
       "    </tr>\n",
       "    <tr>\n",
       "      <th>1</th>\n",
       "      <td>8.3014</td>\n",
       "    </tr>\n",
       "    <tr>\n",
       "      <th>2</th>\n",
       "      <td>7.2574</td>\n",
       "    </tr>\n",
       "    <tr>\n",
       "      <th>3</th>\n",
       "      <td>5.6431</td>\n",
       "    </tr>\n",
       "    <tr>\n",
       "      <th>4</th>\n",
       "      <td>3.8462</td>\n",
       "    </tr>\n",
       "  </tbody>\n",
       "</table>\n",
       "</div>"
      ],
      "text/plain": [
       "   MedInc\n",
       "0  8.3252\n",
       "1  8.3014\n",
       "2  7.2574\n",
       "3  5.6431\n",
       "4  3.8462"
      ]
     },
     "execution_count": 7,
     "metadata": {},
     "output_type": "execute_result"
    }
   ],
   "source": [
    "df[['MedInc']].head()"
   ]
  },
  {
   "cell_type": "code",
   "execution_count": 8,
   "metadata": {
    "id": "ZSFS2OODmsbv"
   },
   "outputs": [],
   "source": [
    "#write you code here\n",
    "from sklearn.preprocessing import KBinsDiscretizer\n",
    "discretizer = KBinsDiscretizer(n_bins=8, strategy='quantile', encode='ordinal')\n",
    "discretizer.fit(df[['MedInc']])\n",
    "\n",
    "df_EqualWidthDiscretiser = df.copy()\n",
    "\n",
    "df_EqualWidthDiscretiser[['MedInc']] = discretizer.transform(df[['MedInc']])"
   ]
  },
  {
   "cell_type": "code",
   "execution_count": 9,
   "metadata": {},
   "outputs": [
    {
     "data": {
      "text/plain": [
       "((20640, 1), (20640, 1))"
      ]
     },
     "execution_count": 9,
     "metadata": {},
     "output_type": "execute_result"
    }
   ],
   "source": [
    "df_EqualWidthDiscretiser[['MedInc']].shape, df[['MedInc']].shape"
   ]
  },
  {
   "cell_type": "code",
   "execution_count": 10,
   "metadata": {},
   "outputs": [
    {
     "data": {
      "text/plain": [
       "array([7., 6., 4., 3., 1., 2., 0., 5.])"
      ]
     },
     "execution_count": 10,
     "metadata": {},
     "output_type": "execute_result"
    }
   ],
   "source": [
    "df_EqualWidthDiscretiser.MedInc.unique()"
   ]
  },
  {
   "cell_type": "code",
   "execution_count": 11,
   "metadata": {},
   "outputs": [
    {
     "data": {
      "image/png": "[encoded data removed]",
      "text/plain": [
       "<Figure size 1296x360 with 2 Axes>"
      ]
     },
     "metadata": {
      "needs_background": "light"
     },
     "output_type": "display_data"
    }
   ],
   "source": [
    "import seaborn as sns\n",
    "import matplotlib.pyplot as plt\n",
    "fig, axs = plt.subplots(figsize=(18, 5),ncols=2,nrows=1)\n",
    "\n",
    "sns.histplot(data=df, x=\"MedInc\", ax=axs[0], kde=True);axs[0].set_title(f\"Original\")\n",
    "sns.histplot(data=df_EqualWidthDiscretiser, x=\"MedInc\", ax=axs[1], kde=True);axs[1].set_title(f\"After Equal Width Discretiser\")\n",
    "fig.subplots_adjust(hspace=1)"
   ]
  },
  {
   "cell_type": "markdown",
   "metadata": {
    "id": "QGAziDZFnFDi"
   },
   "source": [
    "## 3.2.3 Encoding\n"
   ]
  },
  {
   "cell_type": "markdown",
   "metadata": {
    "id": "l0ASVGVxoP0m"
   },
   "source": [
    "Encoding involves converting categorical data, such as text or labels, into a numerical format that machine learning models can interpret. In this experiment, you will investigate three encoding methods: one-hot encoding (creating binary columns for each category), label encoding (assigning a unique integer to each category), and ordinal encoding (mapping ordinal categories to numerical values)."
   ]
  },
  {
   "cell_type": "markdown",
   "metadata": {
    "id": "r8QnbIWGptLG"
   },
   "source": [
    "**3.2.3.1 One-hot encoding**\n",
    "\n",
    "To demonstrate one-hot encoding, You will apply these techniques to a modified version of the Medical Cost Personal Dataset from Kaggle (https://www.kaggle.com/datasets/mirichoi0218/insurance). This dataset provides information pertaining to healthcare and medical insurance costs. It includes the following features:\n",
    "\n",
    "1. Age: Represents the age of the insured individuals.\n",
    "2. Gender: Indicates the gender of the insured individuals (male or female).\n",
    "3. BMI (Body Mass Index): A numerical measure that assesses body weight in relation to height.\n",
    "4. Children: Denotes the number of children or dependents covered by the insurance plan.\n",
    "5. Smoker: Specifies whether the insured individuals are smokers (with values typically as \"yes\" or \"no\").\n",
    "6. Region: Describes the geographic region or location where the insured individuals reside.\n",
    "7. Charges: Represents the medical insurance charges or costs incurred by the insured individuals.\n",
    "\n",
    "This dataset is stored in a file named **ENCS5141_Exp3_MedicalCostPersonalDatasets.csv**, which can be found in the GitHub repository located at https://github.com/mkjubran/ENCS5141Datasets.\n",
    "\n",
    "To clone the repository if you haven't already done so, execute the following code"
   ]
  },
  {
   "cell_type": "code",
   "execution_count": null,
   "metadata": {
    "colab": {
     "base_uri": "https://localhost:8080/"
    },
    "id": "zSa7Cu1_sihf",
    "outputId": "c007ce9c-a993-4a1a-939c-4bb958142b0e"
   },
   "outputs": [],
   "source": [
    "!rm -rf ./ENCS5141Datasets\n",
    "!git clone https://github.com/mkjubran/ENCS5141Datasets.git"
   ]
  },
  {
   "cell_type": "markdown",
   "metadata": {
    "id": "Oym3BIiUud7R"
   },
   "source": [
    "To read the file into a DataFrame and display information about the file run the following code snippet"
   ]
  },
  {
   "cell_type": "code",
   "execution_count": 13,
   "metadata": {
    "colab": {
     "base_uri": "https://localhost:8080/"
    },
    "id": "kER00es1upfN",
    "outputId": "fb1f3931-464f-41bb-ce41-5565208bff7b"
   },
   "outputs": [
    {
     "data": {
      "text/html": [
       "<div>\n",
       "<style scoped>\n",
       "    .dataframe tbody tr th:only-of-type {\n",
       "        vertical-align: middle;\n",
       "    }\n",
       "\n",
       "    .dataframe tbody tr th {\n",
       "        vertical-align: top;\n",
       "    }\n",
       "\n",
       "    .dataframe thead th {\n",
       "        text-align: right;\n",
       "    }\n",
       "</style>\n",
       "<table border=\"1\" class=\"dataframe\">\n",
       "  <thead>\n",
       "    <tr style=\"text-align: right;\">\n",
       "      <th></th>\n",
       "      <th>age</th>\n",
       "      <th>gender</th>\n",
       "      <th>bmi</th>\n",
       "      <th>children</th>\n",
       "      <th>smoker</th>\n",
       "      <th>region</th>\n",
       "      <th>charges</th>\n",
       "    </tr>\n",
       "  </thead>\n",
       "  <tbody>\n",
       "    <tr>\n",
       "      <th>0</th>\n",
       "      <td>19</td>\n",
       "      <td>female</td>\n",
       "      <td>27.900</td>\n",
       "      <td>0</td>\n",
       "      <td>yes</td>\n",
       "      <td>southwest</td>\n",
       "      <td>16884.92400</td>\n",
       "    </tr>\n",
       "    <tr>\n",
       "      <th>1</th>\n",
       "      <td>18</td>\n",
       "      <td>male</td>\n",
       "      <td>33.770</td>\n",
       "      <td>1</td>\n",
       "      <td>no</td>\n",
       "      <td>southeast</td>\n",
       "      <td>1725.55230</td>\n",
       "    </tr>\n",
       "    <tr>\n",
       "      <th>2</th>\n",
       "      <td>28</td>\n",
       "      <td>male</td>\n",
       "      <td>33.000</td>\n",
       "      <td>3</td>\n",
       "      <td>no</td>\n",
       "      <td>southeast</td>\n",
       "      <td>4449.46200</td>\n",
       "    </tr>\n",
       "    <tr>\n",
       "      <th>3</th>\n",
       "      <td>33</td>\n",
       "      <td>male</td>\n",
       "      <td>22.705</td>\n",
       "      <td>0</td>\n",
       "      <td>no</td>\n",
       "      <td>northwest</td>\n",
       "      <td>21984.47061</td>\n",
       "    </tr>\n",
       "    <tr>\n",
       "      <th>4</th>\n",
       "      <td>32</td>\n",
       "      <td>male</td>\n",
       "      <td>28.880</td>\n",
       "      <td>0</td>\n",
       "      <td>no</td>\n",
       "      <td>northwest</td>\n",
       "      <td>3866.85520</td>\n",
       "    </tr>\n",
       "  </tbody>\n",
       "</table>\n",
       "</div>"
      ],
      "text/plain": [
       "   age  gender     bmi  children smoker     region      charges\n",
       "0   19  female  27.900         0    yes  southwest  16884.92400\n",
       "1   18    male  33.770         1     no  southeast   1725.55230\n",
       "2   28    male  33.000         3     no  southeast   4449.46200\n",
       "3   33    male  22.705         0     no  northwest  21984.47061\n",
       "4   32    male  28.880         0     no  northwest   3866.85520"
      ]
     },
     "execution_count": 13,
     "metadata": {},
     "output_type": "execute_result"
    }
   ],
   "source": [
    "import pandas as pd\n",
    "df = pd.read_csv(\"./ENCS5141Datasets/ENCS5141_Exp3_MedicalCostPersonalDatasets.csv\")\n",
    "df.head()"
   ]
  },
  {
   "cell_type": "markdown",
   "metadata": {
    "id": "lz28xJf-u2Ag"
   },
   "source": [
    "Use the **OneHotEncoder** from sklearn to encode the **gender** feature."
   ]
  },
  {
   "cell_type": "code",
   "execution_count": 14,
   "metadata": {
    "colab": {
     "base_uri": "https://localhost:8080/"
    },
    "id": "7lVSOg5UvIx_",
    "outputId": "4ee39828-ca80-4313-ce5f-4dab1341dc9e"
   },
   "outputs": [
    {
     "data": {
      "text/html": [
       "<div>\n",
       "<style scoped>\n",
       "    .dataframe tbody tr th:only-of-type {\n",
       "        vertical-align: middle;\n",
       "    }\n",
       "\n",
       "    .dataframe tbody tr th {\n",
       "        vertical-align: top;\n",
       "    }\n",
       "\n",
       "    .dataframe thead th {\n",
       "        text-align: right;\n",
       "    }\n",
       "</style>\n",
       "<table border=\"1\" class=\"dataframe\">\n",
       "  <thead>\n",
       "    <tr style=\"text-align: right;\">\n",
       "      <th></th>\n",
       "      <th>age</th>\n",
       "      <th>gender</th>\n",
       "      <th>bmi</th>\n",
       "      <th>children</th>\n",
       "      <th>smoker</th>\n",
       "      <th>region</th>\n",
       "      <th>charges</th>\n",
       "      <th>female</th>\n",
       "      <th>male</th>\n",
       "    </tr>\n",
       "  </thead>\n",
       "  <tbody>\n",
       "    <tr>\n",
       "      <th>0</th>\n",
       "      <td>19</td>\n",
       "      <td>female</td>\n",
       "      <td>27.900</td>\n",
       "      <td>0</td>\n",
       "      <td>yes</td>\n",
       "      <td>southwest</td>\n",
       "      <td>16884.92400</td>\n",
       "      <td>1.0</td>\n",
       "      <td>0.0</td>\n",
       "    </tr>\n",
       "    <tr>\n",
       "      <th>1</th>\n",
       "      <td>18</td>\n",
       "      <td>male</td>\n",
       "      <td>33.770</td>\n",
       "      <td>1</td>\n",
       "      <td>no</td>\n",
       "      <td>southeast</td>\n",
       "      <td>1725.55230</td>\n",
       "      <td>0.0</td>\n",
       "      <td>1.0</td>\n",
       "    </tr>\n",
       "    <tr>\n",
       "      <th>2</th>\n",
       "      <td>28</td>\n",
       "      <td>male</td>\n",
       "      <td>33.000</td>\n",
       "      <td>3</td>\n",
       "      <td>no</td>\n",
       "      <td>southeast</td>\n",
       "      <td>4449.46200</td>\n",
       "      <td>0.0</td>\n",
       "      <td>1.0</td>\n",
       "    </tr>\n",
       "    <tr>\n",
       "      <th>3</th>\n",
       "      <td>33</td>\n",
       "      <td>male</td>\n",
       "      <td>22.705</td>\n",
       "      <td>0</td>\n",
       "      <td>no</td>\n",
       "      <td>northwest</td>\n",
       "      <td>21984.47061</td>\n",
       "      <td>0.0</td>\n",
       "      <td>1.0</td>\n",
       "    </tr>\n",
       "    <tr>\n",
       "      <th>4</th>\n",
       "      <td>32</td>\n",
       "      <td>male</td>\n",
       "      <td>28.880</td>\n",
       "      <td>0</td>\n",
       "      <td>no</td>\n",
       "      <td>northwest</td>\n",
       "      <td>3866.85520</td>\n",
       "      <td>0.0</td>\n",
       "      <td>1.0</td>\n",
       "    </tr>\n",
       "  </tbody>\n",
       "</table>\n",
       "</div>"
      ],
      "text/plain": [
       "   age  gender     bmi  children smoker     region      charges  female  male\n",
       "0   19  female  27.900         0    yes  southwest  16884.92400     1.0   0.0\n",
       "1   18    male  33.770         1     no  southeast   1725.55230     0.0   1.0\n",
       "2   28    male  33.000         3     no  southeast   4449.46200     0.0   1.0\n",
       "3   33    male  22.705         0     no  northwest  21984.47061     0.0   1.0\n",
       "4   32    male  28.880         0     no  northwest   3866.85520     0.0   1.0"
      ]
     },
     "execution_count": 14,
     "metadata": {},
     "output_type": "execute_result"
    }
   ],
   "source": [
    "# Import the necessary library for one-hot encoding\n",
    "from sklearn.preprocessing import OneHotEncoder\n",
    "\n",
    "# Create an instance of the OneHotEncoder with 'handle_unknown' set to 'ignore'\n",
    "enc = OneHotEncoder(handle_unknown='ignore')\n",
    "\n",
    "# Fit the encoder on the 'gender' column of the DataFrame\n",
    "enc.fit(df[['gender']])\n",
    "\n",
    "# Transform the 'gender' column into a one-hot encoded array and convert it to a dense array\n",
    "df_gender = enc.transform(df[['gender']]).toarray()\n",
    "\n",
    "# Create a copy of the original DataFrame to store the one-hot encoded data\n",
    "df_ohenc = df.copy()\n",
    "\n",
    "# Add the one-hot encoded columns to the new DataFrame using the encoder's categories\n",
    "df_ohenc[enc.categories_[0]] = df_gender\n",
    "\n",
    "# Display the first few rows of the new DataFrame\n",
    "df_ohenc.head()\n"
   ]
  },
  {
   "cell_type": "markdown",
   "metadata": {
    "id": "aP8llgXAz098"
   },
   "source": [
    "Each category is represented by its own distinct binary column in the encoding. Remember to exclude the original 'gender' (text) feature from the encoded dataset before using it for machine learning purposes"
   ]
  },
  {
   "cell_type": "markdown",
   "metadata": {
    "id": "GBzSD--H0Inv"
   },
   "source": [
    "**Task 3.9**: use the OneHotEncoder from sklearn from sklearn to encode the **smoker** and **region** features."
   ]
  },
  {
   "cell_type": "code",
   "execution_count": 15,
   "metadata": {
    "id": "lUXLaq7h0_n-"
   },
   "outputs": [
    {
     "data": {
      "text/html": [
       "<div>\n",
       "<style scoped>\n",
       "    .dataframe tbody tr th:only-of-type {\n",
       "        vertical-align: middle;\n",
       "    }\n",
       "\n",
       "    .dataframe tbody tr th {\n",
       "        vertical-align: top;\n",
       "    }\n",
       "\n",
       "    .dataframe thead th {\n",
       "        text-align: right;\n",
       "    }\n",
       "</style>\n",
       "<table border=\"1\" class=\"dataframe\">\n",
       "  <thead>\n",
       "    <tr style=\"text-align: right;\">\n",
       "      <th></th>\n",
       "      <th>age</th>\n",
       "      <th>gender</th>\n",
       "      <th>bmi</th>\n",
       "      <th>children</th>\n",
       "      <th>smoker</th>\n",
       "      <th>region</th>\n",
       "      <th>charges</th>\n",
       "      <th>smoker_no</th>\n",
       "      <th>smoker_yes</th>\n",
       "      <th>region_northeast</th>\n",
       "      <th>region_northwest</th>\n",
       "      <th>region_southeast</th>\n",
       "      <th>region_southwest</th>\n",
       "    </tr>\n",
       "  </thead>\n",
       "  <tbody>\n",
       "    <tr>\n",
       "      <th>0</th>\n",
       "      <td>19</td>\n",
       "      <td>female</td>\n",
       "      <td>27.900</td>\n",
       "      <td>0</td>\n",
       "      <td>yes</td>\n",
       "      <td>southwest</td>\n",
       "      <td>16884.92400</td>\n",
       "      <td>0.0</td>\n",
       "      <td>1.0</td>\n",
       "      <td>0.0</td>\n",
       "      <td>0.0</td>\n",
       "      <td>0.0</td>\n",
       "      <td>1.0</td>\n",
       "    </tr>\n",
       "    <tr>\n",
       "      <th>1</th>\n",
       "      <td>18</td>\n",
       "      <td>male</td>\n",
       "      <td>33.770</td>\n",
       "      <td>1</td>\n",
       "      <td>no</td>\n",
       "      <td>southeast</td>\n",
       "      <td>1725.55230</td>\n",
       "      <td>1.0</td>\n",
       "      <td>0.0</td>\n",
       "      <td>0.0</td>\n",
       "      <td>0.0</td>\n",
       "      <td>1.0</td>\n",
       "      <td>0.0</td>\n",
       "    </tr>\n",
       "    <tr>\n",
       "      <th>2</th>\n",
       "      <td>28</td>\n",
       "      <td>male</td>\n",
       "      <td>33.000</td>\n",
       "      <td>3</td>\n",
       "      <td>no</td>\n",
       "      <td>southeast</td>\n",
       "      <td>4449.46200</td>\n",
       "      <td>1.0</td>\n",
       "      <td>0.0</td>\n",
       "      <td>0.0</td>\n",
       "      <td>0.0</td>\n",
       "      <td>1.0</td>\n",
       "      <td>0.0</td>\n",
       "    </tr>\n",
       "    <tr>\n",
       "      <th>3</th>\n",
       "      <td>33</td>\n",
       "      <td>male</td>\n",
       "      <td>22.705</td>\n",
       "      <td>0</td>\n",
       "      <td>no</td>\n",
       "      <td>northwest</td>\n",
       "      <td>21984.47061</td>\n",
       "      <td>1.0</td>\n",
       "      <td>0.0</td>\n",
       "      <td>0.0</td>\n",
       "      <td>1.0</td>\n",
       "      <td>0.0</td>\n",
       "      <td>0.0</td>\n",
       "    </tr>\n",
       "    <tr>\n",
       "      <th>4</th>\n",
       "      <td>32</td>\n",
       "      <td>male</td>\n",
       "      <td>28.880</td>\n",
       "      <td>0</td>\n",
       "      <td>no</td>\n",
       "      <td>northwest</td>\n",
       "      <td>3866.85520</td>\n",
       "      <td>1.0</td>\n",
       "      <td>0.0</td>\n",
       "      <td>0.0</td>\n",
       "      <td>1.0</td>\n",
       "      <td>0.0</td>\n",
       "      <td>0.0</td>\n",
       "    </tr>\n",
       "  </tbody>\n",
       "</table>\n",
       "</div>"
      ],
      "text/plain": [
       "   age  gender     bmi  children smoker     region      charges  smoker_no  \\\n",
       "0   19  female  27.900         0    yes  southwest  16884.92400        0.0   \n",
       "1   18    male  33.770         1     no  southeast   1725.55230        1.0   \n",
       "2   28    male  33.000         3     no  southeast   4449.46200        1.0   \n",
       "3   33    male  22.705         0     no  northwest  21984.47061        1.0   \n",
       "4   32    male  28.880         0     no  northwest   3866.85520        1.0   \n",
       "\n",
       "   smoker_yes  region_northeast  region_northwest  region_southeast  \\\n",
       "0         1.0               0.0               0.0               0.0   \n",
       "1         0.0               0.0               0.0               1.0   \n",
       "2         0.0               0.0               0.0               1.0   \n",
       "3         0.0               0.0               1.0               0.0   \n",
       "4         0.0               0.0               1.0               0.0   \n",
       "\n",
       "   region_southwest  \n",
       "0               1.0  \n",
       "1               0.0  \n",
       "2               0.0  \n",
       "3               0.0  \n",
       "4               0.0  "
      ]
     },
     "execution_count": 15,
     "metadata": {},
     "output_type": "execute_result"
    }
   ],
   "source": [
    "#write you code here\n",
    "# Create an instance of the OneHotEncoder with 'handle_unknown' set to 'ignore'\n",
    "enc = OneHotEncoder(handle_unknown='ignore')\n",
    "\n",
    "# Fit the encoder on the 'gender' column of the DataFrame\n",
    "enc.fit(df[['smoker', 'region']])\n",
    "\n",
    "# Transform the 'gender' column into a one-hot encoded array and convert it to a dense array\n",
    "df_gender = enc.transform(df[['smoker', 'region']]).toarray()\n",
    "\n",
    "# Create a copy of the original DataFrame to store the one-hot encoded data\n",
    "df_ohenc = df.copy()\n",
    "\n",
    "# Add the one-hot encoded columns to the new DataFrame using the encoder's categories\n",
    "encoded_columns = enc.get_feature_names_out(input_features=['smoker', 'region'])\n",
    "\n",
    "df_ohenc[encoded_columns] = df_gender\n",
    "\n",
    "# Display the first few rows of the new DataFrame\n",
    "df_ohenc.head()"
   ]
  },
  {
   "cell_type": "code",
   "execution_count": 17,
   "metadata": {},
   "outputs": [
    {
     "data": {
      "text/plain": [
       "array(['smoker_no', 'smoker_yes', 'region_northeast', 'region_northwest',\n",
       "       'region_southeast', 'region_southwest'], dtype=object)"
      ]
     },
     "execution_count": 17,
     "metadata": {},
     "output_type": "execute_result"
    }
   ],
   "source": [
    "encoded_columns = enc.get_feature_names_out(input_features=['smoker', 'region'])\n",
    "encoded_columns"
   ]
  },
  {
   "cell_type": "markdown",
   "metadata": {
    "id": "son0bKTj1AVl"
   },
   "source": [
    "**3.2.3.1 Label encoding**\n",
    "\n",
    "**Task 3.10**: use the LabelEncoder from sklearn (sklearn.preprocessing) to encode all text features in the Medical Cost Personal Dataset and observe the difference between one-hot encoding and label encoding."
   ]
  },
  {
   "cell_type": "code",
   "execution_count": 16,
   "metadata": {
    "id": "gLOBZBjP15HI"
   },
   "outputs": [
    {
     "data": {
      "text/html": [
       "<div>\n",
       "<style scoped>\n",
       "    .dataframe tbody tr th:only-of-type {\n",
       "        vertical-align: middle;\n",
       "    }\n",
       "\n",
       "    .dataframe tbody tr th {\n",
       "        vertical-align: top;\n",
       "    }\n",
       "\n",
       "    .dataframe thead th {\n",
       "        text-align: right;\n",
       "    }\n",
       "</style>\n",
       "<table border=\"1\" class=\"dataframe\">\n",
       "  <thead>\n",
       "    <tr style=\"text-align: right;\">\n",
       "      <th></th>\n",
       "      <th>age</th>\n",
       "      <th>gender</th>\n",
       "      <th>bmi</th>\n",
       "      <th>children</th>\n",
       "      <th>smoker</th>\n",
       "      <th>region</th>\n",
       "      <th>charges</th>\n",
       "      <th>gender_encoded</th>\n",
       "      <th>smoker_encoded</th>\n",
       "      <th>region_encoded</th>\n",
       "    </tr>\n",
       "  </thead>\n",
       "  <tbody>\n",
       "    <tr>\n",
       "      <th>0</th>\n",
       "      <td>19</td>\n",
       "      <td>female</td>\n",
       "      <td>27.900</td>\n",
       "      <td>0</td>\n",
       "      <td>yes</td>\n",
       "      <td>southwest</td>\n",
       "      <td>16884.92400</td>\n",
       "      <td>0</td>\n",
       "      <td>1</td>\n",
       "      <td>3</td>\n",
       "    </tr>\n",
       "    <tr>\n",
       "      <th>1</th>\n",
       "      <td>18</td>\n",
       "      <td>male</td>\n",
       "      <td>33.770</td>\n",
       "      <td>1</td>\n",
       "      <td>no</td>\n",
       "      <td>southeast</td>\n",
       "      <td>1725.55230</td>\n",
       "      <td>1</td>\n",
       "      <td>0</td>\n",
       "      <td>2</td>\n",
       "    </tr>\n",
       "    <tr>\n",
       "      <th>2</th>\n",
       "      <td>28</td>\n",
       "      <td>male</td>\n",
       "      <td>33.000</td>\n",
       "      <td>3</td>\n",
       "      <td>no</td>\n",
       "      <td>southeast</td>\n",
       "      <td>4449.46200</td>\n",
       "      <td>1</td>\n",
       "      <td>0</td>\n",
       "      <td>2</td>\n",
       "    </tr>\n",
       "    <tr>\n",
       "      <th>3</th>\n",
       "      <td>33</td>\n",
       "      <td>male</td>\n",
       "      <td>22.705</td>\n",
       "      <td>0</td>\n",
       "      <td>no</td>\n",
       "      <td>northwest</td>\n",
       "      <td>21984.47061</td>\n",
       "      <td>1</td>\n",
       "      <td>0</td>\n",
       "      <td>1</td>\n",
       "    </tr>\n",
       "    <tr>\n",
       "      <th>4</th>\n",
       "      <td>32</td>\n",
       "      <td>male</td>\n",
       "      <td>28.880</td>\n",
       "      <td>0</td>\n",
       "      <td>no</td>\n",
       "      <td>northwest</td>\n",
       "      <td>3866.85520</td>\n",
       "      <td>1</td>\n",
       "      <td>0</td>\n",
       "      <td>1</td>\n",
       "    </tr>\n",
       "  </tbody>\n",
       "</table>\n",
       "</div>"
      ],
      "text/plain": [
       "   age  gender     bmi  children smoker     region      charges  \\\n",
       "0   19  female  27.900         0    yes  southwest  16884.92400   \n",
       "1   18    male  33.770         1     no  southeast   1725.55230   \n",
       "2   28    male  33.000         3     no  southeast   4449.46200   \n",
       "3   33    male  22.705         0     no  northwest  21984.47061   \n",
       "4   32    male  28.880         0     no  northwest   3866.85520   \n",
       "\n",
       "   gender_encoded  smoker_encoded  region_encoded  \n",
       "0               0               1               3  \n",
       "1               1               0               2  \n",
       "2               1               0               2  \n",
       "3               1               0               1  \n",
       "4               1               0               1  "
      ]
     },
     "execution_count": 16,
     "metadata": {},
     "output_type": "execute_result"
    }
   ],
   "source": [
    "#write you code here\n",
    "from sklearn.preprocessing import LabelEncoder\n",
    "\n",
    "features = ['gender', 'smoker', 'region']\n",
    "\n",
    "df_le = df.copy()\n",
    "label_encoder = LabelEncoder()\n",
    "for feature in features:\n",
    "    df_le[feature + \"_encoded\"] = label_encoder.fit_transform(df[feature])\n",
    "df_le.head()"
   ]
  },
  {
   "cell_type": "markdown",
   "metadata": {
    "id": "2zW8jLW3K3Ee"
   },
   "source": [
    "# 3.3 Handling High-Dimensional Data"
   ]
  },
  {
   "cell_type": "markdown",
   "metadata": {
    "id": "SoOaOpxm3SeD"
   },
   "source": [
    "To tackle this challenge, various techniques and strategies are employed. In this experiment, we will specifically investigate dimensionality reduction techniques as an approach to address high-dimensional data. Our focus will be on two prominent methods for dimensionality reduction: Principal Component Analysis (PCA) and Linear Discriminant Analysis (LDA).\n",
    "\n",
    "**Principal Component Analysis (PCA)**: PCA is one of the most widely used techniques for reducing the dimensionality of data. It transforms the original features into a new set of orthogonal features called principal components. These components capture the maximum variance in the data, allowing for dimensionality reduction while retaining as much information as possible.\n",
    "\n",
    "**Linear Discriminant Analysis (LDA)**: LDA is used when the goal is not just dimensionality reduction but also class separation. It finds a linear combination of features that maximizes the distance between different classes while minimizing the variance within each class.\n",
    "\n",
    "Both PCA and LDA are dimensionality reduction techniques, PCA is unsupervised and aims to capture maximum variance, whereas LDA is supervised and focuses on maximizing class separation. The choice between PCA and LDA depends on the specific goals of your machine learning task and whether you are dealing with a classification problem."
   ]
  },
  {
   "cell_type": "markdown",
   "metadata": {
    "id": "X5gFmSW24UOp"
   },
   "source": [
    "## 3.3.1 Principle component Analysis"
   ]
  },
  {
   "cell_type": "markdown",
   "metadata": {
    "id": "067wTTCv4Keu"
   },
   "source": [
    "\n",
    "**3.1.1.1 Synthetic Data**\n",
    "\n",
    "To demonstrate the PCA, let us start with synthetic data as presented in the code snippet below."
   ]
  },
  {
   "cell_type": "code",
   "execution_count": 17,
   "metadata": {
    "colab": {
     "base_uri": "https://localhost:8080/"
    },
    "id": "fZ8U_wP75Sdv",
    "outputId": "f4c981a8-95ce-42b1-9fee-12cb9e8057b6"
   },
   "outputs": [
    {
     "data": {
      "text/html": [
       "<div>\n",
       "<style scoped>\n",
       "    .dataframe tbody tr th:only-of-type {\n",
       "        vertical-align: middle;\n",
       "    }\n",
       "\n",
       "    .dataframe tbody tr th {\n",
       "        vertical-align: top;\n",
       "    }\n",
       "\n",
       "    .dataframe thead th {\n",
       "        text-align: right;\n",
       "    }\n",
       "</style>\n",
       "<table border=\"1\" class=\"dataframe\">\n",
       "  <thead>\n",
       "    <tr style=\"text-align: right;\">\n",
       "      <th></th>\n",
       "      <th>A</th>\n",
       "      <th>B</th>\n",
       "      <th>C</th>\n",
       "      <th>D</th>\n",
       "    </tr>\n",
       "  </thead>\n",
       "  <tbody>\n",
       "    <tr>\n",
       "      <th>0</th>\n",
       "      <td>-1.315588</td>\n",
       "      <td>2.653368</td>\n",
       "      <td>0.450285</td>\n",
       "      <td>4.591873</td>\n",
       "    </tr>\n",
       "    <tr>\n",
       "      <th>1</th>\n",
       "      <td>0.819938</td>\n",
       "      <td>6.379748</td>\n",
       "      <td>0.190199</td>\n",
       "      <td>3.055061</td>\n",
       "    </tr>\n",
       "    <tr>\n",
       "      <th>2</th>\n",
       "      <td>1.101041</td>\n",
       "      <td>-1.502405</td>\n",
       "      <td>0.181797</td>\n",
       "      <td>9.211108</td>\n",
       "    </tr>\n",
       "    <tr>\n",
       "      <th>3</th>\n",
       "      <td>0.866411</td>\n",
       "      <td>-0.397391</td>\n",
       "      <td>0.935937</td>\n",
       "      <td>1.020101</td>\n",
       "    </tr>\n",
       "    <tr>\n",
       "      <th>4</th>\n",
       "      <td>-1.382987</td>\n",
       "      <td>-4.200874</td>\n",
       "      <td>0.605125</td>\n",
       "      <td>1.638486</td>\n",
       "    </tr>\n",
       "  </tbody>\n",
       "</table>\n",
       "</div>"
      ],
      "text/plain": [
       "          A         B         C         D\n",
       "0 -1.315588  2.653368  0.450285  4.591873\n",
       "1  0.819938  6.379748  0.190199  3.055061\n",
       "2  1.101041 -1.502405  0.181797  9.211108\n",
       "3  0.866411 -0.397391  0.935937  1.020101\n",
       "4 -1.382987 -4.200874  0.605125  1.638486"
      ]
     },
     "execution_count": 17,
     "metadata": {},
     "output_type": "execute_result"
    }
   ],
   "source": [
    "import numpy as np\n",
    "import pandas as pd\n",
    "\n",
    "#To generate an array of floating numbers between -2 and 2\n",
    "A = np.random.random(1000)*4 - 2\n",
    "\n",
    "#To generate an array of floating numbers between -10 and 10\n",
    "B = np.random.random(1000)*20 - 10\n",
    "\n",
    "#To generate an array of floating numbers between 0 and 1\n",
    "C = np.random.random(1000)\n",
    "\n",
    "#To generate an array of floating numbers between 0 and 10\n",
    "D = np.random.random(1000)*10\n",
    "\n",
    "df = pd.DataFrame({'A':A,'B':B,'C':C,'D':D})\n",
    "df.head()"
   ]
  },
  {
   "cell_type": "markdown",
   "metadata": {
    "id": "GCPBqrDJ7v36"
   },
   "source": [
    "Utilize scikit-learn's **PCA** (Principal Component Analysis) to derive PCA components from the synthetic data. In this context, we will configure the n_components parameter to yield a result of 4 components."
   ]
  },
  {
   "cell_type": "code",
   "execution_count": 18,
   "metadata": {
    "colab": {
     "base_uri": "https://localhost:8080/"
    },
    "id": "sSUmGcMi5iQD",
    "outputId": "060cd1a5-f339-4314-b162-dfec8a6bd529"
   },
   "outputs": [
    {
     "name": "stdout",
     "output_type": "stream",
     "text": [
      "Explained variance ratio for each PCA component are [0.77859954 0.18996538 0.02949271 0.00194236]\n"
     ]
    },
    {
     "data": {
      "text/html": [
       "<div>\n",
       "<style scoped>\n",
       "    .dataframe tbody tr th:only-of-type {\n",
       "        vertical-align: middle;\n",
       "    }\n",
       "\n",
       "    .dataframe tbody tr th {\n",
       "        vertical-align: top;\n",
       "    }\n",
       "\n",
       "    .dataframe thead th {\n",
       "        text-align: right;\n",
       "    }\n",
       "</style>\n",
       "<table border=\"1\" class=\"dataframe\">\n",
       "  <thead>\n",
       "    <tr style=\"text-align: right;\">\n",
       "      <th></th>\n",
       "      <th>0</th>\n",
       "      <th>1</th>\n",
       "      <th>2</th>\n",
       "      <th>3</th>\n",
       "    </tr>\n",
       "  </thead>\n",
       "  <tbody>\n",
       "    <tr>\n",
       "      <th>0</th>\n",
       "      <td>2.850295</td>\n",
       "      <td>0.427512</td>\n",
       "      <td>-1.298027</td>\n",
       "      <td>0.031851</td>\n",
       "    </tr>\n",
       "    <tr>\n",
       "      <th>1</th>\n",
       "      <td>6.583316</td>\n",
       "      <td>1.925698</td>\n",
       "      <td>0.852992</td>\n",
       "      <td>0.294394</td>\n",
       "    </tr>\n",
       "    <tr>\n",
       "      <th>2</th>\n",
       "      <td>-1.367842</td>\n",
       "      <td>-4.142287</td>\n",
       "      <td>1.099608</td>\n",
       "      <td>0.340973</td>\n",
       "    </tr>\n",
       "    <tr>\n",
       "      <th>3</th>\n",
       "      <td>-0.172027</td>\n",
       "      <td>4.032529</td>\n",
       "      <td>0.869492</td>\n",
       "      <td>-0.450793</td>\n",
       "    </tr>\n",
       "    <tr>\n",
       "      <th>4</th>\n",
       "      <td>-3.970590</td>\n",
       "      <td>3.455959</td>\n",
       "      <td>-1.400253</td>\n",
       "      <td>-0.126982</td>\n",
       "    </tr>\n",
       "  </tbody>\n",
       "</table>\n",
       "</div>"
      ],
      "text/plain": [
       "          0         1         2         3\n",
       "0  2.850295  0.427512 -1.298027  0.031851\n",
       "1  6.583316  1.925698  0.852992  0.294394\n",
       "2 -1.367842 -4.142287  1.099608  0.340973\n",
       "3 -0.172027  4.032529  0.869492 -0.450793\n",
       "4 -3.970590  3.455959 -1.400253 -0.126982"
      ]
     },
     "execution_count": 18,
     "metadata": {},
     "output_type": "execute_result"
    }
   ],
   "source": [
    "# Import the PCA module from scikit-learn\n",
    "from sklearn.decomposition import PCA\n",
    "\n",
    "# Create an instance of PCA with n_components set to 4\n",
    "pca = PCA(n_components=4)\n",
    "\n",
    "# Fit the PCA model on the data (assuming 'df' contains your dataset)\n",
    "pca.fit(df)\n",
    "\n",
    "# Print the explained variance ratio for each selected component\n",
    "print(f\"Explained variance ratio for each PCA component are {pca.explained_variance_ratio_}\")\n",
    "\n",
    "# Transform the original DataFrame 'df' using PCA\n",
    "Array_PCA = pca.transform(df)\n",
    "\n",
    "# Create a new DataFrame 'df_PCA' from the transformed data\n",
    "df_PCA = pd.DataFrame(Array_PCA)\n",
    "\n",
    "# Display the first few rows of the new DataFrame\n",
    "df_PCA.head()"
   ]
  },
  {
   "cell_type": "markdown",
   "metadata": {
    "id": "dOtilkL78Ejb"
   },
   "source": [
    "Observing the explained variance ratio, which indicates how much of the total variance in the original dataset is accounted for by each principal component, we notice a decreasing trend. This suggests that the initial PCA components have higher variance compared to the later ones. Now, let's visualize the histograms before and after applying PCA"
   ]
  },
  {
   "cell_type": "code",
   "execution_count": 19,
   "metadata": {
    "colab": {
     "base_uri": "https://localhost:8080/"
    },
    "id": "k_ns36zC6qJe",
    "outputId": "5e5358fc-3c81-4087-8ff8-2c744848ce99"
   },
   "outputs": [
    {
     "data": {
      "image/png": "[encoded data removed]",
      "text/plain": [
       "<Figure size 1296x360 with 8 Axes>"
      ]
     },
     "metadata": {
      "needs_background": "light"
     },
     "output_type": "display_data"
    }
   ],
   "source": [
    "import matplotlib.pyplot as plt\n",
    "import seaborn as sns\n",
    "fig, axs = plt.subplots(figsize=(18, 5),ncols=4,nrows=2)\n",
    "\n",
    "sns.histplot(data=df, x=\"A\", ax=axs[0,0], kde=True);axs[0,0].set_title(f\"Original A\")\n",
    "sns.histplot(data=df, x=\"B\", ax=axs[0,1], kde=True);axs[0,1].set_title(f\"Original B\")\n",
    "sns.histplot(data=df, x=\"C\", ax=axs[0,2], kde=True);axs[0,2].set_title(f\"Original C\")\n",
    "sns.histplot(data=df, x=\"D\", ax=axs[0,3], kde=True);axs[0,3].set_title(f\"Original D\")\n",
    "\n",
    "sns.histplot(data=df_PCA, x=0, ax=axs[1,0], kde=True);axs[1,0].set_title(f\"PCA 1'st Component\")\n",
    "sns.histplot(data=df_PCA, x=1, ax=axs[1,1], kde=True);axs[1,1].set_title(f\"PCA 2'nd Component\")\n",
    "sns.histplot(data=df_PCA, x=2, ax=axs[1,2], kde=True);axs[1,2].set_title(f\"PCA 3'rd Component\")\n",
    "sns.histplot(data=df_PCA, x=3, ax=axs[1,3], kde=True);axs[1,3].set_title(f\"PCA 4'th Component\")\n",
    "\n",
    "fig.subplots_adjust(hspace=1)"
   ]
  },
  {
   "cell_type": "code",
   "execution_count": null,
   "metadata": {},
   "outputs": [],
   "source": []
  },
  {
   "cell_type": "markdown",
   "metadata": {
    "id": "AmqQ3JdL-b6C"
   },
   "source": [
    "Notice that the distribution of features in the original data differs from that of the PCA components. Additionally, observe the range of values in the PCA components, where the first component covers a wider range than the second, and this pattern continues for the other PCA components."
   ]
  },
  {
   "cell_type": "markdown",
   "metadata": {
    "id": "NN_X416m-8bq"
   },
   "source": [
    "\n",
    "**Task 3.11**: Modify the numer of components to be preserved by PCA in the previous code and examine the outcomes."
   ]
  },
  {
   "cell_type": "code",
   "execution_count": 20,
   "metadata": {},
   "outputs": [
    {
     "name": "stdout",
     "output_type": "stream",
     "text": [
      "Explained variance ratio for each PCA component are [0.77859954 0.18996538]\n"
     ]
    },
    {
     "data": {
      "text/html": [
       "<div>\n",
       "<style scoped>\n",
       "    .dataframe tbody tr th:only-of-type {\n",
       "        vertical-align: middle;\n",
       "    }\n",
       "\n",
       "    .dataframe tbody tr th {\n",
       "        vertical-align: top;\n",
       "    }\n",
       "\n",
       "    .dataframe thead th {\n",
       "        text-align: right;\n",
       "    }\n",
       "</style>\n",
       "<table border=\"1\" class=\"dataframe\">\n",
       "  <thead>\n",
       "    <tr style=\"text-align: right;\">\n",
       "      <th></th>\n",
       "      <th>0</th>\n",
       "      <th>1</th>\n",
       "    </tr>\n",
       "  </thead>\n",
       "  <tbody>\n",
       "    <tr>\n",
       "      <th>0</th>\n",
       "      <td>2.850295</td>\n",
       "      <td>0.427512</td>\n",
       "    </tr>\n",
       "    <tr>\n",
       "      <th>1</th>\n",
       "      <td>6.583316</td>\n",
       "      <td>1.925698</td>\n",
       "    </tr>\n",
       "    <tr>\n",
       "      <th>2</th>\n",
       "      <td>-1.367842</td>\n",
       "      <td>-4.142287</td>\n",
       "    </tr>\n",
       "    <tr>\n",
       "      <th>3</th>\n",
       "      <td>-0.172027</td>\n",
       "      <td>4.032529</td>\n",
       "    </tr>\n",
       "    <tr>\n",
       "      <th>4</th>\n",
       "      <td>-3.970590</td>\n",
       "      <td>3.455959</td>\n",
       "    </tr>\n",
       "  </tbody>\n",
       "</table>\n",
       "</div>"
      ],
      "text/plain": [
       "          0         1\n",
       "0  2.850295  0.427512\n",
       "1  6.583316  1.925698\n",
       "2 -1.367842 -4.142287\n",
       "3 -0.172027  4.032529\n",
       "4 -3.970590  3.455959"
      ]
     },
     "execution_count": 20,
     "metadata": {},
     "output_type": "execute_result"
    }
   ],
   "source": [
    "# Import the PCA module from scikit-learn\n",
    "from sklearn.decomposition import PCA\n",
    "\n",
    "# Create an instance of PCA with n_components set to 4\n",
    "pca = PCA(n_components=2)\n",
    "\n",
    "# Fit the PCA model on the data (assuming 'df' contains your dataset)\n",
    "pca.fit(df)\n",
    "\n",
    "# Print the explained variance ratio for each selected component\n",
    "print(f\"Explained variance ratio for each PCA component are {pca.explained_variance_ratio_}\")\n",
    "\n",
    "# Transform the original DataFrame 'df' using PCA\n",
    "Array_PCA = pca.transform(df)\n",
    "\n",
    "# Create a new DataFrame 'df_PCA' from the transformed data\n",
    "df_PCA = pd.DataFrame(Array_PCA)\n",
    "\n",
    "# Display the first few rows of the new DataFrame\n",
    "df_PCA.head()"
   ]
  },
  {
   "cell_type": "code",
   "execution_count": 23,
   "metadata": {},
   "outputs": [
    {
     "data": {
      "image/png": "[encoded data removed]",
      "text/plain": [
       "<Figure size 1296x360 with 8 Axes>"
      ]
     },
     "metadata": {
      "needs_background": "light"
     },
     "output_type": "display_data"
    }
   ],
   "source": [
    "import matplotlib.pyplot as plt\n",
    "import seaborn as sns\n",
    "fig, axs = plt.subplots(figsize=(18, 5),ncols=4,nrows=2)\n",
    "\n",
    "sns.histplot(data=df, x=\"A\", ax=axs[0,0], kde=True);axs[0,0].set_title(f\"Original A\")\n",
    "sns.histplot(data=df, x=\"B\", ax=axs[0,1], kde=True);axs[0,1].set_title(f\"Original B\")\n",
    "sns.histplot(data=df, x=\"C\", ax=axs[0,2], kde=True);axs[0,2].set_title(f\"Original C\")\n",
    "sns.histplot(data=df, x=\"D\", ax=axs[0,3], kde=True);axs[0,3].set_title(f\"Original D\")\n",
    "\n",
    "sns.histplot(data=df_PCA, x=0, ax=axs[1,0], kde=True);axs[1,0].set_title(f\"PCA 1'st Component\")\n",
    "sns.histplot(data=df_PCA, x=1, ax=axs[1,1], kde=True);axs[1,1].set_title(f\"PCA 2'nd Component\")\n",
    "\n",
    "fig.subplots_adjust(hspace=1)"
   ]
  },
  {
   "cell_type": "markdown",
   "metadata": {
    "id": "KeNzqbfB_gEn"
   },
   "source": [
    "**3.1.1.2 \"Digits\" Dataset**\n",
    "\n",
    "To assess the influence of PCA on machine learning, we will evaluate and compare the performance of machine learning models with and without employing PCA for feature processing. We will load the \"Digits\" dataset from sklearn. This dataset is a commonly employed for practicing classification algorithms. Here are the key characteristics of the Digits dataset:\n",
    "- **Data Source**: The dataset consists of 8x8 pixel images of handwritten digits (0 through 9). These images are grayscale and were originally collected from different individuals.\n",
    "- **Data Format**: Each image is represented as an 8x8 matrix of pixel values. In scikit-learn, these matrices are flattened into 64-element feature vectors, where each element represents the intensity of a pixel (ranging from 0 to 16).\n",
    "- **Target Labels**: For each image, there is a corresponding label (target) that indicates the digit it represents (0 through 9). These labels are commonly used for classification tasks, where the goal is to train a machine learning model to recognize handwritten digits.\n",
    "\n",
    "In this context, we will employ the **train_test_split()** method to partition the dataset into training and testing datasets. Subsequently, we will utilize the training data to train the random forest classifier. Following the training, we will assess the testing accuracies (classification correctness) before and after PCA. More comprehensive details regarding the random forest classifier and the training and evaluation processes will be discussed in future experiments."
   ]
  },
  {
   "cell_type": "code",
   "execution_count": 21,
   "metadata": {
    "colab": {
     "base_uri": "https://localhost:8080/"
    },
    "id": "LuADzuIeB280",
    "outputId": "d3c7dbed-d9a8-467d-d818-974a5de62ee9"
   },
   "outputs": [
    {
     "name": "stdout",
     "output_type": "stream",
     "text": [
      "Explained variance ratio for each PCA component: [0.14804542 0.13685747 0.12028728 0.08430326 0.05633693 0.04930789\n",
      " 0.04276511 0.03567057 0.03371622 0.03034123 0.02381594 0.02310868\n",
      " 0.01859896 0.0176999  0.01471932 0.01416707 0.01306362 0.01241353\n",
      " 0.01020686 0.00927585]\n",
      "Number of original features: 64\n",
      "Number of features retained after PCA: 20\n",
      "Accuracy of Original features (testing accuracy): 0.9722222222222222\n",
      "Accuracy after PCA (testing accuracy): 0.9722222222222222\n"
     ]
    }
   ],
   "source": [
    "from sklearn.decomposition import PCA\n",
    "from sklearn.datasets import load_digits\n",
    "from sklearn.model_selection import train_test_split\n",
    "from sklearn.ensemble import RandomForestClassifier\n",
    "from sklearn.metrics import accuracy_score\n",
    "\n",
    "# Load the Digits dataset\n",
    "digits = load_digits()\n",
    "X, y = digits.data, digits.target\n",
    "\n",
    "# Split the dataset into training and testing sets\n",
    "X_train, X_test, y_train, y_test = train_test_split(X, y, test_size=0.2, random_state=42)\n",
    "\n",
    "# Train a classifier on the original features and evaluate\n",
    "clf = RandomForestClassifier(random_state=42)\n",
    "clf.fit(X_train, y_train)\n",
    "y_pred = clf.predict(X_test)\n",
    "accuracy = accuracy_score(y_test, y_pred)\n",
    "\n",
    "# Create PCA instance and fit to the data\n",
    "pca = PCA(n_components=20)  # Specify the number of components\n",
    "X_train_pca = pca.fit_transform(X_train)\n",
    "X_test_pca = pca.transform(X_test)\n",
    "\n",
    "# Train a classifier on the retained PCA components and evaluate\n",
    "clf = RandomForestClassifier(random_state=42)\n",
    "clf.fit(X_train_pca, y_train)\n",
    "y_pred = clf.predict(X_test_pca)\n",
    "accuracy_variance = accuracy_score(y_test, y_pred)\n",
    "\n",
    "# Print the explained variance ratio for each selected component\n",
    "print(f\"Explained variance ratio for each PCA component: {pca.explained_variance_ratio_}\")\n",
    "\n",
    "print(f\"Number of original features: {X_train.shape[1]}\")\n",
    "print(f\"Number of features retained after PCA: {X_train_pca.shape[1]}\")\n",
    "print(f\"Accuracy of Original features (testing accuracy): {accuracy}\")\n",
    "print(f\"Accuracy after PCA (testing accuracy): {accuracy_variance}\")"
   ]
  },
  {
   "cell_type": "markdown",
   "metadata": {
    "id": "g0S9izvdGDVo"
   },
   "source": [
    "**Task 3.12**: Adjust the number of components to be retained by PCA in the code snippet for classifying images in the Digits dataset and observe how it affects the classification accuracy."
   ]
  },
  {
   "cell_type": "markdown",
   "metadata": {
    "id": "Fph-du2gGfFM"
   },
   "source": [
    "**Task 3.13**: In this task, you will reinforce the knowledge acquired during the experiment concerning the impact of applying PCA on machine learning. You will be working with the \"Faces in the Wild\" (LFW) dataset. The LFW dataset is a widely recognized benchmark dataset within the domains of computer vision and machine learning, primarily used for face recognition tasks. It comprises a collection of grayscale images featuring human faces, with each image associated with the identity of the depicted individual.\n",
    "\n",
    "Once you have loaded the dataset, your objective is to implement the following steps:\n",
    "1. Split the dataset into training and testing subsets.\n",
    "2. Train a random forest model using the training data.\n",
    "3. Assess the model's accuracy by evaluating its performance on the testing data.\n",
    "4. Apply PCA with a specified number of components, such as n=8.\n",
    "5. Train and evaluate the random forest model using the retained PCA components.\n",
    "6. Experiment with different numbers of retained PCA components and provide insights based on your observations.\n",
    "\n",
    "\n",
    "You can load the LFW dataset using the provided code snippet."
   ]
  },
  {
   "cell_type": "code",
   "execution_count": 70,
   "metadata": {},
   "outputs": [
    {
     "data": {
      "text/plain": [
       "1288"
      ]
     },
     "execution_count": 70,
     "metadata": {},
     "output_type": "execute_result"
    }
   ],
   "source": [
    "len(X)"
   ]
  },
  {
   "cell_type": "code",
   "execution_count": 22,
   "metadata": {
    "id": "5EUfEBkLG7tf"
   },
   "outputs": [
    {
     "name": "stderr",
     "output_type": "stream",
     "text": [
      "[Parallel(n_jobs=1)]: Done  49 tasks      | elapsed:    3.6s\n",
      "[Parallel(n_jobs=1)]: Done  49 tasks      | elapsed:    0.0s\n",
      "[Parallel(n_jobs=1)]: Done  49 tasks      | elapsed:    0.4s\n"
     ]
    },
    {
     "name": "stdout",
     "output_type": "stream",
     "text": [
      "Explained variance ratio for each PCA component: [0.20737481 0.14111114 0.06669813 0.05678447 0.04896348 0.02788671\n",
      " 0.02393636 0.02085217 0.01890556 0.01820627 0.01555036 0.01502788\n",
      " 0.01190546 0.01025896 0.01008468 0.00948144]\n",
      "Number of original features: 1850\n",
      "Number of features retained after PCA: 16\n",
      "Accuracy of Original features (testing accuracy): 0.6976744186046512\n",
      "Accuracy after PCA (testing accuracy): 0.624031007751938\n"
     ]
    },
    {
     "name": "stderr",
     "output_type": "stream",
     "text": [
      "[Parallel(n_jobs=1)]: Done  49 tasks      | elapsed:    0.0s\n"
     ]
    }
   ],
   "source": [
    "from sklearn.datasets import fetch_lfw_people\n",
    "\n",
    "lfw_dataset = fetch_lfw_people(min_faces_per_person=70, resize=0.4)\n",
    "\n",
    "# Extract the data and target labels\n",
    "X = lfw_dataset.data\n",
    "y = lfw_dataset.target\n",
    "# Split the dataset into training and testing sets\n",
    "X_train, X_test, y_train, y_test = train_test_split(X, y, test_size=0.2, random_state=42)\n",
    "\n",
    "# Train a classifier on the original features and evaluate\n",
    "clf = RandomForestClassifier(random_state=42, verbose=1)\n",
    "clf.fit(X_train, y_train)\n",
    "y_pred = clf.predict(X_test)\n",
    "accuracy = accuracy_score(y_test, y_pred)\n",
    "\n",
    "# Create PCA instance and fit to the data\n",
    "pca = PCA(n_components=16)  # Specify the number of components\n",
    "X_train_pca = pca.fit_transform(X_train)\n",
    "X_test_pca = pca.transform(X_test)\n",
    "\n",
    "# Train a classifier on the retained PCA components and evaluate\n",
    "clf = RandomForestClassifier(random_state=42, verbose=1)\n",
    "clf.fit(X_train_pca, y_train)\n",
    "y_pred = clf.predict(X_test_pca)\n",
    "accuracy_variance = accuracy_score(y_test, y_pred)\n",
    "\n",
    "# Print the explained variance ratio for each selected component\n",
    "print(f\"Explained variance ratio for each PCA component: {pca.explained_variance_ratio_}\")\n",
    "\n",
    "print(f\"Number of original features: {X_train.shape[1]}\")\n",
    "print(f\"Number of features retained after PCA: {X_train_pca.shape[1]}\")\n",
    "print(f\"Accuracy of Original features (testing accuracy): {accuracy}\")\n",
    "print(f\"Accuracy after PCA (testing accuracy): {accuracy_variance}\")"
   ]
  },
  {
   "cell_type": "code",
   "execution_count": 25,
   "metadata": {},
   "outputs": [
    {
     "data": {
      "text/plain": [
       "(1030, 1850)"
      ]
     },
     "execution_count": 25,
     "metadata": {},
     "output_type": "execute_result"
    }
   ],
   "source": [
    "X_train.shape"
   ]
  },
  {
   "cell_type": "code",
   "execution_count": null,
   "metadata": {
    "id": "fxCcsomRJaZv"
   },
   "outputs": [],
   "source": [
    "#write you code here\n"
   ]
  },
  {
   "cell_type": "markdown",
   "metadata": {
    "id": "H6uSwCdoQI-h"
   },
   "source": [
    "# **Case Study 3.1**\n",
    "In this case study, you will perform essential data preprocessing steps on the Penguins dataset. The dataset contains information about different species of penguins, including their physical characteristics and the region where they were observed. Your goal is to prepare the dataset for machine learning analysis. Follow these steps:\n",
    "1. Load the penguins dataset using the code snippet provided below.\n",
    "2. Perform initial data exploration to understand the dataset's structure, features, and any missing values. Summarize the dataset's statistics and gain insights into the data.\n",
    "3. Address any data quality issues, such as missing values and outliers. Decide on an appropriate strategy for handling missing data, such as imputation or removal of rows/columns.\n",
    "4. Analyze the relevance of each feature for your machine learning task by using the learned use feature selection technques.\n",
    "5. If the dataset contains categorical variables, encode them into a numerical format suitable for machine learning models.\n",
    "6. Split the dataset into training and testing subsets to evaluate the performance of your machine learning models.\n",
    "7. Scale or normalize the numerical features to ensure consistent scaling across variables.\n",
    "8. Apply suitable dimensionality reduction techniques to reduce the size of the data while preserving important information.\n",
    "9. Validate your preprocessing pipeline by training and evaluating a machine learning model, such as the Random Forest model, on the preprocessed data. Compare the results to the model trained on the raw data (before feature filtering, transformation, and reduction) to ensure that preprocessing has improved model performance.\n",
    "\n",
    "\n",
    "\n",
    "\n",
    "\n"
   ]
  },
  {
   "cell_type": "code",
   "execution_count": null,
   "metadata": {
    "colab": {
     "base_uri": "https://localhost:8080/",
     "height": 206
    },
    "id": "zviyIaMwS5T5",
    "outputId": "57fb6190-8d11-421e-8001-f03a01f2eb37"
   },
   "outputs": [],
   "source": [
    "# Import the 'load_dataset' function from seaborn to load the penguins dataset\n",
    "from seaborn import load_dataset\n",
    "\n",
    "# Load the penguins dataset and store it in the 'df' DataFrame\n",
    "df = load_dataset('penguins')\n",
    "\n",
    "# Display the first few rows of the DataFrame to get an initial look at the data\n",
    "df.head()"
   ]
  },
  {
   "cell_type": "code",
   "execution_count": null,
   "metadata": {
    "id": "8egqEOIsTAmD"
   },
   "outputs": [],
   "source": [
    "#write you code here\n"
   ]
  },
  {
   "cell_type": "code",
   "execution_count": null,
   "metadata": {},
   "outputs": [],
   "source": []
  }
 ],
 "metadata": {
  "colab": {
   "authorship_tag": "ABX9TyMgdWrrM/kWCw705T+pTQcc",
   "include_colab_link": true,
   "provenance": []
  },
  "kernelspec": {
   "display_name": "Python 3",
   "language": "python",
   "name": "python3"
  },
  "language_info": {
   "codemirror_mode": {
    "name": "ipython",
    "version": 3
   },
   "file_extension": ".py",
   "mimetype": "text/x-python",
   "name": "python",
   "nbconvert_exporter": "python",
   "pygments_lexer": "ipython3",
   "version": "3.8.8"
  }
 },
 "nbformat": 4,
 "nbformat_minor": 1
}
