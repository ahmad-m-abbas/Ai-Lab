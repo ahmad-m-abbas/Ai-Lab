{
 "cells": [
  {
   "cell_type": "code",
   "execution_count": 1,
   "id": "86c64704-f842-42fb-b6bb-7edfba6b3af5",
   "metadata": {},
   "outputs": [],
   "source": [
    "from ucimlrepo import fetch_ucirepo "
   ]
  },
  {
   "cell_type": "code",
   "execution_count": 2,
   "id": "d8af999f-dcc3-40a5-95e0-966a61753f41",
   "metadata": {},
   "outputs": [],
   "source": [
    "# fetch dataset \n",
    "predict_students_dropout_and_academic_success = fetch_ucirepo(id=697) \n",
    "  \n",
    "# data (as pandas dataframes) \n",
    "X = predict_students_dropout_and_academic_success.data.features \n",
    "y = predict_students_dropout_and_academic_success.data.targets \n"
   ]
  },
  {
   "cell_type": "code",
   "execution_count": 3,
   "id": "035d1c97-a4bc-4353-a0fe-15ee6e53b4e1",
   "metadata": {},
   "outputs": [
    {
     "data": {
      "text/plain": [
       "(4424, 36)"
      ]
     },
     "execution_count": 3,
     "metadata": {},
     "output_type": "execute_result"
    }
   ],
   "source": [
    "X.shape"
   ]
  },
  {
   "cell_type": "code",
   "execution_count": 4,
   "id": "9d21865c-2fd7-4ff3-bf6f-ea24dfaf926d",
   "metadata": {},
   "outputs": [
    {
     "data": {
      "text/plain": [
       "Index(['Marital Status', 'Application mode', 'Application order', 'Course',\n",
       "       'Daytime/evening attendance', 'Previous qualification',\n",
       "       'Previous qualification (grade)', 'Nacionality',\n",
       "       'Mother's qualification', 'Father's qualification',\n",
       "       'Mother's occupation', 'Father's occupation', 'Admission grade',\n",
       "       'Displaced', 'Educational special needs', 'Debtor',\n",
       "       'Tuition fees up to date', 'Gender', 'Scholarship holder',\n",
       "       'Age at enrollment', 'International',\n",
       "       'Curricular units 1st sem (credited)',\n",
       "       'Curricular units 1st sem (enrolled)',\n",
       "       'Curricular units 1st sem (evaluations)',\n",
       "       'Curricular units 1st sem (approved)',\n",
       "       'Curricular units 1st sem (grade)',\n",
       "       'Curricular units 1st sem (without evaluations)',\n",
       "       'Curricular units 2nd sem (credited)',\n",
       "       'Curricular units 2nd sem (enrolled)',\n",
       "       'Curricular units 2nd sem (evaluations)',\n",
       "       'Curricular units 2nd sem (approved)',\n",
       "       'Curricular units 2nd sem (grade)',\n",
       "       'Curricular units 2nd sem (without evaluations)', 'Unemployment rate',\n",
       "       'Inflation rate', 'GDP'],\n",
       "      dtype='object')"
      ]
     },
     "execution_count": 4,
     "metadata": {},
     "output_type": "execute_result"
    }
   ],
   "source": [
    "X.columns"
   ]
  },
  {
   "cell_type": "code",
   "execution_count": 5,
   "id": "156ac402-1bfa-43e9-be7b-a9edea127680",
   "metadata": {},
   "outputs": [
    {
     "name": "stdout",
     "output_type": "stream",
     "text": [
      "<class 'pandas.core.frame.DataFrame'>\n",
      "RangeIndex: 4424 entries, 0 to 4423\n",
      "Data columns (total 36 columns):\n",
      " #   Column                                          Non-Null Count  Dtype  \n",
      "---  ------                                          --------------  -----  \n",
      " 0   Marital Status                                  4424 non-null   int64  \n",
      " 1   Application mode                                4424 non-null   int64  \n",
      " 2   Application order                               4424 non-null   int64  \n",
      " 3   Course                                          4424 non-null   int64  \n",
      " 4   Daytime/evening attendance                      4424 non-null   int64  \n",
      " 5   Previous qualification                          4424 non-null   int64  \n",
      " 6   Previous qualification (grade)                  4424 non-null   float64\n",
      " 7   Nacionality                                     4424 non-null   int64  \n",
      " 8   Mother's qualification                          4424 non-null   int64  \n",
      " 9   Father's qualification                          4424 non-null   int64  \n",
      " 10  Mother's occupation                             4424 non-null   int64  \n",
      " 11  Father's occupation                             4424 non-null   int64  \n",
      " 12  Admission grade                                 4424 non-null   float64\n",
      " 13  Displaced                                       4424 non-null   int64  \n",
      " 14  Educational special needs                       4424 non-null   int64  \n",
      " 15  Debtor                                          4424 non-null   int64  \n",
      " 16  Tuition fees up to date                         4424 non-null   int64  \n",
      " 17  Gender                                          4424 non-null   int64  \n",
      " 18  Scholarship holder                              4424 non-null   int64  \n",
      " 19  Age at enrollment                               4424 non-null   int64  \n",
      " 20  International                                   4424 non-null   int64  \n",
      " 21  Curricular units 1st sem (credited)             4424 non-null   int64  \n",
      " 22  Curricular units 1st sem (enrolled)             4424 non-null   int64  \n",
      " 23  Curricular units 1st sem (evaluations)          4424 non-null   int64  \n",
      " 24  Curricular units 1st sem (approved)             4424 non-null   int64  \n",
      " 25  Curricular units 1st sem (grade)                4424 non-null   float64\n",
      " 26  Curricular units 1st sem (without evaluations)  4424 non-null   int64  \n",
      " 27  Curricular units 2nd sem (credited)             4424 non-null   int64  \n",
      " 28  Curricular units 2nd sem (enrolled)             4424 non-null   int64  \n",
      " 29  Curricular units 2nd sem (evaluations)          4424 non-null   int64  \n",
      " 30  Curricular units 2nd sem (approved)             4424 non-null   int64  \n",
      " 31  Curricular units 2nd sem (grade)                4424 non-null   float64\n",
      " 32  Curricular units 2nd sem (without evaluations)  4424 non-null   int64  \n",
      " 33  Unemployment rate                               4424 non-null   float64\n",
      " 34  Inflation rate                                  4424 non-null   float64\n",
      " 35  GDP                                             4424 non-null   float64\n",
      "dtypes: float64(7), int64(29)\n",
      "memory usage: 1.2 MB\n"
     ]
    }
   ],
   "source": [
    "X.info()"
   ]
  },
  {
   "cell_type": "code",
   "execution_count": 6,
   "id": "52791ca8-1136-4ec2-9db0-7f105bd8292c",
   "metadata": {},
   "outputs": [
    {
     "name": "stderr",
     "output_type": "stream",
     "text": [
      "/tmp/ipykernel_47258/1178644789.py:12: SettingWithCopyWarning: \n",
      "A value is trying to be set on a copy of a slice from a DataFrame.\n",
      "Try using .loc[row_indexer,col_indexer] = value instead\n",
      "\n",
      "See the caveats in the documentation: https://pandas.pydata.org/pandas-docs/stable/user_guide/indexing.html#returning-a-view-versus-a-copy\n",
      "  y.loc[:, 'Target'] = y_copy['Target']\n",
      "/tmp/ipykernel_47258/1178644789.py:12: DeprecationWarning: In a future version, `df.iloc[:, i] = newvals` will attempt to set the values inplace instead of always setting a new array. To retain the old behavior, use either `df[df.columns[i]] = newvals` or, if columns are non-unique, `df.isetitem(i, newvals)`\n",
      "  y.loc[:, 'Target'] = y_copy['Target']\n"
     ]
    }
   ],
   "source": [
    "y_copy = y.copy()\n",
    "\n",
    "# Update the 'Target' column in the copy\n",
    "y_copy['Target'] = y_copy['Target'].map({\n",
    "    'Dropout': 0,\n",
    "    'Enrolled': 1,\n",
    "    'Graduate': 2\n",
    "})\n",
    "\n",
    "# Now 'y_copy' contains the modified 'Target' column\n",
    "# If you want to update the original 'y' DataFrame, you can do:\n",
    "y.loc[:, 'Target'] = y_copy['Target']"
   ]
  },
  {
   "cell_type": "code",
   "execution_count": 7,
   "id": "31f2fff8-0c24-4a55-b1d6-6543689987af",
   "metadata": {},
   "outputs": [],
   "source": [
    "import numpy as np"
   ]
  },
  {
   "cell_type": "code",
   "execution_count": 8,
   "id": "77491f58-ed3c-4417-a536-a9a731511929",
   "metadata": {},
   "outputs": [],
   "source": [
    "student_x = X\n",
    "student_y = y"
   ]
  },
  {
   "cell_type": "code",
   "execution_count": 9,
   "id": "d74ea743-de07-4749-9763-f79eae75e892",
   "metadata": {},
   "outputs": [],
   "source": [
    "from sklearn.model_selection import train_test_split\n",
    "student_x_train, student_x_test, student_y_train, student_y_test = train_test_split(student_x, student_y, test_size=1/3, random_state=42)\n",
    "student_X_train, student_X_val, student_Y_train, student_y_val = train_test_split(student_x_train, student_y_train, test_size=1/3, random_state=42)"
   ]
  },
  {
   "cell_type": "code",
   "execution_count": 10,
   "id": "c171d2f3-545a-4238-b0e9-d82977ad9317",
   "metadata": {},
   "outputs": [
    {
     "name": "stderr",
     "output_type": "stream",
     "text": [
      "Intel(R) Extension for Scikit-learn* enabled (https://github.com/intel/scikit-learn-intelex)\n",
      "Intel(R) Extension for Scikit-learn* enabled (https://github.com/intel/scikit-learn-intelex)\n"
     ]
    }
   ],
   "source": [
    "import util\n",
    "from importlib import reload\n",
    "reload(util)\n",
    "from util import Utils"
   ]
  },
  {
   "cell_type": "code",
   "execution_count": 11,
   "id": "0af3c433-3ed5-473d-9331-77ee7f869abd",
   "metadata": {},
   "outputs": [
    {
     "name": "stdout",
     "output_type": "stream",
     "text": [
      "|   n_estimators | criterion   |   max_depth | max_features   |   score in validation set |\n",
      "|---------------:|:------------|------------:|:---------------|--------------------------:|\n",
      "|            100 | gini        |         100 | log2           |                  0.772126 |\n",
      "|             50 | gini        |         100 | log2           |                  0.765005 |\n",
      "|             10 | gini        |         100 | log2           |                  0.759919 |\n",
      "|            100 | gini        |         100 | sqrt           |                  0.770092 |\n",
      "|             50 | gini        |         100 | sqrt           |                  0.768057 |\n",
      "|             10 | gini        |         100 | sqrt           |                  0.741607 |\n",
      "|            100 | gini        |          50 | log2           |                  0.769074 |\n",
      "|             50 | gini        |          50 | log2           |                  0.770092 |\n",
      "|             10 | gini        |          50 | log2           |                  0.749746 |\n",
      "|            100 | gini        |          50 | sqrt           |                  0.774161 |\n",
      "|             50 | gini        |          50 | sqrt           |                  0.771109 |\n",
      "|             10 | gini        |          50 | sqrt           |                  0.730417 |\n",
      "|            100 | gini        |          10 | log2           |                  0.766022 |\n",
      "|             50 | gini        |          10 | log2           |                  0.757884 |\n",
      "|             10 | gini        |          10 | log2           |                  0.754832 |\n",
      "|            100 | gini        |          10 | sqrt           |                  0.769074 |\n",
      "|             50 | gini        |          10 | sqrt           |                  0.761953 |\n",
      "|             10 | gini        |          10 | sqrt           |                  0.760936 |\n",
      "|            100 | entropy     |         100 | log2           |                  0.766022 |\n",
      "|             50 | entropy     |         100 | log2           |                  0.76704  |\n",
      "|             10 | entropy     |         100 | log2           |                  0.760936 |\n",
      "|            100 | entropy     |         100 | sqrt           |                  0.771109 |\n",
      "|             50 | entropy     |         100 | sqrt           |                  0.768057 |\n",
      "|             10 | entropy     |         100 | sqrt           |                  0.755849 |\n",
      "|            100 | entropy     |          50 | log2           |                  0.771109 |\n",
      "|             50 | entropy     |          50 | log2           |                  0.759919 |\n",
      "|             10 | entropy     |          50 | log2           |                  0.75178  |\n",
      "|            100 | entropy     |          50 | sqrt           |                  0.775178 |\n",
      "|             50 | entropy     |          50 | sqrt           |                  0.761953 |\n",
      "|             10 | entropy     |          50 | sqrt           |                  0.746694 |\n",
      "|            100 | entropy     |          10 | log2           |                  0.765005 |\n",
      "|             50 | entropy     |          10 | log2           |                  0.76704  |\n",
      "|             10 | entropy     |          10 | log2           |                  0.746694 |\n",
      "|            100 | entropy     |          10 | sqrt           |                  0.757884 |\n",
      "|             50 | entropy     |          10 | sqrt           |                  0.765005 |\n",
      "|             10 | entropy     |          10 | sqrt           |                  0.765005 |\n",
      "--- 5.58801531791687 seconds ---\n",
      "The highest Accuracy 0.77518 is the model with n_estimators = 100, criterion = 'entropy', max_depth = 50, and max_features = 'sqrt'\n"
     ]
    }
   ],
   "source": [
    "import warnings\n",
    "\n",
    "warnings.filterwarnings('ignore', category=UserWarning)\n",
    "\n",
    "best_student_model = util.Utils.find_best_rf_parameters(student_X_train, student_Y_train.values.ravel(), student_X_val, student_y_val.values.ravel())"
   ]
  },
  {
   "cell_type": "code",
   "execution_count": 15,
   "id": "23218283-734e-4cf7-94d8-9204d2a2a599",
   "metadata": {},
   "outputs": [
    {
     "name": "stdout",
     "output_type": "stream",
     "text": [
      "--- 0.6734986305236816 seconds ---\n"
     ]
    },
    {
     "data": {
      "text/plain": [
       "(0.7566101694915254,\n",
       " (array([0.80128205, 0.53435115, 0.76598174]),\n",
       "  array([0.76687117, 0.25830258, 0.93846154]),\n",
       "  array([0.78369906, 0.34825871, 0.84349466]),\n",
       "  array([489, 271, 715])))"
      ]
     },
     "execution_count": 15,
     "metadata": {},
     "output_type": "execute_result"
    }
   ],
   "source": [
    "Utils.accuracy_measure_rf(student_x_train, student_y_train.values.ravel(), student_x_test, student_y_test.values.ravel(), n_estimators = 100, criterion = 'entropy', max_depth = 50, max_features = 'sqrt')"
   ]
  },
  {
   "cell_type": "code",
   "execution_count": 14,
   "id": "bec0db2b-8fdc-416c-9f67-138f7e908d7e",
   "metadata": {},
   "outputs": [
    {
     "name": "stdout",
     "output_type": "stream",
     "text": [
      "|   n_estimators |   learning_rate |   max_depth |   subsample |   colsample_bytree |   score in validation set |\n",
      "|---------------:|----------------:|------------:|------------:|-------------------:|--------------------------:|\n",
      "|            100 |            0.5  |          50 |         0.8 |                1   |                  0.765005 |\n",
      "|            100 |            0.5  |          50 |         0.5 |                1   |                  0.76297  |\n",
      "|             50 |            0.5  |          50 |         0.8 |                1   |                  0.763988 |\n",
      "|             50 |            0.5  |          50 |         0.5 |                1   |                  0.757884 |\n",
      "|             10 |            0.5  |          50 |         0.8 |                1   |                  0.760936 |\n",
      "|             10 |            0.5  |          50 |         0.5 |                1   |                  0.750763 |\n",
      "|            100 |            0.5  |          10 |         0.8 |                1   |                  0.772126 |\n",
      "|            100 |            0.5  |          10 |         0.5 |                1   |                  0.747711 |\n",
      "|             50 |            0.5  |          10 |         0.8 |                1   |                  0.774161 |\n",
      "|             50 |            0.5  |          10 |         0.5 |                1   |                  0.747711 |\n",
      "|             10 |            0.5  |          10 |         0.8 |                1   |                  0.761953 |\n",
      "|             10 |            0.5  |          10 |         0.5 |                1   |                  0.737538 |\n",
      "|            100 |            0.1  |          50 |         0.8 |                1   |                  0.77823  |\n",
      "|            100 |            0.1  |          50 |         0.5 |                1   |                  0.759919 |\n",
      "|             50 |            0.1  |          50 |         0.8 |                1   |                  0.768057 |\n",
      "|             50 |            0.1  |          50 |         0.5 |                1   |                  0.757884 |\n",
      "|             10 |            0.1  |          50 |         0.8 |                1   |                  0.760936 |\n",
      "|             10 |            0.1  |          50 |         0.5 |                1   |                  0.760936 |\n",
      "|            100 |            0.1  |          10 |         0.8 |                1   |                  0.770092 |\n",
      "|            100 |            0.1  |          10 |         0.5 |                1   |                  0.765005 |\n",
      "|             50 |            0.1  |          10 |         0.8 |                1   |                  0.766022 |\n",
      "|             50 |            0.1  |          10 |         0.5 |                1   |                  0.76704  |\n",
      "|             10 |            0.1  |          10 |         0.8 |                1   |                  0.765005 |\n",
      "|             10 |            0.1  |          10 |         0.5 |                1   |                  0.755849 |\n",
      "|            100 |            0.01 |          50 |         0.8 |                1   |                  0.770092 |\n",
      "|            100 |            0.01 |          50 |         0.5 |                1   |                  0.761953 |\n",
      "|             50 |            0.01 |          50 |         0.8 |                1   |                  0.773143 |\n",
      "|             50 |            0.01 |          50 |         0.5 |                1   |                  0.757884 |\n",
      "|             10 |            0.01 |          50 |         0.8 |                1   |                  0.756867 |\n",
      "|             10 |            0.01 |          50 |         0.5 |                1   |                  0.761953 |\n",
      "|            100 |            0.01 |          10 |         0.8 |                1   |                  0.773143 |\n",
      "|            100 |            0.01 |          10 |         0.5 |                1   |                  0.757884 |\n",
      "|             50 |            0.01 |          10 |         0.8 |                1   |                  0.772126 |\n",
      "|             50 |            0.01 |          10 |         0.5 |                1   |                  0.756867 |\n",
      "|             10 |            0.01 |          10 |         0.8 |                1   |                  0.753815 |\n",
      "|             10 |            0.01 |          10 |         0.5 |                1   |                  0.755849 |\n",
      "|            100 |            0.5  |          50 |         0.8 |                0.5 |                  0.769074 |\n",
      "|            100 |            0.5  |          50 |         0.5 |                0.5 |                  0.771109 |\n",
      "|             50 |            0.5  |          50 |         0.8 |                0.5 |                  0.765005 |\n",
      "|             50 |            0.5  |          50 |         0.5 |                0.5 |                  0.757884 |\n",
      "|             10 |            0.5  |          50 |         0.8 |                0.5 |                  0.761953 |\n",
      "|             10 |            0.5  |          50 |         0.5 |                0.5 |                  0.745677 |\n",
      "|            100 |            0.5  |          10 |         0.8 |                0.5 |                  0.765005 |\n",
      "|            100 |            0.5  |          10 |         0.5 |                0.5 |                  0.773143 |\n",
      "|             50 |            0.5  |          10 |         0.8 |                0.5 |                  0.766022 |\n",
      "|             50 |            0.5  |          10 |         0.5 |                0.5 |                  0.765005 |\n",
      "|             10 |            0.5  |          10 |         0.8 |                0.5 |                  0.74059  |\n",
      "|             10 |            0.5  |          10 |         0.5 |                0.5 |                  0.754832 |\n",
      "|            100 |            0.1  |          50 |         0.8 |                0.5 |                  0.776195 |\n",
      "|            100 |            0.1  |          50 |         0.5 |                0.5 |                  0.777213 |\n",
      "|             50 |            0.1  |          50 |         0.8 |                0.5 |                  0.768057 |\n",
      "|             50 |            0.1  |          50 |         0.5 |                0.5 |                  0.776195 |\n",
      "|             10 |            0.1  |          50 |         0.8 |                0.5 |                  0.759919 |\n",
      "|             10 |            0.1  |          50 |         0.5 |                0.5 |                  0.756867 |\n",
      "|            100 |            0.1  |          10 |         0.8 |                0.5 |                  0.774161 |\n",
      "|            100 |            0.1  |          10 |         0.5 |                0.5 |                  0.772126 |\n",
      "|             50 |            0.1  |          10 |         0.8 |                0.5 |                  0.774161 |\n",
      "|             50 |            0.1  |          10 |         0.5 |                0.5 |                  0.774161 |\n",
      "|             10 |            0.1  |          10 |         0.8 |                0.5 |                  0.756867 |\n",
      "|             10 |            0.1  |          10 |         0.5 |                0.5 |                  0.748728 |\n",
      "|            100 |            0.01 |          50 |         0.8 |                0.5 |                  0.774161 |\n",
      "|            100 |            0.01 |          50 |         0.5 |                0.5 |                  0.770092 |\n",
      "|             50 |            0.01 |          50 |         0.8 |                0.5 |                  0.769074 |\n",
      "|             50 |            0.01 |          50 |         0.5 |                0.5 |                  0.76297  |\n",
      "|             10 |            0.01 |          50 |         0.8 |                0.5 |                  0.773143 |\n",
      "|             10 |            0.01 |          50 |         0.5 |                0.5 |                  0.757884 |\n",
      "|            100 |            0.01 |          10 |         0.8 |                0.5 |                  0.774161 |\n",
      "|            100 |            0.01 |          10 |         0.5 |                0.5 |                  0.770092 |\n",
      "|             50 |            0.01 |          10 |         0.8 |                0.5 |                  0.768057 |\n",
      "|             50 |            0.01 |          10 |         0.5 |                0.5 |                  0.761953 |\n",
      "|             10 |            0.01 |          10 |         0.8 |                0.5 |                  0.77823  |\n",
      "|             10 |            0.01 |          10 |         0.5 |                0.5 |                  0.755849 |\n",
      "--- 17.708361864089966 seconds ---\n",
      "The highest Accuracy 0.77823 is the model with n_estimators = 100, learning_rate = 0.1, max_depth = 50, subsample = 0.8, colsample_bytree = 1\n"
     ]
    }
   ],
   "source": [
    "best_xgb_model = Utils.find_best_xgb_parameters(student_X_train, student_Y_train, student_X_val, student_y_val)"
   ]
  },
  {
   "cell_type": "code",
   "execution_count": 16,
   "id": "05abf550-7873-4977-a87a-f81107184d3f",
   "metadata": {},
   "outputs": [
    {
     "name": "stdout",
     "output_type": "stream",
     "text": [
      "--- 0.7991156578063965 seconds ---\n"
     ]
    },
    {
     "data": {
      "text/plain": [
       "(0.7647457627118645,\n",
       " (array([0.80215054, 0.55421687, 0.78554502]),\n",
       "  array([0.76278119, 0.33948339, 0.92727273]),\n",
       "  array([0.78197065, 0.42105263, 0.85054522]),\n",
       "  array([489, 271, 715])))"
      ]
     },
     "execution_count": 16,
     "metadata": {},
     "output_type": "execute_result"
    }
   ],
   "source": [
    "Utils.accuracy_measure_xgb(student_x_train, student_y_train.values.ravel(), student_x_test, student_y_test.values.ravel(), n_estimators = 100, learning_rate = 0.1, max_depth = 50, subsample = 0.8, colsample_bytree = 1)"
   ]
  },
  {
   "cell_type": "code",
   "execution_count": null,
   "id": "0cdb700f-4332-480d-b8d9-5cbd4400288a",
   "metadata": {},
   "outputs": [],
   "source": []
  }
 ],
 "metadata": {
  "kernelspec": {
   "display_name": "Python 3 (ipykernel)",
   "language": "python",
   "name": "python3"
  },
  "language_info": {
   "codemirror_mode": {
    "name": "ipython",
    "version": 3
   },
   "file_extension": ".py",
   "mimetype": "text/x-python",
   "name": "python",
   "nbconvert_exporter": "python",
   "pygments_lexer": "ipython3",
   "version": "3.10.13"
  }
 },
 "nbformat": 4,
 "nbformat_minor": 5
}
