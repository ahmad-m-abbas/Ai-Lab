{
 "cells": [
  {
   "cell_type": "code",
   "execution_count": 1,
   "id": "252a67d5-808f-46f0-923b-8ecddf875621",
   "metadata": {},
   "outputs": [
    {
     "name": "stdout",
     "output_type": "stream",
     "text": [
      "Requirement already satisfied: h5py in /home/ahmad/AI_Lab/lib/python3.10/site-packages (3.10.0)\n",
      "Requirement already satisfied: numpy>=1.17.3 in /home/ahmad/AI_Lab/lib/python3.10/site-packages (from h5py) (1.26.0)\n"
     ]
    }
   ],
   "source": [
    "!pip install h5py"
   ]
  },
  {
   "cell_type": "code",
   "execution_count": 1,
   "id": "b899695b-86a4-43ac-aa93-eefd00dc1eda",
   "metadata": {},
   "outputs": [],
   "source": [
    "import h5py\n",
    "h5f = h5py.File('./SVHN_single_grey1.h5', 'r')\n",
    "\n",
    "# Load the training and the test set\n",
    "X_train = h5f['X_train'][:]\n",
    "y_train = h5f['y_train'][:]\n",
    "X_test = h5f['X_test'][:]\n",
    "y_test = h5f['y_test'][:]\n",
    "\n",
    "\n",
    "# Close this file\n",
    "h5f.close()"
   ]
  },
  {
   "cell_type": "code",
   "execution_count": 2,
   "id": "ec444c9b-fcdf-4a3e-a554-76c0e62b8b55",
   "metadata": {},
   "outputs": [
    {
     "data": {
      "text/plain": [
       "(42000, 18000, (42000, 32, 32), (18000, 32, 32))"
      ]
     },
     "execution_count": 2,
     "metadata": {},
     "output_type": "execute_result"
    }
   ],
   "source": [
    "len(X_train), len(X_test),X_train.shape, X_test.shape"
   ]
  },
  {
   "cell_type": "code",
   "execution_count": 3,
   "id": "bf90ecab-5c0f-4b70-a400-361e3fbd57df",
   "metadata": {},
   "outputs": [],
   "source": [
    "X_train = X_train.reshape(X_train.shape[0], 1024)\n",
    "X_test = X_test.reshape(X_test.shape[0], 1024)\n",
    "# Normalize inputs from 0-255 to 0-1\n",
    "\n",
    "X_train = X_train/255\n",
    "X_test = X_test/255"
   ]
  },
  {
   "cell_type": "code",
   "execution_count": 4,
   "id": "196bce9e-c4bb-4769-bbc7-4394ae84a562",
   "metadata": {},
   "outputs": [],
   "source": [
    "svh_x_train, svh_x_test, svh_y_train, svh_y_test = X_train, X_test, y_train, y_test"
   ]
  },
  {
   "cell_type": "code",
   "execution_count": 5,
   "id": "136c93c6-31ee-4e3f-b8f8-b54321db519b",
   "metadata": {},
   "outputs": [
    {
     "name": "stderr",
     "output_type": "stream",
     "text": [
      "Intel(R) Extension for Scikit-learn* enabled (https://github.com/intel/scikit-learn-intelex)\n"
     ]
    }
   ],
   "source": [
    "from util import Utils"
   ]
  },
  {
   "cell_type": "code",
   "execution_count": 6,
   "id": "ece59551-2697-4510-a558-10c2814993a1",
   "metadata": {},
   "outputs": [],
   "source": [
    "from sklearn.model_selection import train_test_split\n",
    "\n",
    "svh_X_train, svh_X_val, svh_Y_train, svh_y_val = train_test_split(svh_x_train, svh_y_train, test_size=1/3, random_state=42)"
   ]
  },
  {
   "cell_type": "code",
   "execution_count": 7,
   "id": "af186a87-851b-4a11-9fa8-27ea398d4967",
   "metadata": {},
   "outputs": [
    {
     "data": {
      "text/plain": [
       "array([2, 6, 7, ..., 7, 0, 4], dtype=uint8)"
      ]
     },
     "execution_count": 7,
     "metadata": {},
     "output_type": "execute_result"
    }
   ],
   "source": [
    "svh_y_train"
   ]
  },
  {
   "cell_type": "code",
   "execution_count": 8,
   "id": "6a539904-9c80-4dcd-b3a5-ffacd00b9c61",
   "metadata": {},
   "outputs": [
    {
     "name": "stdout",
     "output_type": "stream",
     "text": [
      "Fitting 3 folds for each of 10 candidates, totalling 30 fits\n",
      "\n",
      "All Results:\n",
      "{'n_estimators': 100, 'max_features': 'log2', 'max_depth': 10, 'criterion': 'gini'} with accuracy: 0.6210238095238095\n",
      "{'n_estimators': 50, 'max_features': 'sqrt', 'max_depth': 10, 'criterion': 'entropy'} with accuracy: 0.6234761904761905\n",
      "{'n_estimators': 10, 'max_features': 'sqrt', 'max_depth': 100, 'criterion': 'entropy'} with accuracy: 0.5524285714285715\n",
      "{'n_estimators': 10, 'max_features': 'sqrt', 'max_depth': 10, 'criterion': 'gini'} with accuracy: 0.5052619047619048\n",
      "{'n_estimators': 50, 'max_features': 'log2', 'max_depth': 50, 'criterion': 'gini'} with accuracy: 0.6424761904761905\n",
      "{'n_estimators': 50, 'max_features': 'sqrt', 'max_depth': 100, 'criterion': 'gini'} with accuracy: 0.6792857142857143\n",
      "{'n_estimators': 100, 'max_features': 'sqrt', 'max_depth': 10, 'criterion': 'gini'} with accuracy: 0.6290238095238095\n",
      "{'n_estimators': 10, 'max_features': 'sqrt', 'max_depth': 50, 'criterion': 'entropy'} with accuracy: 0.5481666666666666\n",
      "{'n_estimators': 50, 'max_features': 'sqrt', 'max_depth': 50, 'criterion': 'gini'} with accuracy: 0.6809285714285714\n",
      "{'n_estimators': 50, 'max_features': 'sqrt', 'max_depth': 100, 'criterion': 'entropy'} with accuracy: 0.6882142857142858\n",
      "\n",
      "--- 514.3507211208344 seconds ---\n",
      "The highest Accuracy 0.68821 is the model with parameters: {'n_estimators': 50, 'max_features': 'sqrt', 'max_depth': 100, 'criterion': 'entropy'}\n",
      "[CV] END criterion=gini, max_depth=10, max_features=log2, n_estimators=100; total time=  38.0s\n",
      "[CV] END criterion=gini, max_depth=10, max_features=sqrt, n_estimators=10; total time=  13.4s\n",
      "[CV] END criterion=gini, max_depth=50, max_features=log2, n_estimators=50; total time=  35.5s\n",
      "[CV] END criterion=gini, max_depth=10, max_features=sqrt, n_estimators=100; total time= 2.3min\n",
      "[CV] END criterion=gini, max_depth=10, max_features=log2, n_estimators=100; total time=  40.2s\n",
      "[CV] END criterion=gini, max_depth=50, max_features=log2, n_estimators=50; total time=  34.9s\n",
      "[CV] END criterion=gini, max_depth=100, max_features=sqrt, n_estimators=50; total time= 1.8min\n",
      "[CV] END criterion=gini, max_depth=50, max_features=sqrt, n_estimators=50; total time= 1.6min\n",
      "[CV] END criterion=entropy, max_depth=10, max_features=sqrt, n_estimators=50; total time= 2.6min\n",
      "[CV] END criterion=gini, max_depth=10, max_features=sqrt, n_estimators=100; total time= 2.3min\n",
      "[CV] END criterion=gini, max_depth=10, max_features=log2, n_estimators=100; total time=  37.7s\n",
      "[CV] END criterion=entropy, max_depth=100, max_features=sqrt, n_estimators=10; total time=  45.5s\n",
      "[CV] END criterion=gini, max_depth=100, max_features=sqrt, n_estimators=50; total time= 2.0min\n",
      "[CV] END criterion=gini, max_depth=50, max_features=sqrt, n_estimators=50; total time= 1.6min\n",
      "[CV] END criterion=entropy, max_depth=10, max_features=sqrt, n_estimators=50; total time= 2.6min\n",
      "[CV] END criterion=entropy, max_depth=50, max_features=sqrt, n_estimators=10; total time=  47.3s\n",
      "[CV] END criterion=gini, max_depth=50, max_features=sqrt, n_estimators=50; total time= 1.6min\n",
      "[CV] END criterion=entropy, max_depth=10, max_features=sqrt, n_estimators=50; total time= 2.6min\n",
      "[CV] END criterion=entropy, max_depth=50, max_features=sqrt, n_estimators=10; total time=  50.8s\n",
      "[CV] END criterion=entropy, max_depth=100, max_features=sqrt, n_estimators=50; total time= 2.6min\n",
      "[CV] END criterion=entropy, max_depth=100, max_features=sqrt, n_estimators=10; total time=  40.1s\n",
      "[CV] END criterion=gini, max_depth=10, max_features=sqrt, n_estimators=10; total time=  12.4s\n",
      "[CV] END criterion=gini, max_depth=100, max_features=sqrt, n_estimators=50; total time= 1.9min\n",
      "[CV] END criterion=entropy, max_depth=50, max_features=sqrt, n_estimators=10; total time=  47.9s\n",
      "[CV] END criterion=entropy, max_depth=100, max_features=sqrt, n_estimators=50; total time= 2.6min\n",
      "[CV] END criterion=entropy, max_depth=100, max_features=sqrt, n_estimators=10; total time=  38.7s\n",
      "[CV] END criterion=gini, max_depth=10, max_features=sqrt, n_estimators=10; total time=  12.8s\n",
      "[CV] END criterion=gini, max_depth=50, max_features=log2, n_estimators=50; total time=  35.6s\n",
      "[CV] END criterion=gini, max_depth=10, max_features=sqrt, n_estimators=100; total time= 2.3min\n",
      "[CV] END criterion=entropy, max_depth=100, max_features=sqrt, n_estimators=50; total time= 2.5min\n"
     ]
    }
   ],
   "source": [
    "best_svh_model = Utils.find_best_rf_parameters(svh_x_train, svh_y_train)"
   ]
  },
  {
   "cell_type": "code",
   "execution_count": 10,
   "id": "3cd3ae63-a03c-434f-a767-0dee685da384",
   "metadata": {},
   "outputs": [
    {
     "name": "stdout",
     "output_type": "stream",
     "text": [
      "--- 364.29574751853943 seconds ---\n"
     ]
    },
    {
     "data": {
      "text/plain": [
       "(0.7139444444444445,\n",
       " (array([0.67918089, 0.67537827, 0.75722543, 0.64940912, 0.74713243,\n",
       "         0.69662921, 0.69589977, 0.80742459, 0.70892626, 0.73800738]),\n",
       "  array([0.76791621, 0.80579869, 0.72656683, 0.67132054, 0.79083885,\n",
       "         0.66628959, 0.66703057, 0.7699115 , 0.60485651, 0.66518847]),\n",
       "  array([0.72082794, 0.7348466 , 0.74157939, 0.66018307, 0.76836461,\n",
       "         0.68112171, 0.68115942, 0.78822197, 0.65276951, 0.69970845]),\n",
       "  array([1814, 1828, 1803, 1719, 1812, 1768, 1832, 1808, 1812, 1804])))"
      ]
     },
     "execution_count": 10,
     "metadata": {},
     "output_type": "execute_result"
    }
   ],
   "source": [
    "Utils.accuracy_measure_rf(svh_x_train, svh_y_train, \n",
    "                          svh_x_test, svh_y_test, \n",
    "                          n_estimators = 50, criterion = 'entropy', max_depth = 50, max_features = 'sqrt')"
   ]
  },
  {
   "cell_type": "code",
   "execution_count": null,
   "id": "7ebbd0bf-9342-46cf-9a96-af17067c13f2",
   "metadata": {},
   "outputs": [
    {
     "name": "stdout",
     "output_type": "stream",
     "text": [
      "Fitting 3 folds for each of 10 candidates, totalling 30 fits\n"
     ]
    }
   ],
   "source": [
    "best_xgb_model = Utils.find_best_xgb_parameters(svh_X_train, svh_Y_train, svh_X_val, svh_y_val)"
   ]
  },
  {
   "cell_type": "code",
   "execution_count": null,
   "id": "a2a59f6b-d358-44de-be27-4255832abada",
   "metadata": {},
   "outputs": [],
   "source": []
  }
 ],
 "metadata": {
  "kernelspec": {
   "display_name": "Python 3 (ipykernel)",
   "language": "python",
   "name": "python3"
  },
  "language_info": {
   "codemirror_mode": {
    "name": "ipython",
    "version": 3
   },
   "file_extension": ".py",
   "mimetype": "text/x-python",
   "name": "python",
   "nbconvert_exporter": "python",
   "pygments_lexer": "ipython3",
   "version": "3.10.11"
  }
 },
 "nbformat": 4,
 "nbformat_minor": 5
}
