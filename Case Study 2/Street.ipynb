{
 "cells": [
  {
   "cell_type": "code",
   "execution_count": 1,
   "id": "252a67d5-808f-46f0-923b-8ecddf875621",
   "metadata": {},
   "outputs": [
    {
     "name": "stdout",
     "output_type": "stream",
     "text": [
      "Requirement already satisfied: h5py in /home/ahmad/anaconda3/envs/rapids-23.12/lib/python3.10/site-packages (3.10.0)\n",
      "Requirement already satisfied: numpy>=1.17.3 in /home/ahmad/anaconda3/envs/rapids-23.12/lib/python3.10/site-packages (from h5py) (1.24.4)\n"
     ]
    }
   ],
   "source": [
    "!pip install h5py"
   ]
  },
  {
   "cell_type": "code",
   "execution_count": 1,
   "id": "b899695b-86a4-43ac-aa93-eefd00dc1eda",
   "metadata": {},
   "outputs": [],
   "source": [
    "import h5py\n",
    "h5f = h5py.File('./SVHN_single_grey1.h5', 'r')\n",
    "\n",
    "# Load the training and the test set\n",
    "X_train = h5f['X_train'][:]\n",
    "y_train = h5f['y_train'][:]\n",
    "X_test = h5f['X_test'][:]\n",
    "y_test = h5f['y_test'][:]\n",
    "\n",
    "\n",
    "# Close this file\n",
    "h5f.close()"
   ]
  },
  {
   "cell_type": "code",
   "execution_count": 2,
   "id": "ec444c9b-fcdf-4a3e-a554-76c0e62b8b55",
   "metadata": {},
   "outputs": [
    {
     "data": {
      "text/plain": [
       "(42000, 18000, (42000, 32, 32), (18000, 32, 32))"
      ]
     },
     "execution_count": 2,
     "metadata": {},
     "output_type": "execute_result"
    }
   ],
   "source": [
    "len(X_train), len(X_test),X_train.shape, X_test.shape"
   ]
  },
  {
   "cell_type": "code",
   "execution_count": 3,
   "id": "bf90ecab-5c0f-4b70-a400-361e3fbd57df",
   "metadata": {},
   "outputs": [],
   "source": [
    "X_train = X_train.reshape(X_train.shape[0], 1024)\n",
    "X_test = X_test.reshape(X_test.shape[0], 1024)\n",
    "# Normalize inputs from 0-255 to 0-1\n",
    "\n",
    "X_train = X_train/255\n",
    "X_test = X_test/255"
   ]
  },
  {
   "cell_type": "code",
   "execution_count": 4,
   "id": "196bce9e-c4bb-4769-bbc7-4394ae84a562",
   "metadata": {},
   "outputs": [],
   "source": [
    "svh_x_train, svh_x_test, svh_y_train, svh_y_test = X_train, X_test, y_train, y_test"
   ]
  },
  {
   "cell_type": "code",
   "execution_count": 5,
   "id": "13290230-4249-4866-8e7c-8f3d4300c8c4",
   "metadata": {},
   "outputs": [],
   "source": [
    "from sklearn import model_selection\n",
    "\n",
    "svh_X_train, svh_x_val, svh_Y_train, svh_y_val = model_selection.train_test_split(svh_x_train, svh_y_train, test_size=1/3, random_state=42)"
   ]
  },
  {
   "cell_type": "code",
   "execution_count": 6,
   "id": "136c93c6-31ee-4e3f-b8f8-b54321db519b",
   "metadata": {},
   "outputs": [
    {
     "name": "stderr",
     "output_type": "stream",
     "text": [
      "Intel(R) Extension for Scikit-learn* enabled (https://github.com/intel/scikit-learn-intelex)\n"
     ]
    }
   ],
   "source": [
    "from util import Utils\n"
   ]
  },
  {
   "cell_type": "code",
   "execution_count": 14,
   "id": "6a539904-9c80-4dcd-b3a5-ffacd00b9c61",
   "metadata": {},
   "outputs": [
    {
     "name": "stdout",
     "output_type": "stream",
     "text": [
      "|   n_estimators | criterion   |   max_depth | max_features   |   score in validation set |\n",
      "|---------------:|:------------|------------:|:---------------|--------------------------:|\n",
      "|            100 | gini        |         100 | log2           |                  0.679714 |\n",
      "|             50 | gini        |         100 | log2           |                  0.639286 |\n",
      "|             10 | gini        |         100 | log2           |                  0.478143 |\n",
      "|            100 | gini        |         100 | sqrt           |                  0.706429 |\n",
      "|             50 | gini        |         100 | sqrt           |                  0.678571 |\n",
      "|             10 | gini        |         100 | sqrt           |                  0.539857 |\n",
      "|            100 | gini        |          50 | log2           |                  0.685214 |\n",
      "|             50 | gini        |          50 | log2           |                  0.640571 |\n",
      "|             10 | gini        |          50 | log2           |                  0.472286 |\n",
      "|            100 | gini        |          50 | sqrt           |                  0.711857 |\n",
      "|             50 | gini        |          50 | sqrt           |                  0.676429 |\n",
      "|             10 | gini        |          50 | sqrt           |                  0.536286 |\n",
      "|            100 | gini        |          10 | log2           |                  0.615214 |\n",
      "|             50 | gini        |          10 | log2           |                  0.596214 |\n",
      "|             10 | gini        |          10 | log2           |                  0.448929 |\n",
      "|            100 | gini        |          10 | sqrt           |                  0.626286 |\n",
      "|             50 | gini        |          10 | sqrt           |                  0.599857 |\n",
      "|             10 | gini        |          10 | sqrt           |                  0.501214 |\n",
      "|            100 | entropy     |         100 | log2           |                  0.686286 |\n",
      "|             50 | entropy     |         100 | log2           |                  0.6505   |\n",
      "|             10 | entropy     |         100 | log2           |                  0.486143 |\n",
      "|            100 | entropy     |         100 | sqrt           |                  0.713286 |\n",
      "|             50 | entropy     |         100 | sqrt           |                  0.690357 |\n",
      "|             10 | entropy     |         100 | sqrt           |                  0.553357 |\n",
      "|            100 | entropy     |          50 | log2           |                  0.687643 |\n",
      "|             50 | entropy     |          50 | log2           |                  0.646143 |\n",
      "|             10 | entropy     |          50 | log2           |                  0.480357 |\n",
      "|            100 | entropy     |          50 | sqrt           |                  0.716643 |\n",
      "|             50 | entropy     |          50 | sqrt           |                  0.689    |\n",
      "|             10 | entropy     |          50 | sqrt           |                  0.553071 |\n",
      "|            100 | entropy     |          10 | log2           |                  0.629286 |\n",
      "|             50 | entropy     |          10 | log2           |                  0.606643 |\n",
      "|             10 | entropy     |          10 | log2           |                  0.470071 |\n",
      "|            100 | entropy     |          10 | sqrt           |                  0.646857 |\n",
      "|             50 | entropy     |          10 | sqrt           |                  0.617429 |\n",
      "|             10 | entropy     |          10 | sqrt           |                  0.512643 |\n",
      "--- 2326.277018547058 seconds ---\n",
      "The highest Accuracy 0.71664 is the model with n_estimators = 100, criterion = 'entropy', max_depth = 50, and max_features = 'sqrt'\n"
     ]
    }
   ],
   "source": [
    "best_svh_model = Utils.find_best_rf_parameters(svh_X_train, svh_Y_train, svh_x_val, svh_y_val)"
   ]
  },
  {
   "cell_type": "code",
   "execution_count": 15,
   "id": "3cd3ae63-a03c-434f-a767-0dee685da384",
   "metadata": {},
   "outputs": [
    {
     "name": "stdout",
     "output_type": "stream",
     "text": [
      "--- 439.25284361839294 seconds ---\n"
     ]
    },
    {
     "data": {
      "text/plain": [
       "(0.7373333333333333,\n",
       " (array([0.71400297, 0.69835294, 0.79467456, 0.6676009 , 0.75741801,\n",
       "         0.73447016, 0.73675214, 0.80928412, 0.73873874, 0.73372093]),\n",
       "  array([0.7954796 , 0.81181619, 0.74486966, 0.69284468, 0.80298013,\n",
       "         0.6821267 , 0.70578603, 0.80033186, 0.63355408, 0.69955654]),\n",
       "  array([0.75254237, 0.75082216, 0.7689665 , 0.67998858, 0.77953389,\n",
       "         0.70733138, 0.72093672, 0.80478309, 0.68211527, 0.71623156]),\n",
       "  array([1814, 1828, 1803, 1719, 1812, 1768, 1832, 1808, 1812, 1804])))"
      ]
     },
     "execution_count": 15,
     "metadata": {},
     "output_type": "execute_result"
    }
   ],
   "source": [
    "Utils.accuracy_measure_rf(svh_x_train, svh_y_train, \n",
    "                          svh_x_test, svh_y_test, \n",
    "                          n_estimators = 100, criterion = 'entropy', max_depth = 50, max_features = 'sqrt')"
   ]
  },
  {
   "cell_type": "code",
   "execution_count": null,
   "id": "7ebbd0bf-9342-46cf-9a96-af17067c13f2",
   "metadata": {},
   "outputs": [
    {
     "name": "stdout",
     "output_type": "stream",
     "text": [
      "Finished {'learning_rate': 0.01, 'max_depth': 10, 'n_estimators': 10}\n",
      "Finished {'learning_rate': 0.01, 'max_depth': 10, 'n_estimators': 100}\n"
     ]
    }
   ],
   "source": [
    "best_xgb_model = Utils.find_best_xgb_parameters(svh_X_train, svh_Y_train, svh_x_val, svh_y_val)"
   ]
  },
  {
   "cell_type": "code",
   "execution_count": null,
   "id": "a2a59f6b-d358-44de-be27-4255832abada",
   "metadata": {},
   "outputs": [],
   "source": []
  }
 ],
 "metadata": {
  "kernelspec": {
   "display_name": "Python 3 (ipykernel)",
   "language": "python",
   "name": "python3"
  },
  "language_info": {
   "codemirror_mode": {
    "name": "ipython",
    "version": 3
   },
   "file_extension": ".py",
   "mimetype": "text/x-python",
   "name": "python",
   "nbconvert_exporter": "python",
   "pygments_lexer": "ipython3",
   "version": "3.10.13"
  }
 },
 "nbformat": 4,
 "nbformat_minor": 5
}
