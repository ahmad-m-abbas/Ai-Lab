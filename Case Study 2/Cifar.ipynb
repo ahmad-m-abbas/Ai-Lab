{
 "cells": [
  {
   "cell_type": "code",
   "execution_count": 1,
   "id": "32035bc2-fb43-4232-9683-1ff50082ddd9",
   "metadata": {},
   "outputs": [],
   "source": [
    "import os\n",
    "import pickle\n",
    "import numpy as np"
   ]
  },
  {
   "cell_type": "code",
   "execution_count": 2,
   "id": "28216544-e1c7-428b-815a-406aca003373",
   "metadata": {},
   "outputs": [],
   "source": [
    "def unpickle(file):\n",
    "    with open(file, 'rb') as fo:\n",
    "        dict = pickle.load(fo, encoding='bytes')\n",
    "    return dict\n"
   ]
  },
  {
   "cell_type": "code",
   "execution_count": 3,
   "id": "c87f4567-1784-4b2b-8ee7-658394d1b1d0",
   "metadata": {},
   "outputs": [],
   "source": [
    "def rgb2gray(rgb):\n",
    "    r, g, b = rgb[:,:,0], rgb[:,:,1], rgb[:,:,2]\n",
    "    gray = 0.2989 * r + 0.5870 * g + 0.1140 * b\n",
    "    return gray\n",
    "\n",
    "def load_cifar100_data(data_dir):\n",
    "    # Load training data\n",
    "    train_file = os.path.join(data_dir, 'train')\n",
    "    train_data_dict = unpickle(train_file)\n",
    "    x_train = train_data_dict[b'data']\n",
    "    y_train = train_data_dict[b'fine_labels']  # or b'coarse_labels' for coarse labels\n",
    "\n",
    "    # Load testing data\n",
    "    test_file = os.path.join(data_dir, 'test')\n",
    "    test_data_dict = unpickle(test_file)\n",
    "    x_test = test_data_dict[b'data']\n",
    "    y_test = test_data_dict[b'fine_labels']  # or b'coarse_labels' for coarse labels\n",
    "\n",
    "    # Load meta data\n",
    "    meta_file = os.path.join(data_dir, 'meta')\n",
    "    meta_data_dict = unpickle(meta_file)\n",
    "    label_names = meta_data_dict[b'fine_label_names']  # or b'coarse_label_names'\n",
    "\n",
    "    # Reshape and convert to grayscale\n",
    "    x_train = x_train.reshape(-1, 3, 32, 32).transpose(0, 2, 3, 1)\n",
    "    x_test = x_test.reshape(-1, 3, 32, 32).transpose(0, 2, 3, 1)\n",
    "    x_train = np.array([rgb2gray(img) for img in x_train])\n",
    "    x_test = np.array([rgb2gray(img) for img in x_test])\n",
    "\n",
    "    x_train = x_train.astype('uint8')\n",
    "    x_test = x_test.astype('uint8')\n",
    "    return (x_train, y_train), (x_test, y_test), label_names\n"
   ]
  },
  {
   "cell_type": "code",
   "execution_count": 4,
   "id": "1dd00200-747e-416a-914e-b98d036d609d",
   "metadata": {},
   "outputs": [
    {
     "name": "stderr",
     "output_type": "stream",
     "text": [
      "Intel(R) Extension for Scikit-learn* enabled (https://github.com/intel/scikit-learn-intelex)\n"
     ]
    }
   ],
   "source": [
    "from util import Utils"
   ]
  },
  {
   "cell_type": "code",
   "execution_count": 5,
   "id": "6e156474-84ab-48bb-8ae3-a0ec9bca355c",
   "metadata": {},
   "outputs": [],
   "source": [
    "(cifar_x_train, cifar_y_train), (cifar_x_test, cifar_y_test), label_names = load_cifar100_data('cifar-100-python')"
   ]
  },
  {
   "cell_type": "code",
   "execution_count": 6,
   "id": "22b7746b-1227-4a54-bdd9-85ceef9ae93d",
   "metadata": {},
   "outputs": [],
   "source": [
    "# Reshape the data: CIFAR-100 images are 32x32 pixels with 3 color channels (RGB)\n",
    "cifar_x_train = cifar_x_train.reshape(-1, 32 * 32)\n",
    "cifar_x_test = cifar_x_test.reshape(-1, 32 * 32)\n",
    "\n",
    "# Normalize pixel values\n",
    "cifar_x_train, cifar_x_test = cifar_x_train / 255.0, cifar_x_test / 255"
   ]
  },
  {
   "cell_type": "code",
   "execution_count": 7,
   "id": "1f8522f0-052e-486b-b13a-7810ecf130a8",
   "metadata": {},
   "outputs": [],
   "source": [
    "cifar_x_train = cifar_x_train.astype('float32')\n",
    "cifar_x_test = cifar_x_test.astype('float32')"
   ]
  },
  {
   "cell_type": "code",
   "execution_count": 8,
   "id": "e1560b8b-2f15-499d-b2b2-a9a0012ebe2f",
   "metadata": {},
   "outputs": [],
   "source": [
    "from sklearn import model_selection\n",
    "cifar_X_train, cifar_x_val, cifar_Y_train, cifar_y_val = model_selection.train_test_split(cifar_x_train, cifar_y_train, test_size=1/3, random_state=42)\n"
   ]
  },
  {
   "cell_type": "code",
   "execution_count": 13,
   "id": "8c08dd51-143e-4612-9548-c05933bae166",
   "metadata": {},
   "outputs": [
    {
     "name": "stdout",
     "output_type": "stream",
     "text": [
      "|   n_estimators | criterion   |   max_depth | max_features   |   score in validation set |\n",
      "|---------------:|:------------|------------:|:---------------|--------------------------:|\n",
      "|            100 | gini        |         100 | log2           |                 0.147957  |\n",
      "|             50 | gini        |         100 | log2           |                 0.127677  |\n",
      "|             10 | gini        |         100 | log2           |                 0.0813584 |\n",
      "|            100 | gini        |         100 | sqrt           |                 0.148557  |\n",
      "|             50 | gini        |         100 | sqrt           |                 0.130977  |\n",
      "|             10 | gini        |         100 | sqrt           |                 0.0803984 |\n",
      "|            100 | gini        |          50 | log2           |                 0.151257  |\n",
      "|             50 | gini        |          50 | log2           |                 0.128517  |\n",
      "|             10 | gini        |          50 | log2           |                 0.0783584 |\n",
      "|            100 | gini        |          50 | sqrt           |                 0.151257  |\n",
      "|             50 | gini        |          50 | sqrt           |                 0.134097  |\n",
      "|             10 | gini        |          50 | sqrt           |                 0.0846583 |\n",
      "|            100 | gini        |          10 | log2           |                 0.127017  |\n",
      "|             50 | gini        |          10 | log2           |                 0.117238  |\n",
      "|             10 | gini        |          10 | log2           |                 0.0854383 |\n",
      "|            100 | gini        |          10 | sqrt           |                 0.124138  |\n",
      "|             50 | gini        |          10 | sqrt           |                 0.119338  |\n",
      "|             10 | gini        |          10 | sqrt           |                 0.0899382 |\n",
      "|            100 | entropy     |         100 | log2           |                 0.138957  |\n",
      "|             50 | entropy     |         100 | log2           |                 0.117598  |\n",
      "|             10 | entropy     |         100 | log2           |                 0.0752385 |\n",
      "|            100 | entropy     |         100 | sqrt           |                 0.144297  |\n",
      "|             50 | entropy     |         100 | sqrt           |                 0.122998  |\n",
      "|             10 | entropy     |         100 | sqrt           |                 0.0772785 |\n",
      "|            100 | entropy     |          50 | log2           |                 0.141297  |\n",
      "|             50 | entropy     |          50 | log2           |                 0.121918  |\n",
      "|             10 | entropy     |          50 | log2           |                 0.0769185 |\n",
      "|            100 | entropy     |          50 | sqrt           |                 0.142017  |\n",
      "|             50 | entropy     |          50 | sqrt           |                 0.124558  |\n",
      "|             10 | entropy     |          50 | sqrt           |                 0.0790784 |\n",
      "|            100 | entropy     |          10 | log2           |                 0.132237  |\n",
      "|             50 | entropy     |          10 | log2           |                 0.125037  |\n",
      "|             10 | entropy     |          10 | log2           |                 0.0864583 |\n",
      "|            100 | entropy     |          10 | sqrt           |                 0.131397  |\n",
      "|             50 | entropy     |          10 | sqrt           |                 0.127317  |\n",
      "|             10 | entropy     |          10 | sqrt           |                 0.0891582 |\n",
      "--- 2270.282812356949 seconds ---\n",
      "The highest Accuracy 0.15126 is the model with n_estimators = 100, criterion = 'gini', max_depth = 50, and max_features = 'log2'\n"
     ]
    }
   ],
   "source": [
    "best_cifar_model = Utils.find_best_rf_parameters(cifar_X_train, cifar_Y_train, cifar_x_val, cifar_y_val)"
   ]
  },
  {
   "cell_type": "code",
   "execution_count": 15,
   "id": "a8c76b47-efe6-41a7-a9de-1941df55602e",
   "metadata": {},
   "outputs": [
    {
     "name": "stdout",
     "output_type": "stream",
     "text": [
      "--- 24.400174379348755 seconds ---\n"
     ]
    },
    {
     "data": {
      "text/plain": [
       "(0.1619,\n",
       " (array([0.30701754, 0.15808824, 0.11214953, 0.09848485, 0.08130081,\n",
       "         0.12745098, 0.07368421, 0.12571429, 0.23170732, 0.27433628,\n",
       "         0.09782609, 0.15      , 0.13265306, 0.11363636, 0.04761905,\n",
       "         0.05084746, 0.31944444, 0.14973262, 0.03225806, 0.07954545,\n",
       "         0.31891892, 0.20754717, 0.27631579, 0.13392857, 0.28837209,\n",
       "         0.07317073, 0.16981132, 0.0661157 , 0.29126214, 0.34328358,\n",
       "         0.05389222, 0.10891089, 0.2       , 0.06358382, 0.05813953,\n",
       "         0.01886792, 0.16197183, 0.1       , 0.09271523, 0.28333333,\n",
       "         0.31578947, 0.54761905, 0.125     , 0.08108108, 0.06122449,\n",
       "         0.06896552, 0.13636364, 0.12650602, 0.43137255, 0.11464968,\n",
       "         0.09615385, 0.09734513, 0.187251  , 0.20224719, 0.12087912,\n",
       "         0.1       , 0.16      , 0.26229508, 0.15217391, 0.08219178,\n",
       "         0.23030303, 0.32786885, 0.07575758, 0.13986014, 0.10465116,\n",
       "         0.05952381, 0.08571429, 0.06382979, 0.26060606, 0.19161677,\n",
       "         0.10843373, 0.17676768, 0.10526316, 0.12435233, 0.11111111,\n",
       "         0.27044025, 0.23529412, 0.04255319, 0.09722222, 0.10869565,\n",
       "         0.06976744, 0.14893617, 0.15789474, 0.10344828, 0.20833333,\n",
       "         0.2688172 , 0.3908046 , 0.29268293, 0.05660377, 0.03703704,\n",
       "         0.21153846, 0.35714286, 0.04054054, 0.        , 0.26595745,\n",
       "         0.10416667, 0.09090909, 0.17142857, 0.14285714, 0.19736842]),\n",
       "  array([0.35, 0.43, 0.12, 0.13, 0.1 , 0.13, 0.07, 0.22, 0.19, 0.31, 0.09,\n",
       "         0.06, 0.13, 0.1 , 0.03, 0.03, 0.23, 0.28, 0.03, 0.07, 0.59, 0.33,\n",
       "         0.21, 0.3 , 0.62, 0.03, 0.09, 0.08, 0.3 , 0.23, 0.09, 0.11, 0.08,\n",
       "         0.11, 0.05, 0.01, 0.23, 0.1 , 0.14, 0.17, 0.18, 0.46, 0.15, 0.06,\n",
       "         0.06, 0.04, 0.06, 0.21, 0.22, 0.18, 0.05, 0.11, 0.47, 0.18, 0.11,\n",
       "         0.05, 0.12, 0.16, 0.07, 0.06, 0.38, 0.4 , 0.1 , 0.2 , 0.09, 0.05,\n",
       "         0.06, 0.09, 0.43, 0.32, 0.09, 0.35, 0.04, 0.24, 0.11, 0.43, 0.24,\n",
       "         0.02, 0.07, 0.1 , 0.06, 0.07, 0.12, 0.03, 0.05, 0.25, 0.34, 0.12,\n",
       "         0.03, 0.01, 0.11, 0.35, 0.03, 0.  , 0.25, 0.05, 0.08, 0.12, 0.04,\n",
       "         0.3 ]),\n",
       "  array([0.3271028 , 0.2311828 , 0.11594203, 0.11206897, 0.0896861 ,\n",
       "         0.12871287, 0.07179487, 0.16      , 0.20879121, 0.29107981,\n",
       "         0.09375   , 0.08571429, 0.13131313, 0.10638298, 0.03680982,\n",
       "         0.03773585, 0.26744186, 0.19512195, 0.03108808, 0.07446809,\n",
       "         0.41403509, 0.25482625, 0.23863636, 0.18518519, 0.39365079,\n",
       "         0.04255319, 0.11764706, 0.07239819, 0.2955665 , 0.2754491 ,\n",
       "         0.06741573, 0.10945274, 0.11428571, 0.08058608, 0.05376344,\n",
       "         0.0130719 , 0.19008264, 0.1       , 0.11155378, 0.2125    ,\n",
       "         0.22929936, 0.5       , 0.13636364, 0.06896552, 0.06060606,\n",
       "         0.05063291, 0.08333333, 0.15789474, 0.29139073, 0.14007782,\n",
       "         0.06578947, 0.10328638, 0.26780627, 0.19047619, 0.11518325,\n",
       "         0.06666667, 0.13714286, 0.19875776, 0.09589041, 0.06936416,\n",
       "         0.28679245, 0.36036036, 0.0862069 , 0.16460905, 0.09677419,\n",
       "         0.05434783, 0.07058824, 0.0746888 , 0.3245283 , 0.23970037,\n",
       "         0.09836066, 0.23489933, 0.05797101, 0.16382253, 0.11055276,\n",
       "         0.33204633, 0.23762376, 0.02721088, 0.08139535, 0.10416667,\n",
       "         0.06451613, 0.0952381 , 0.13636364, 0.04651163, 0.08064516,\n",
       "         0.25906736, 0.36363636, 0.17021277, 0.03921569, 0.01574803,\n",
       "         0.14473684, 0.35353535, 0.03448276, 0.        , 0.25773196,\n",
       "         0.06756757, 0.08510638, 0.14117647, 0.0625    , 0.23809524]),\n",
       "  array([100, 100, 100, 100, 100, 100, 100, 100, 100, 100, 100, 100, 100,\n",
       "         100, 100, 100, 100, 100, 100, 100, 100, 100, 100, 100, 100, 100,\n",
       "         100, 100, 100, 100, 100, 100, 100, 100, 100, 100, 100, 100, 100,\n",
       "         100, 100, 100, 100, 100, 100, 100, 100, 100, 100, 100, 100, 100,\n",
       "         100, 100, 100, 100, 100, 100, 100, 100, 100, 100, 100, 100, 100,\n",
       "         100, 100, 100, 100, 100, 100, 100, 100, 100, 100, 100, 100, 100,\n",
       "         100, 100, 100, 100, 100, 100, 100, 100, 100, 100, 100, 100, 100,\n",
       "         100, 100, 100, 100, 100, 100, 100, 100, 100])))"
      ]
     },
     "execution_count": 15,
     "metadata": {},
     "output_type": "execute_result"
    }
   ],
   "source": [
    "Utils.accuracy_measure_rf(cifar_x_train, cifar_y_train, \n",
    "                          cifar_x_test, cifar_y_test, \n",
    "                          n_estimators = 100, criterion = 'gini', max_depth = 50, max_features = 'log2')"
   ]
  },
  {
   "cell_type": "code",
   "execution_count": null,
   "id": "850a8808-7606-424d-b788-9a611efe2634",
   "metadata": {},
   "outputs": [],
   "source": [
    "best_xgb_model = Utils.find_best_xgb_parameters(cifar_X_train, cifar_Y_train, cifar_x_val, cifar_y_val)"
   ]
  },
  {
   "cell_type": "code",
   "execution_count": null,
   "id": "b82e7fe8-aa8f-4e07-8532-f81a47c7bb82",
   "metadata": {},
   "outputs": [],
   "source": [
    "Utils.accuracy_measure_xgb(cifar_x_train, cifar_y_train, \n",
    "                          cifar_x_test, cifar_y_test, \n",
    "                           n_estimators = 100, learning_rate = 0.1, max_depth = 50, subsample = 0.8, colsample_bytree = 1)"
   ]
  }
 ],
 "metadata": {
  "kernelspec": {
   "display_name": "Python 3 (ipykernel)",
   "language": "python",
   "name": "python3"
  },
  "language_info": {
   "codemirror_mode": {
    "name": "ipython",
    "version": 3
   },
   "file_extension": ".py",
   "mimetype": "text/x-python",
   "name": "python",
   "nbconvert_exporter": "python",
   "pygments_lexer": "ipython3",
   "version": "3.10.13"
  }
 },
 "nbformat": 4,
 "nbformat_minor": 5
}
