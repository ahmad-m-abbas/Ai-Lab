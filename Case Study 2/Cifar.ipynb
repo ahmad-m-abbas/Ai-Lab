{
 "cells": [
  {
   "cell_type": "code",
   "execution_count": 1,
   "id": "32035bc2-fb43-4232-9683-1ff50082ddd9",
   "metadata": {},
   "outputs": [],
   "source": [
    "import os\n",
    "import pickle\n",
    "import numpy as np"
   ]
  },
  {
   "cell_type": "code",
   "execution_count": 2,
   "id": "28216544-e1c7-428b-815a-406aca003373",
   "metadata": {},
   "outputs": [],
   "source": [
    "def unpickle(file):\n",
    "    with open(file, 'rb') as fo:\n",
    "        dict = pickle.load(fo, encoding='bytes')\n",
    "    return dict\n"
   ]
  },
  {
   "cell_type": "code",
   "execution_count": 3,
   "id": "c87f4567-1784-4b2b-8ee7-658394d1b1d0",
   "metadata": {},
   "outputs": [],
   "source": [
    "def rgb2gray(rgb):\n",
    "    r, g, b = rgb[:,:,0], rgb[:,:,1], rgb[:,:,2]\n",
    "    gray = 0.2989 * r + 0.5870 * g + 0.1140 * b\n",
    "    return gray\n",
    "\n",
    "def load_cifar100_data(data_dir):\n",
    "    # Load training data\n",
    "    train_file = os.path.join(data_dir, 'train')\n",
    "    train_data_dict = unpickle(train_file)\n",
    "    x_train = train_data_dict[b'data']\n",
    "    y_train = train_data_dict[b'fine_labels']  # or b'coarse_labels' for coarse labels\n",
    "\n",
    "    # Load testing data\n",
    "    test_file = os.path.join(data_dir, 'test')\n",
    "    test_data_dict = unpickle(test_file)\n",
    "    x_test = test_data_dict[b'data']\n",
    "    y_test = test_data_dict[b'fine_labels']  # or b'coarse_labels' for coarse labels\n",
    "\n",
    "    # Load meta data\n",
    "    meta_file = os.path.join(data_dir, 'meta')\n",
    "    meta_data_dict = unpickle(meta_file)\n",
    "    label_names = meta_data_dict[b'fine_label_names']  # or b'coarse_label_names'\n",
    "\n",
    "    # Reshape and convert to grayscale\n",
    "    x_train = x_train.reshape(-1, 3, 32, 32).transpose(0, 2, 3, 1)\n",
    "    x_test = x_test.reshape(-1, 3, 32, 32).transpose(0, 2, 3, 1)\n",
    "    x_train = np.array([rgb2gray(img) for img in x_train])\n",
    "    x_test = np.array([rgb2gray(img) for img in x_test])\n",
    "\n",
    "    x_train = x_train.astype('uint8')\n",
    "    x_test = x_test.astype('uint8')\n",
    "    return (x_train, y_train), (x_test, y_test), label_names\n"
   ]
  },
  {
   "cell_type": "code",
   "execution_count": 4,
   "id": "8814ae39-a4bc-41ee-9c35-85c6e6911588",
   "metadata": {},
   "outputs": [
    {
     "name": "stdout",
     "output_type": "stream",
     "text": [
      "Requirement already satisfied: xgboost in /home/ahmad/anaconda3/envs/rapids-23.12/lib/python3.10/site-packages (2.0.3)\n",
      "Requirement already satisfied: numpy in /home/ahmad/anaconda3/envs/rapids-23.12/lib/python3.10/site-packages (from xgboost) (1.24.4)\n",
      "Requirement already satisfied: scipy in /home/ahmad/anaconda3/envs/rapids-23.12/lib/python3.10/site-packages (from xgboost) (1.11.4)\n"
     ]
    }
   ],
   "source": [
    "!pip install xgboost"
   ]
  },
  {
   "cell_type": "code",
   "execution_count": 5,
   "id": "1dd00200-747e-416a-914e-b98d036d609d",
   "metadata": {},
   "outputs": [
    {
     "name": "stderr",
     "output_type": "stream",
     "text": [
      "Intel(R) Extension for Scikit-learn* enabled (https://github.com/intel/scikit-learn-intelex)\n"
     ]
    }
   ],
   "source": [
    "from util import Utils"
   ]
  },
  {
   "cell_type": "code",
   "execution_count": 6,
   "id": "6e156474-84ab-48bb-8ae3-a0ec9bca355c",
   "metadata": {},
   "outputs": [],
   "source": [
    "(cifar_x_train, cifar_y_train), (cifar_x_test, cifar_y_test), label_names = load_cifar100_data('cifar-100-python')"
   ]
  },
  {
   "cell_type": "code",
   "execution_count": 7,
   "id": "22b7746b-1227-4a54-bdd9-85ceef9ae93d",
   "metadata": {},
   "outputs": [],
   "source": [
    "# Reshape the data: CIFAR-100 images are 32x32 pixels with 3 color channels (RGB)\n",
    "cifar_x_train = cifar_x_train.reshape(-1, 32 * 32)\n",
    "cifar_x_test = cifar_x_test.reshape(-1, 32 * 32)\n",
    "\n",
    "# Normalize pixel values\n",
    "cifar_x_train, cifar_x_test = cifar_x_train / 255.0, cifar_x_test / 255"
   ]
  },
  {
   "cell_type": "code",
   "execution_count": 8,
   "id": "1f8522f0-052e-486b-b13a-7810ecf130a8",
   "metadata": {},
   "outputs": [],
   "source": [
    "cifar_x_train = cifar_x_train.astype('float32')\n",
    "cifar_x_test = cifar_x_test.astype('float32')"
   ]
  },
  {
   "cell_type": "code",
   "execution_count": 9,
   "id": "e1560b8b-2f15-499d-b2b2-a9a0012ebe2f",
   "metadata": {},
   "outputs": [],
   "source": [
    "from sklearn import model_selection\n",
    "cifar_X_train, cifar_x_val, cifar_Y_train, cifar_y_val = model_selection.train_test_split(cifar_x_train, cifar_y_train, test_size=1/3, random_state=42)\n"
   ]
  },
  {
   "cell_type": "code",
   "execution_count": 12,
   "id": "8c08dd51-143e-4612-9548-c05933bae166",
   "metadata": {},
   "outputs": [
    {
     "name": "stdout",
     "output_type": "stream",
     "text": [
      "Fitting 3 folds for each of 1 candidates, totalling 3 fits\n"
     ]
    },
    {
     "name": "stderr",
     "output_type": "stream",
     "text": [
      "/home/ahmad/anaconda3/envs/rapids-23.12/lib/python3.10/site-packages/sklearn/model_selection/_search.py:307: UserWarning: The total space of parameters 1 is smaller than n_iter=10. Running 1 iterations. For exhaustive searches, use GridSearchCV.\n",
      "  warnings.warn(\n"
     ]
    },
    {
     "name": "stdout",
     "output_type": "stream",
     "text": [
      "\n",
      "All Results:\n",
      "{'n_estimators': 100, 'max_features': 'log2', 'max_depth': 100, 'criterion': 'entropy'} with accuracy: 0.13742006811129828\n",
      "\n",
      "--- 304.1415596008301 seconds ---\n",
      "The highest Accuracy 0.13742 is the model with parameters: {'n_estimators': 100, 'max_features': 'log2', 'max_depth': 100, 'criterion': 'entropy'}\n",
      "[CV] END criterion=entropy, max_depth=100, max_features=log2, n_estimators=100; total time= 2.1min\n",
      "[CV] END criterion=entropy, max_depth=100, max_features=log2, n_estimators=100; total time= 2.1min\n",
      "[CV] END criterion=entropy, max_depth=100, max_features=log2, n_estimators=100; total time= 2.1min\n"
     ]
    }
   ],
   "source": [
    "best_cifar_model = Utils.find_best_rf_parameters(cifar_x_train, cifar_y_train)"
   ]
  },
  {
   "cell_type": "code",
   "execution_count": null,
   "id": "a8c76b47-efe6-41a7-a9de-1941df55602e",
   "metadata": {},
   "outputs": [],
   "source": [
    "Utils.accuracy_measure_rf(cifar_x_train, cifar_y_train, \n",
    "                          cifar_x_test, cifar_y_test, \n",
    "                          n_estimators = 100, criterion = 'gini', max_depth = 50, max_features = 'log2')"
   ]
  },
  {
   "cell_type": "code",
   "execution_count": null,
   "id": "850a8808-7606-424d-b788-9a611efe2634",
   "metadata": {},
   "outputs": [],
   "source": [
    "best_xgb_model = Utils.find_best_xgb_parameters(cifar_X_train, cifar_Y_train, cifar_x_val, cifar_y_val)"
   ]
  },
  {
   "cell_type": "code",
   "execution_count": 11,
   "id": "b82e7fe8-aa8f-4e07-8532-f81a47c7bb82",
   "metadata": {},
   "outputs": [
    {
     "name": "stdout",
     "output_type": "stream",
     "text": [
      "--- 5639.89879655838 seconds ---\n"
     ]
    },
    {
     "data": {
      "text/plain": [
       "(0.1917,\n",
       " (array([0.40659341, 0.23780488, 0.10989011, 0.06666667, 0.13461538,\n",
       "         0.10447761, 0.1025641 , 0.1512605 , 0.28358209, 0.34375   ,\n",
       "         0.07042254, 0.22033898, 0.13541667, 0.20689655, 0.11235955,\n",
       "         0.12820513, 0.33333333, 0.29565217, 0.04761905, 0.1097561 ,\n",
       "         0.45736434, 0.23121387, 0.40983607, 0.19871795, 0.38356164,\n",
       "         0.20754717, 0.26666667, 0.07692308, 0.44230769, 0.34920635,\n",
       "         0.09375   , 0.0990099 , 0.2027027 , 0.12751678, 0.07246377,\n",
       "         0.12345679, 0.20869565, 0.11363636, 0.11805556, 0.30769231,\n",
       "         0.25882353, 0.53191489, 0.16964286, 0.08235294, 0.07843137,\n",
       "         0.08139535, 0.0989011 , 0.192     , 0.41176471, 0.18320611,\n",
       "         0.06896552, 0.10071942, 0.2962963 , 0.21238938, 0.1637931 ,\n",
       "         0.07407407, 0.15328467, 0.19736842, 0.24742268, 0.16161616,\n",
       "         0.27642276, 0.42424242, 0.09090909, 0.16037736, 0.11881188,\n",
       "         0.05633803, 0.12162162, 0.09433962, 0.27516779, 0.22142857,\n",
       "         0.1       , 0.24637681, 0.06122449, 0.18309859, 0.11333333,\n",
       "         0.31213873, 0.21014493, 0.0625    , 0.10416667, 0.14457831,\n",
       "         0.06363636, 0.13333333, 0.2371134 , 0.10909091, 0.14285714,\n",
       "         0.24637681, 0.41573034, 0.3164557 , 0.04      , 0.11594203,\n",
       "         0.14102564, 0.25984252, 0.03370787, 0.04545455, 0.234375  ,\n",
       "         0.14285714, 0.17073171, 0.1682243 , 0.08823529, 0.23188406]),\n",
       "  array([0.37, 0.39, 0.1 , 0.07, 0.14, 0.14, 0.08, 0.18, 0.19, 0.33, 0.05,\n",
       "         0.13, 0.13, 0.18, 0.1 , 0.1 , 0.24, 0.34, 0.04, 0.09, 0.59, 0.4 ,\n",
       "         0.25, 0.31, 0.56, 0.11, 0.12, 0.07, 0.46, 0.22, 0.12, 0.1 , 0.15,\n",
       "         0.19, 0.05, 0.1 , 0.24, 0.1 , 0.17, 0.16, 0.22, 0.5 , 0.19, 0.07,\n",
       "         0.08, 0.07, 0.09, 0.24, 0.35, 0.24, 0.04, 0.14, 0.48, 0.24, 0.19,\n",
       "         0.04, 0.21, 0.15, 0.24, 0.16, 0.34, 0.42, 0.09, 0.17, 0.12, 0.04,\n",
       "         0.09, 0.1 , 0.41, 0.31, 0.08, 0.34, 0.03, 0.26, 0.17, 0.54, 0.29,\n",
       "         0.05, 0.05, 0.12, 0.07, 0.12, 0.23, 0.06, 0.08, 0.34, 0.37, 0.25,\n",
       "         0.03, 0.08, 0.11, 0.33, 0.03, 0.03, 0.3 , 0.12, 0.21, 0.18, 0.09,\n",
       "         0.32]),\n",
       "  array([0.38743455, 0.29545455, 0.10471204, 0.06829268, 0.1372549 ,\n",
       "         0.11965812, 0.08988764, 0.16438356, 0.22754491, 0.33673469,\n",
       "         0.05847953, 0.16352201, 0.13265306, 0.19251337, 0.10582011,\n",
       "         0.11235955, 0.27906977, 0.31627907, 0.04347826, 0.0989011 ,\n",
       "         0.51528384, 0.29304029, 0.31055901, 0.2421875 , 0.45528455,\n",
       "         0.14379085, 0.16551724, 0.07329843, 0.45098039, 0.26993865,\n",
       "         0.10526316, 0.09950249, 0.17241379, 0.15261044, 0.0591716 ,\n",
       "         0.11049724, 0.22325581, 0.10638298, 0.13934426, 0.21052632,\n",
       "         0.23783784, 0.51546392, 0.17924528, 0.07567568, 0.07920792,\n",
       "         0.07526882, 0.09424084, 0.21333333, 0.37837838, 0.20779221,\n",
       "         0.05063291, 0.11715481, 0.36641221, 0.22535211, 0.17592593,\n",
       "         0.05194805, 0.17721519, 0.17045455, 0.24365482, 0.16080402,\n",
       "         0.30493274, 0.42211055, 0.09045226, 0.16504854, 0.11940299,\n",
       "         0.04678363, 0.10344828, 0.09708738, 0.32931727, 0.25833333,\n",
       "         0.08888889, 0.28571429, 0.04026846, 0.21487603, 0.136     ,\n",
       "         0.3956044 , 0.24369748, 0.05555556, 0.06756757, 0.13114754,\n",
       "         0.06666667, 0.12631579, 0.23350254, 0.07741935, 0.1025641 ,\n",
       "         0.28571429, 0.39153439, 0.27932961, 0.03428571, 0.09467456,\n",
       "         0.12359551, 0.2907489 , 0.03174603, 0.03614458, 0.26315789,\n",
       "         0.13043478, 0.18834081, 0.17391304, 0.08910891, 0.26890756]),\n",
       "  array([100, 100, 100, 100, 100, 100, 100, 100, 100, 100, 100, 100, 100,\n",
       "         100, 100, 100, 100, 100, 100, 100, 100, 100, 100, 100, 100, 100,\n",
       "         100, 100, 100, 100, 100, 100, 100, 100, 100, 100, 100, 100, 100,\n",
       "         100, 100, 100, 100, 100, 100, 100, 100, 100, 100, 100, 100, 100,\n",
       "         100, 100, 100, 100, 100, 100, 100, 100, 100, 100, 100, 100, 100,\n",
       "         100, 100, 100, 100, 100, 100, 100, 100, 100, 100, 100, 100, 100,\n",
       "         100, 100, 100, 100, 100, 100, 100, 100, 100, 100, 100, 100, 100,\n",
       "         100, 100, 100, 100, 100, 100, 100, 100, 100])))"
      ]
     },
     "execution_count": 11,
     "metadata": {},
     "output_type": "execute_result"
    }
   ],
   "source": [
    "Utils.accuracy_measure_xgb(cifar_x_train, cifar_y_train, \n",
    "                          cifar_x_test, cifar_y_test, \n",
    "                           n_estimators = 100, learning_rate = 0.1, max_depth = 50, subsample = 0.8, colsample_bytree = 1)"
   ]
  },
  {
   "cell_type": "code",
   "execution_count": null,
   "id": "8fdb51ff-3a5d-41fa-bf68-3cd568fcda9b",
   "metadata": {},
   "outputs": [],
   "source": [
    "print(\"a\")"
   ]
  },
  {
   "cell_type": "code",
   "execution_count": null,
   "id": "1e38f85a-28ac-4e1e-aa80-8f686d5e7887",
   "metadata": {},
   "outputs": [],
   "source": []
  }
 ],
 "metadata": {
  "kernelspec": {
   "display_name": "Python 3 (ipykernel)",
   "language": "python",
   "name": "python3"
  },
  "language_info": {
   "codemirror_mode": {
    "name": "ipython",
    "version": 3
   },
   "file_extension": ".py",
   "mimetype": "text/x-python",
   "name": "python",
   "nbconvert_exporter": "python",
   "pygments_lexer": "ipython3",
   "version": "3.10.13"
  }
 },
 "nbformat": 4,
 "nbformat_minor": 5
}
