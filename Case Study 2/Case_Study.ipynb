{
 "cells": [
  {
   "cell_type": "markdown",
   "id": "ad78abd0-2adc-4aa9-b9aa-62593f433c68",
   "metadata": {},
   "source": [
    "# Case Study #2"
   ]
  },
  {
   "cell_type": "code",
   "execution_count": 71,
   "id": "86a6ca91-c2a5-4b9a-9b58-4c9fe010c625",
   "metadata": {},
   "outputs": [
    {
     "data": {
      "text/plain": [
       "(42000, 18000, (42000, 32, 32), (18000, 32, 32))"
      ]
     },
     "execution_count": 71,
     "metadata": {},
     "output_type": "execute_result"
    }
   ],
   "source": [
    "len(X_train), len(X_test),X_train.shape, X_test.shape"
   ]
  },
  {
   "cell_type": "code",
   "execution_count": 72,
   "id": "6264a450-5103-4fff-9423-6fae7deaabdb",
   "metadata": {},
   "outputs": [],
   "source": [
    "X_train = X_train.reshape(X_train.shape[0], 1024)\n",
    "X_test = X_test.reshape(X_test.shape[0], 1024)\n",
    "# Normalize inputs from 0-255 to 0-1\n",
    "\n",
    "X_train = X_train/255\n",
    "X_test = X_test/255"
   ]
  },
  {
   "cell_type": "code",
   "execution_count": 49,
   "id": "458b9c28-a533-439c-ae13-bd7381f92f10",
   "metadata": {},
   "outputs": [],
   "source": [
    "svh_x_train, svh_x_test, svh_y_train, svh_y_test = X_train, X_test, y_train, y_test"
   ]
  },
  {
   "cell_type": "code",
   "execution_count": 50,
   "id": "90cec126-9c67-47f1-8446-58b1311b07ac",
   "metadata": {},
   "outputs": [],
   "source": [
    "student_X_train, student_X_val, student_y_train, student_y_val = train_test_split(student_x_train, student_y_train, test_size=1/3, random_state=42)\n",
    "cifar_X_train, cifar_X_val, cifar_y_train, cifar_y_val = train_test_split(cifar_x_train, cifar_y_train, test_size=1/3, random_state=42)\n",
    "svh_X_train, svh_X_val, svh_y_train, svh_y_val = train_test_split(svh_x_train, svh_y_train, test_size=1/3, random_state=42)"
   ]
  },
  {
   "cell_type": "code",
   "execution_count": 86,
   "id": "bdd08f0a-035d-4846-9ca5-4e18d725e21b",
   "metadata": {},
   "outputs": [
    {
     "name": "stdout",
     "output_type": "stream",
     "text": [
      "../../thread/thread_load.cuh(36): warning: cuda.h: [jitify] File not found\n",
      "../../thread/thread_store.cuh(36): warning: cuda.h: [jitify] File not found\n"
     ]
    },
    {
     "name": "stderr",
     "output_type": "stream",
     "text": [
      "/home/ahmad/anaconda3/envs/rapids-23.12/lib/python3.10/site-packages/cuml/internals/api_decorators.py:344: UserWarning: For reproducible results in Random Forest Classifier or for almost reproducible results in Random Forest Regressor, n_streams=1 is recommended. If n_streams is > 1, results may vary due to stream/thread timing differences, even when random_state is set\n",
      "  return func(**kwargs)\n"
     ]
    },
    {
     "ename": "NameError",
     "evalue": "name 'asnumpy' is not defined",
     "output_type": "error",
     "traceback": [
      "\u001b[0;31m---------------------------------------------------------------------------\u001b[0m",
      "\u001b[0;31mNameError\u001b[0m                                 Traceback (most recent call last)",
      "Cell \u001b[0;32mIn[86], line 32\u001b[0m\n\u001b[1;32m     29\u001b[0m predictions \u001b[38;5;241m=\u001b[39m model\u001b[38;5;241m.\u001b[39mpredict ( X_test )\n\u001b[1;32m     31\u001b[0m cu_score \u001b[38;5;241m=\u001b[39m cuml\u001b[38;5;241m.\u001b[39mmetrics\u001b[38;5;241m.\u001b[39maccuracy_score( y_test, predictions )\n\u001b[0;32m---> 32\u001b[0m sk_score \u001b[38;5;241m=\u001b[39m accuracy_score( \u001b[43masnumpy\u001b[49m( y_test ), asnumpy( predictions ) )\n\u001b[1;32m     34\u001b[0m \u001b[38;5;28mprint\u001b[39m( \u001b[38;5;124m\"\u001b[39m\u001b[38;5;124m cuml accuracy: \u001b[39m\u001b[38;5;124m\"\u001b[39m, cu_score )\n\u001b[1;32m     35\u001b[0m \u001b[38;5;28mprint\u001b[39m( \u001b[38;5;124m\"\u001b[39m\u001b[38;5;124m sklearn accuracy : \u001b[39m\u001b[38;5;124m\"\u001b[39m, sk_score )\n",
      "\u001b[0;31mNameError\u001b[0m: name 'asnumpy' is not defined"
     ]
    }
   ],
   "source": [
    "from cuml.datasets.classification import make_classification\n",
    "from cuml.model_selection import train_test_split\n",
    "from cuml.ensemble import RandomForestClassifier as cuRF\n",
    "from sklearn.metrics import accuracy_score\n",
    "\n",
    "# synthetic dataset dimensions\n",
    "n_samples = 1000\n",
    "n_features = 10\n",
    "n_classes = 2\n",
    "\n",
    "# random forest depth and size\n",
    "n_estimators = 25\n",
    "max_depth = 10\n",
    "\n",
    "# generate synthetic data [ binary classification task ]\n",
    "X, y = make_classification ( n_classes = n_classes,\n",
    "                             n_features = n_features,\n",
    "                             n_samples = n_samples,\n",
    "                             random_state = 0 )\n",
    "\n",
    "X_train, X_test, y_train, y_test = train_test_split( X, y, random_state = 0 )\n",
    "\n",
    "model = cuRF( max_depth = max_depth,\n",
    "              n_estimators = n_estimators,\n",
    "              random_state  = 0 )\n",
    "\n",
    "trained_RF = model.fit ( X_train, y_train )\n",
    "\n",
    "predictions = model.predict ( X_test )\n",
    "\n",
    "cu_score = cuml.metrics.accuracy_score( y_test, predictions )\n",
    "sk_score = accuracy_score( asnumpy( y_test ), asnumpy( predictions ) )\n",
    "\n",
    "print( \" cuml accuracy: \", cu_score )\n",
    "print( \" sklearn accuracy : \", sk_score )\n",
    "\n",
    "# save\n",
    "dump( trained_RF, 'RF.model')\n",
    "\n",
    "# to reload the model uncomment the line below\n",
    "loaded_model = load('RF.model')"
   ]
  },
  {
   "cell_type": "code",
   "execution_count": 87,
   "id": "cf0e44b3-d28c-4bc6-8ef4-ad15e6e9a608",
   "metadata": {},
   "outputs": [
    {
     "name": "stdout",
     "output_type": "stream",
     "text": [
      " cuml accuracy:  0.9639999866485596\n"
     ]
    }
   ],
   "source": [
    "print( \" cuml accuracy: \", cu_score )\n"
   ]
  },
  {
   "cell_type": "code",
   "execution_count": 83,
   "id": "92d6abb0-c1fb-4dbc-ae64-5794c98c30ce",
   "metadata": {},
   "outputs": [],
   "source": [
    "import time\n",
    "from cuml.ensemble import RandomForestClassifier as cuRF\n",
    "from cuml.metrics import accuracy_score\n",
    "from sklearn.utils.extmath import cartesian\n",
    "from tabulate import tabulate\n",
    "\n",
    "def find_best_rf_parameters(X_train, y_train, X_val, y_val):\n",
    "    # Define a function to reshape data for GPU\n",
    "    def reshape_data(X):\n",
    "        if len(X.shape) == 4:\n",
    "            n_samples, img_height, img_width, n_channels = X.shape\n",
    "            return X.reshape((n_samples, img_height * img_width * n_channels))\n",
    "        elif len(X.shape) == 3:\n",
    "            n_samples, img_height, img_width = X.shape\n",
    "            return X.reshape((n_samples, img_height * img_width))\n",
    "        else:\n",
    "            return X\n",
    "\n",
    "    X_train = reshape_data(X_train)\n",
    "    X_val = reshape_data(X_val)\n",
    "\n",
    "    rf_param_grid = {\n",
    "        'n_estimators': [10, 50, 100],\n",
    "        'split_criterion': ['entropy', 'gini'],\n",
    "        'max_depth': [10, 50, 100],\n",
    "        'max_features': [\"sqrt\", \"log2\"]\n",
    "    }\n",
    "\n",
    "    # Create a Cartesian product of parameter combinations\n",
    "    rf_grid = ParameterGrid(rf_param_grid)\n",
    "\n",
    "    data = []\n",
    "    head = ['n_estimators', 'split_criterion', 'max_depth', 'max_features', 'score in validation set']\n",
    "\n",
    "    start_time = time.time()\n",
    "    for param in rf_grid:\n",
    "        print(param)\n",
    "        # n_estimators, split_criterion, max_depth, max_features = param\n",
    "        # rf_model = RandomForestClassifier(n_estimators=int(n_estimators), split_criterion=split_criterion, max_depth=int(max_depth),\n",
    "        #                                  max_features=max_features)\n",
    "        rf_model = RandomForestClassifier()\n",
    "        rf_model.fit(X_train, y_train)\n",
    "        y_pred = rf_model.predict(X_val)\n",
    "        score = accuracy_score(y_val, y_pred)\n",
    "        list_entry = [param['n_estimators'],  param['split_criterion'], param['max_depth'], param['max_features'], score]\n",
    "        data.insert(0, list_entry)\n",
    "    \n",
    "    # Find the best model\n",
    "    best_model = max(data, key=lambda x: x[4])\n",
    "\n",
    "    # Print the results in a table format\n",
    "    print(tabulate(data, headers=head, tablefmt=\"pipe\"))\n",
    "    print(\"--- %s seconds ---\" % (time.time() - start_time))\n",
    "    print(\"The highest Accuracy {:.5f} is the model with n_estimators = {}, criterion = '{}', max_depth = {}, and max_features = '{}'\"\n",
    "          .format(best_model[4], best_model[0], best_model[1], best_model[2], best_model[3]))\n",
    "    return best_model\n",
    "\n"
   ]
  },
  {
   "cell_type": "code",
   "execution_count": null,
   "id": "ba37233c-d1d6-4cf1-950a-1d244c92758b",
   "metadata": {},
   "outputs": [],
   "source": [
    "# Assuming you have loaded your datasets as student_X_train, student_X_val, student_y_train, student_y_val, \n",
    "# cifar_X_train, cifar_X_val, cifar_y_train, cifar_y_val, svh_X_train, svh_X_val, svh_y_train, svh_y_val\n",
    "best_student_model = find_best_rf_parameters(student_X_train, student_y_train, student_X_val, student_y_val)"
   ]
  },
  {
   "cell_type": "code",
   "execution_count": null,
   "id": "2cfba80b-3e34-425f-a41d-e1a154c2cce6",
   "metadata": {},
   "outputs": [],
   "source": [
    "best_cifar_model = find_best_rf_parameters(cifar_X_train, cifar_y_train, cifar_X_val, cifar_y_val)\n",
    "best_svh_model = find_best_rf_parameters(svh_X_train, svh_y_train, svh_X_val, svh_y_val)"
   ]
  },
  {
   "cell_type": "code",
   "execution_count": 94,
   "id": "8d263c93-3b39-433c-8828-89a2e9784a91",
   "metadata": {},
   "outputs": [],
   "source": [
    "def find_best_rf_parameters(X_train, y_train, X_val, y_val):\n",
    "        \n",
    "    rf_param_grid = {\n",
    "        'n_estimators': [10, 50, 100],\n",
    "        'criterion': ['entropy', 'gini'],\n",
    "        'max_depth': [10, 50, 100],\n",
    "        'max_features': [\"sqrt\", \"log2\"]\n",
    "    }\n",
    "    rf_grid = ParameterGrid(rf_param_grid)\n",
    "    data = []\n",
    "    head = ['n_estimators', 'criterion', 'max_depth', 'max_features', 'score in validation set']\n",
    "\n",
    "    start_time = time.time()\n",
    "    for param in rf_grid:\n",
    "        rf_model = RandomForestClassifier(**param, n_jobs = -1)\n",
    "        rf_model.fit(X_train, y_train)\n",
    "        score = rf_model.score(X_val, y_val)\n",
    "        list_entry = [param['n_estimators'],  param['criterion'], param['max_depth'], param['max_features'], score]\n",
    "        data.insert(0, list_entry)\n",
    "\n",
    "    # Find the best model\n",
    "    max_accuracy = max(entry[4] for entry in data)\n",
    "    best_model = max(data, key=lambda x: x[4])\n",
    "\n",
    "    # Print the results in a table format\n",
    "    print(tabulate(data, headers=head, tablefmt=\"pipe\"))\n",
    "    print(\"--- %s seconds ---\" % (time.time() - start_time))\n",
    "    print(\"The highest Accuracy {:.5f} is the model with n_estimators = {}, criterion = '{}', max_depth = {}, and max_features = '{}'\"\n",
    "          .format(best_model[4], best_model[0], best_model[1], best_model[2], best_model[3]))\n",
    "    return best_model"
   ]
  },
  {
   "cell_type": "code",
   "execution_count": 86,
   "id": "df607401-ab8b-4ffa-bb31-7113dde96c2a",
   "metadata": {},
   "outputs": [
    {
     "name": "stdout",
     "output_type": "stream",
     "text": [
      "|   n_estimators | criterion   |   max_depth | max_features   |   score in validation set |\n",
      "|---------------:|:------------|------------:|:---------------|--------------------------:|\n",
      "|            100 | gini        |         100 | log2           |                  0.769074 |\n",
      "|             50 | gini        |         100 | log2           |                  0.772126 |\n",
      "|             10 | gini        |         100 | log2           |                  0.741607 |\n",
      "|            100 | gini        |         100 | sqrt           |                  0.769074 |\n",
      "|             50 | gini        |         100 | sqrt           |                  0.770092 |\n",
      "|             10 | gini        |         100 | sqrt           |                  0.766022 |\n",
      "|            100 | gini        |          50 | log2           |                  0.772126 |\n",
      "|             50 | gini        |          50 | log2           |                  0.765005 |\n",
      "|             10 | gini        |          50 | log2           |                  0.754832 |\n",
      "|            100 | gini        |          50 | sqrt           |                  0.775178 |\n",
      "|             50 | gini        |          50 | sqrt           |                  0.770092 |\n",
      "|             10 | gini        |          50 | sqrt           |                  0.745677 |\n",
      "|            100 | gini        |          10 | log2           |                  0.771109 |\n",
      "|             50 | gini        |          10 | log2           |                  0.773143 |\n",
      "|             10 | gini        |          10 | log2           |                  0.756867 |\n",
      "|            100 | gini        |          10 | sqrt           |                  0.773143 |\n",
      "|             50 | gini        |          10 | sqrt           |                  0.761953 |\n",
      "|             10 | gini        |          10 | sqrt           |                  0.765005 |\n",
      "|            100 | entropy     |         100 | log2           |                  0.770092 |\n",
      "|             50 | entropy     |         100 | log2           |                  0.763988 |\n",
      "|             10 | entropy     |         100 | log2           |                  0.74059  |\n",
      "|            100 | entropy     |         100 | sqrt           |                  0.773143 |\n",
      "|             50 | entropy     |         100 | sqrt           |                  0.769074 |\n",
      "|             10 | entropy     |         100 | sqrt           |                  0.743642 |\n",
      "|            100 | entropy     |          50 | log2           |                  0.758901 |\n",
      "|             50 | entropy     |          50 | log2           |                  0.765005 |\n",
      "|             10 | entropy     |          50 | log2           |                  0.744659 |\n",
      "|            100 | entropy     |          50 | sqrt           |                  0.774161 |\n",
      "|             50 | entropy     |          50 | sqrt           |                  0.765005 |\n",
      "|             10 | entropy     |          50 | sqrt           |                  0.753815 |\n",
      "|            100 | entropy     |          10 | log2           |                  0.756867 |\n",
      "|             50 | entropy     |          10 | log2           |                  0.772126 |\n",
      "|             10 | entropy     |          10 | log2           |                  0.752798 |\n",
      "|            100 | entropy     |          10 | sqrt           |                  0.769074 |\n",
      "|             50 | entropy     |          10 | sqrt           |                  0.756867 |\n",
      "|             10 | entropy     |          10 | sqrt           |                  0.750763 |\n",
      "--- 12.817075490951538 seconds ---\n",
      "The highest Accuracy 0.77518 is the model with n_estimators = 100, criterion = 'gini', max_depth = 50, and max_features = 'sqrt'\n"
     ]
    }
   ],
   "source": [
    "best_params_student = find_best_rf_parameters(student_X_train, student_y_train.values.flatten(), student_X_val, student_y_val.values.flatten())"
   ]
  },
  {
   "cell_type": "code",
   "execution_count": 87,
   "id": "92b5ca95-6522-44c7-b18f-13c627d10b30",
   "metadata": {},
   "outputs": [
    {
     "name": "stdout",
     "output_type": "stream",
     "text": [
      "|   n_estimators | criterion   |   max_depth | max_features   |   score in validation set |\n",
      "|---------------:|:------------|------------:|:---------------|--------------------------:|\n",
      "|            100 | gini        |         100 | log2           |                  0.194396 |\n",
      "|             50 | gini        |         100 | log2           |                  0.175976 |\n",
      "|             10 | gini        |         100 | log2           |                  0.107818 |\n",
      "|            100 | gini        |         100 | sqrt           |                  0.201896 |\n",
      "|             50 | gini        |         100 | sqrt           |                  0.179756 |\n",
      "|             10 | gini        |         100 | sqrt           |                  0.112198 |\n",
      "|            100 | gini        |          50 | log2           |                  0.197276 |\n",
      "|             50 | gini        |          50 | log2           |                  0.172677 |\n",
      "|             10 | gini        |          50 | log2           |                  0.105778 |\n",
      "|            100 | gini        |          50 | sqrt           |                  0.205136 |\n",
      "|             50 | gini        |          50 | sqrt           |                  0.182276 |\n",
      "|             10 | gini        |          50 | sqrt           |                  0.113818 |\n",
      "|            100 | gini        |          10 | log2           |                  0.172677 |\n",
      "|             50 | gini        |          10 | log2           |                  0.155937 |\n",
      "|             10 | gini        |          10 | log2           |                  0.119098 |\n",
      "|            100 | gini        |          10 | sqrt           |                  0.174057 |\n",
      "|             50 | gini        |          10 | sqrt           |                  0.161037 |\n",
      "|             10 | gini        |          10 | sqrt           |                  0.127737 |\n",
      "|            100 | entropy     |         100 | log2           |                  0.189416 |\n",
      "|             50 | entropy     |         100 | log2           |                  0.166617 |\n",
      "|             10 | entropy     |         100 | log2           |                  0.098578 |\n",
      "|            100 | entropy     |         100 | sqrt           |                  0.195536 |\n",
      "|             50 | entropy     |         100 | sqrt           |                  0.172617 |\n",
      "|             10 | entropy     |         100 | sqrt           |                  0.106258 |\n",
      "|            100 | entropy     |          50 | log2           |                  0.190316 |\n",
      "|             50 | entropy     |          50 | log2           |                  0.166137 |\n",
      "|             10 | entropy     |          50 | log2           |                  0.100198 |\n",
      "|            100 | entropy     |          50 | sqrt           |                  0.193856 |\n",
      "|             50 | entropy     |          50 | sqrt           |                  0.173277 |\n",
      "|             10 | entropy     |          50 | sqrt           |                  0.107338 |\n",
      "|            100 | entropy     |          10 | log2           |                  0.174537 |\n",
      "|             50 | entropy     |          10 | log2           |                  0.163977 |\n",
      "|             10 | entropy     |          10 | log2           |                  0.120658 |\n",
      "|            100 | entropy     |          10 | sqrt           |                  0.179576 |\n",
      "|             50 | entropy     |          10 | sqrt           |                  0.167757 |\n",
      "|             10 | entropy     |          10 | sqrt           |                  0.127497 |\n",
      "--- 6536.610998630524 seconds ---\n",
      "The highest Accuracy 0.20514 is the model with n_estimators = 100, criterion = 'gini', max_depth = 50, and max_features = 'sqrt'\n"
     ]
    }
   ],
   "source": [
    "best_params_cifar = find_best_rf_parameters(cifar_X_train, cifar_y_train, cifar_X_val, cifar_y_val)"
   ]
  },
  {
   "cell_type": "code",
   "execution_count": 89,
   "id": "aa8ed848-e803-4c58-8c0e-bedd8982371f",
   "metadata": {},
   "outputs": [
    {
     "data": {
      "text/plain": [
       "(28000, 32, 32)"
      ]
     },
     "execution_count": 89,
     "metadata": {},
     "output_type": "execute_result"
    }
   ],
   "source": [
    "svh_X_train.shape"
   ]
  },
  {
   "cell_type": "code",
   "execution_count": 95,
   "id": "c1bd921b-3728-4fb0-8e7a-372249151ea7",
   "metadata": {},
   "outputs": [
    {
     "ename": "KeyboardInterrupt",
     "evalue": "",
     "output_type": "error",
     "traceback": [
      "\u001b[1;31m---------------------------------------------------------------------------\u001b[0m",
      "\u001b[1;31mKeyboardInterrupt\u001b[0m                         Traceback (most recent call last)",
      "Cell \u001b[1;32mIn[95], line 1\u001b[0m\n\u001b[1;32m----> 1\u001b[0m best_params_svh \u001b[38;5;241m=\u001b[39m \u001b[43mfind_best_rf_parameters\u001b[49m\u001b[43m(\u001b[49m\u001b[43msvh_X_train\u001b[49m\u001b[43m,\u001b[49m\u001b[43m \u001b[49m\u001b[43msvh_y_train\u001b[49m\u001b[43m,\u001b[49m\u001b[43m \u001b[49m\u001b[43msvh_X_val\u001b[49m\u001b[43m,\u001b[49m\u001b[43m \u001b[49m\u001b[43msvh_y_val\u001b[49m\u001b[43m)\u001b[49m\n",
      "Cell \u001b[1;32mIn[94], line 31\u001b[0m, in \u001b[0;36mfind_best_rf_parameters\u001b[1;34m(X_train, y_train, X_val, y_val)\u001b[0m\n\u001b[0;32m     29\u001b[0m \u001b[38;5;28;01mfor\u001b[39;00m param \u001b[38;5;129;01min\u001b[39;00m rf_grid:\n\u001b[0;32m     30\u001b[0m     rf_model \u001b[38;5;241m=\u001b[39m RandomForestClassifier(\u001b[38;5;241m*\u001b[39m\u001b[38;5;241m*\u001b[39mparam, n_jobs \u001b[38;5;241m=\u001b[39m \u001b[38;5;241m-\u001b[39m\u001b[38;5;241m1\u001b[39m)\n\u001b[1;32m---> 31\u001b[0m     \u001b[43mrf_model\u001b[49m\u001b[38;5;241;43m.\u001b[39;49m\u001b[43mfit\u001b[49m\u001b[43m(\u001b[49m\u001b[43mX_train\u001b[49m\u001b[43m,\u001b[49m\u001b[43m \u001b[49m\u001b[43my_train\u001b[49m\u001b[43m)\u001b[49m\n\u001b[0;32m     32\u001b[0m     score \u001b[38;5;241m=\u001b[39m rf_model\u001b[38;5;241m.\u001b[39mscore(X_val, y_val)\n\u001b[0;32m     33\u001b[0m     list_entry \u001b[38;5;241m=\u001b[39m [param[\u001b[38;5;124m'\u001b[39m\u001b[38;5;124mn_estimators\u001b[39m\u001b[38;5;124m'\u001b[39m],  param[\u001b[38;5;124m'\u001b[39m\u001b[38;5;124mcriterion\u001b[39m\u001b[38;5;124m'\u001b[39m], param[\u001b[38;5;124m'\u001b[39m\u001b[38;5;124mmax_depth\u001b[39m\u001b[38;5;124m'\u001b[39m], param[\u001b[38;5;124m'\u001b[39m\u001b[38;5;124mmax_features\u001b[39m\u001b[38;5;124m'\u001b[39m], score]\n",
      "File \u001b[1;32mc:\\users\\watani mall\\desktop\\ai-lab\\ai_lab\\lib\\site-packages\\sklearnex\\ensemble\\_forest.py:466\u001b[0m, in \u001b[0;36mForestClassifier.fit\u001b[1;34m(self, X, y, sample_weight)\u001b[0m\n\u001b[0;32m    465\u001b[0m \u001b[38;5;28;01mdef\u001b[39;00m \u001b[38;5;21mfit\u001b[39m(\u001b[38;5;28mself\u001b[39m, X, y, sample_weight\u001b[38;5;241m=\u001b[39m\u001b[38;5;28;01mNone\u001b[39;00m):\n\u001b[1;32m--> 466\u001b[0m     \u001b[43mdispatch\u001b[49m\u001b[43m(\u001b[49m\n\u001b[0;32m    467\u001b[0m \u001b[43m        \u001b[49m\u001b[38;5;28;43mself\u001b[39;49m\u001b[43m,\u001b[49m\n\u001b[0;32m    468\u001b[0m \u001b[43m        \u001b[49m\u001b[38;5;124;43m\"\u001b[39;49m\u001b[38;5;124;43mfit\u001b[39;49m\u001b[38;5;124;43m\"\u001b[39;49m\u001b[43m,\u001b[49m\n\u001b[0;32m    469\u001b[0m \u001b[43m        \u001b[49m\u001b[43m{\u001b[49m\n\u001b[0;32m    470\u001b[0m \u001b[43m            \u001b[49m\u001b[38;5;124;43m\"\u001b[39;49m\u001b[38;5;124;43monedal\u001b[39;49m\u001b[38;5;124;43m\"\u001b[39;49m\u001b[43m:\u001b[49m\u001b[43m \u001b[49m\u001b[38;5;28;43mself\u001b[39;49m\u001b[38;5;241;43m.\u001b[39;49m\u001b[38;5;18;43m__class__\u001b[39;49m\u001b[38;5;241;43m.\u001b[39;49m\u001b[43m_onedal_fit\u001b[49m\u001b[43m,\u001b[49m\n\u001b[0;32m    471\u001b[0m \u001b[43m            \u001b[49m\u001b[38;5;124;43m\"\u001b[39;49m\u001b[38;5;124;43msklearn\u001b[39;49m\u001b[38;5;124;43m\"\u001b[39;49m\u001b[43m:\u001b[49m\u001b[43m \u001b[49m\u001b[43msklearn_ForestClassifier\u001b[49m\u001b[38;5;241;43m.\u001b[39;49m\u001b[43mfit\u001b[49m\u001b[43m,\u001b[49m\n\u001b[0;32m    472\u001b[0m \u001b[43m        \u001b[49m\u001b[43m}\u001b[49m\u001b[43m,\u001b[49m\n\u001b[0;32m    473\u001b[0m \u001b[43m        \u001b[49m\u001b[43mX\u001b[49m\u001b[43m,\u001b[49m\n\u001b[0;32m    474\u001b[0m \u001b[43m        \u001b[49m\u001b[43my\u001b[49m\u001b[43m,\u001b[49m\n\u001b[0;32m    475\u001b[0m \u001b[43m        \u001b[49m\u001b[43msample_weight\u001b[49m\u001b[43m,\u001b[49m\n\u001b[0;32m    476\u001b[0m \u001b[43m    \u001b[49m\u001b[43m)\u001b[49m\n\u001b[0;32m    477\u001b[0m     \u001b[38;5;28;01mreturn\u001b[39;00m \u001b[38;5;28mself\u001b[39m\n",
      "File \u001b[1;32mc:\\users\\watani mall\\desktop\\ai-lab\\ai_lab\\lib\\site-packages\\sklearnex\\_device_offload.py:192\u001b[0m, in \u001b[0;36mdispatch\u001b[1;34m(obj, method_name, branches, *args, **kwargs)\u001b[0m\n\u001b[0;32m    190\u001b[0m \u001b[38;5;28;01mif\u001b[39;00m backend \u001b[38;5;241m==\u001b[39m \u001b[38;5;124m\"\u001b[39m\u001b[38;5;124msklearn\u001b[39m\u001b[38;5;124m\"\u001b[39m:\n\u001b[0;32m    191\u001b[0m     patching_status\u001b[38;5;241m.\u001b[39mwrite_log()\n\u001b[1;32m--> 192\u001b[0m     \u001b[38;5;28;01mreturn\u001b[39;00m \u001b[43mbranches\u001b[49m\u001b[43m[\u001b[49m\u001b[43mbackend\u001b[49m\u001b[43m]\u001b[49m\u001b[43m(\u001b[49m\u001b[43mobj\u001b[49m\u001b[43m,\u001b[49m\u001b[43m \u001b[49m\u001b[38;5;241;43m*\u001b[39;49m\u001b[43mhostargs\u001b[49m\u001b[43m,\u001b[49m\u001b[43m \u001b[49m\u001b[38;5;241;43m*\u001b[39;49m\u001b[38;5;241;43m*\u001b[39;49m\u001b[43mhostkwargs\u001b[49m\u001b[43m)\u001b[49m\n\u001b[0;32m    193\u001b[0m \u001b[38;5;28;01mraise\u001b[39;00m \u001b[38;5;167;01mRuntimeError\u001b[39;00m(\n\u001b[0;32m    194\u001b[0m     \u001b[38;5;124mf\u001b[39m\u001b[38;5;124m\"\u001b[39m\u001b[38;5;124mUndefined backend \u001b[39m\u001b[38;5;132;01m{\u001b[39;00mbackend\u001b[38;5;132;01m}\u001b[39;00m\u001b[38;5;124m in \u001b[39m\u001b[38;5;124m\"\u001b[39m \u001b[38;5;124mf\u001b[39m\u001b[38;5;124m\"\u001b[39m\u001b[38;5;132;01m{\u001b[39;00mobj\u001b[38;5;241m.\u001b[39m\u001b[38;5;18m__class__\u001b[39m\u001b[38;5;241m.\u001b[39m\u001b[38;5;18m__name__\u001b[39m\u001b[38;5;132;01m}\u001b[39;00m\u001b[38;5;124m.\u001b[39m\u001b[38;5;132;01m{\u001b[39;00mmethod_name\u001b[38;5;132;01m}\u001b[39;00m\u001b[38;5;124m\"\u001b[39m\n\u001b[0;32m    195\u001b[0m )\n",
      "File \u001b[1;32mc:\\users\\watani mall\\desktop\\ai-lab\\ai_lab\\lib\\site-packages\\sklearn\\base.py:1152\u001b[0m, in \u001b[0;36m_fit_context.<locals>.decorator.<locals>.wrapper\u001b[1;34m(estimator, *args, **kwargs)\u001b[0m\n\u001b[0;32m   1145\u001b[0m     estimator\u001b[38;5;241m.\u001b[39m_validate_params()\n\u001b[0;32m   1147\u001b[0m \u001b[38;5;28;01mwith\u001b[39;00m config_context(\n\u001b[0;32m   1148\u001b[0m     skip_parameter_validation\u001b[38;5;241m=\u001b[39m(\n\u001b[0;32m   1149\u001b[0m         prefer_skip_nested_validation \u001b[38;5;129;01mor\u001b[39;00m global_skip_validation\n\u001b[0;32m   1150\u001b[0m     )\n\u001b[0;32m   1151\u001b[0m ):\n\u001b[1;32m-> 1152\u001b[0m     \u001b[38;5;28;01mreturn\u001b[39;00m \u001b[43mfit_method\u001b[49m\u001b[43m(\u001b[49m\u001b[43mestimator\u001b[49m\u001b[43m,\u001b[49m\u001b[43m \u001b[49m\u001b[38;5;241;43m*\u001b[39;49m\u001b[43margs\u001b[49m\u001b[43m,\u001b[49m\u001b[43m \u001b[49m\u001b[38;5;241;43m*\u001b[39;49m\u001b[38;5;241;43m*\u001b[39;49m\u001b[43mkwargs\u001b[49m\u001b[43m)\u001b[49m\n",
      "File \u001b[1;32mc:\\users\\watani mall\\desktop\\ai-lab\\ai_lab\\lib\\site-packages\\sklearn\\ensemble\\_forest.py:456\u001b[0m, in \u001b[0;36mBaseForest.fit\u001b[1;34m(self, X, y, sample_weight)\u001b[0m\n\u001b[0;32m    445\u001b[0m trees \u001b[38;5;241m=\u001b[39m [\n\u001b[0;32m    446\u001b[0m     \u001b[38;5;28mself\u001b[39m\u001b[38;5;241m.\u001b[39m_make_estimator(append\u001b[38;5;241m=\u001b[39m\u001b[38;5;28;01mFalse\u001b[39;00m, random_state\u001b[38;5;241m=\u001b[39mrandom_state)\n\u001b[0;32m    447\u001b[0m     \u001b[38;5;28;01mfor\u001b[39;00m i \u001b[38;5;129;01min\u001b[39;00m \u001b[38;5;28mrange\u001b[39m(n_more_estimators)\n\u001b[0;32m    448\u001b[0m ]\n\u001b[0;32m    450\u001b[0m \u001b[38;5;66;03m# Parallel loop: we prefer the threading backend as the Cython code\u001b[39;00m\n\u001b[0;32m    451\u001b[0m \u001b[38;5;66;03m# for fitting the trees is internally releasing the Python GIL\u001b[39;00m\n\u001b[0;32m    452\u001b[0m \u001b[38;5;66;03m# making threading more efficient than multiprocessing in\u001b[39;00m\n\u001b[0;32m    453\u001b[0m \u001b[38;5;66;03m# that case. However, for joblib 0.12+ we respect any\u001b[39;00m\n\u001b[0;32m    454\u001b[0m \u001b[38;5;66;03m# parallel_backend contexts set at a higher level,\u001b[39;00m\n\u001b[0;32m    455\u001b[0m \u001b[38;5;66;03m# since correctness does not rely on using threads.\u001b[39;00m\n\u001b[1;32m--> 456\u001b[0m trees \u001b[38;5;241m=\u001b[39m \u001b[43mParallel\u001b[49m\u001b[43m(\u001b[49m\n\u001b[0;32m    457\u001b[0m \u001b[43m    \u001b[49m\u001b[43mn_jobs\u001b[49m\u001b[38;5;241;43m=\u001b[39;49m\u001b[38;5;28;43mself\u001b[39;49m\u001b[38;5;241;43m.\u001b[39;49m\u001b[43mn_jobs\u001b[49m\u001b[43m,\u001b[49m\n\u001b[0;32m    458\u001b[0m \u001b[43m    \u001b[49m\u001b[43mverbose\u001b[49m\u001b[38;5;241;43m=\u001b[39;49m\u001b[38;5;28;43mself\u001b[39;49m\u001b[38;5;241;43m.\u001b[39;49m\u001b[43mverbose\u001b[49m\u001b[43m,\u001b[49m\n\u001b[0;32m    459\u001b[0m \u001b[43m    \u001b[49m\u001b[43mprefer\u001b[49m\u001b[38;5;241;43m=\u001b[39;49m\u001b[38;5;124;43m\"\u001b[39;49m\u001b[38;5;124;43mthreads\u001b[39;49m\u001b[38;5;124;43m\"\u001b[39;49m\u001b[43m,\u001b[49m\n\u001b[0;32m    460\u001b[0m \u001b[43m\u001b[49m\u001b[43m)\u001b[49m\u001b[43m(\u001b[49m\n\u001b[0;32m    461\u001b[0m \u001b[43m    \u001b[49m\u001b[43mdelayed\u001b[49m\u001b[43m(\u001b[49m\u001b[43m_parallel_build_trees\u001b[49m\u001b[43m)\u001b[49m\u001b[43m(\u001b[49m\n\u001b[0;32m    462\u001b[0m \u001b[43m        \u001b[49m\u001b[43mt\u001b[49m\u001b[43m,\u001b[49m\n\u001b[0;32m    463\u001b[0m \u001b[43m        \u001b[49m\u001b[38;5;28;43mself\u001b[39;49m\u001b[38;5;241;43m.\u001b[39;49m\u001b[43mbootstrap\u001b[49m\u001b[43m,\u001b[49m\n\u001b[0;32m    464\u001b[0m \u001b[43m        \u001b[49m\u001b[43mX\u001b[49m\u001b[43m,\u001b[49m\n\u001b[0;32m    465\u001b[0m \u001b[43m        \u001b[49m\u001b[43my\u001b[49m\u001b[43m,\u001b[49m\n\u001b[0;32m    466\u001b[0m \u001b[43m        \u001b[49m\u001b[43msample_weight\u001b[49m\u001b[43m,\u001b[49m\n\u001b[0;32m    467\u001b[0m \u001b[43m        \u001b[49m\u001b[43mi\u001b[49m\u001b[43m,\u001b[49m\n\u001b[0;32m    468\u001b[0m \u001b[43m        \u001b[49m\u001b[38;5;28;43mlen\u001b[39;49m\u001b[43m(\u001b[49m\u001b[43mtrees\u001b[49m\u001b[43m)\u001b[49m\u001b[43m,\u001b[49m\n\u001b[0;32m    469\u001b[0m \u001b[43m        \u001b[49m\u001b[43mverbose\u001b[49m\u001b[38;5;241;43m=\u001b[39;49m\u001b[38;5;28;43mself\u001b[39;49m\u001b[38;5;241;43m.\u001b[39;49m\u001b[43mverbose\u001b[49m\u001b[43m,\u001b[49m\n\u001b[0;32m    470\u001b[0m \u001b[43m        \u001b[49m\u001b[43mclass_weight\u001b[49m\u001b[38;5;241;43m=\u001b[39;49m\u001b[38;5;28;43mself\u001b[39;49m\u001b[38;5;241;43m.\u001b[39;49m\u001b[43mclass_weight\u001b[49m\u001b[43m,\u001b[49m\n\u001b[0;32m    471\u001b[0m \u001b[43m        \u001b[49m\u001b[43mn_samples_bootstrap\u001b[49m\u001b[38;5;241;43m=\u001b[39;49m\u001b[43mn_samples_bootstrap\u001b[49m\u001b[43m,\u001b[49m\n\u001b[0;32m    472\u001b[0m \u001b[43m    \u001b[49m\u001b[43m)\u001b[49m\n\u001b[0;32m    473\u001b[0m \u001b[43m    \u001b[49m\u001b[38;5;28;43;01mfor\u001b[39;49;00m\u001b[43m \u001b[49m\u001b[43mi\u001b[49m\u001b[43m,\u001b[49m\u001b[43m \u001b[49m\u001b[43mt\u001b[49m\u001b[43m \u001b[49m\u001b[38;5;129;43;01min\u001b[39;49;00m\u001b[43m \u001b[49m\u001b[38;5;28;43menumerate\u001b[39;49m\u001b[43m(\u001b[49m\u001b[43mtrees\u001b[49m\u001b[43m)\u001b[49m\n\u001b[0;32m    474\u001b[0m \u001b[43m\u001b[49m\u001b[43m)\u001b[49m\n\u001b[0;32m    476\u001b[0m \u001b[38;5;66;03m# Collect newly grown trees\u001b[39;00m\n\u001b[0;32m    477\u001b[0m \u001b[38;5;28mself\u001b[39m\u001b[38;5;241m.\u001b[39mestimators_\u001b[38;5;241m.\u001b[39mextend(trees)\n",
      "File \u001b[1;32mc:\\users\\watani mall\\desktop\\ai-lab\\ai_lab\\lib\\site-packages\\sklearn\\utils\\parallel.py:65\u001b[0m, in \u001b[0;36mParallel.__call__\u001b[1;34m(self, iterable)\u001b[0m\n\u001b[0;32m     60\u001b[0m config \u001b[38;5;241m=\u001b[39m get_config()\n\u001b[0;32m     61\u001b[0m iterable_with_config \u001b[38;5;241m=\u001b[39m (\n\u001b[0;32m     62\u001b[0m     (_with_config(delayed_func, config), args, kwargs)\n\u001b[0;32m     63\u001b[0m     \u001b[38;5;28;01mfor\u001b[39;00m delayed_func, args, kwargs \u001b[38;5;129;01min\u001b[39;00m iterable\n\u001b[0;32m     64\u001b[0m )\n\u001b[1;32m---> 65\u001b[0m \u001b[38;5;28;01mreturn\u001b[39;00m \u001b[38;5;28;43msuper\u001b[39;49m\u001b[43m(\u001b[49m\u001b[43m)\u001b[49m\u001b[38;5;241;43m.\u001b[39;49m\u001b[38;5;21;43m__call__\u001b[39;49m\u001b[43m(\u001b[49m\u001b[43miterable_with_config\u001b[49m\u001b[43m)\u001b[49m\n",
      "File \u001b[1;32mc:\\users\\watani mall\\desktop\\ai-lab\\ai_lab\\lib\\site-packages\\joblib\\parallel.py:1952\u001b[0m, in \u001b[0;36mParallel.__call__\u001b[1;34m(self, iterable)\u001b[0m\n\u001b[0;32m   1946\u001b[0m \u001b[38;5;66;03m# The first item from the output is blank, but it makes the interpreter\u001b[39;00m\n\u001b[0;32m   1947\u001b[0m \u001b[38;5;66;03m# progress until it enters the Try/Except block of the generator and\u001b[39;00m\n\u001b[0;32m   1948\u001b[0m \u001b[38;5;66;03m# reach the first `yield` statement. This starts the aynchronous\u001b[39;00m\n\u001b[0;32m   1949\u001b[0m \u001b[38;5;66;03m# dispatch of the tasks to the workers.\u001b[39;00m\n\u001b[0;32m   1950\u001b[0m \u001b[38;5;28mnext\u001b[39m(output)\n\u001b[1;32m-> 1952\u001b[0m \u001b[38;5;28;01mreturn\u001b[39;00m output \u001b[38;5;28;01mif\u001b[39;00m \u001b[38;5;28mself\u001b[39m\u001b[38;5;241m.\u001b[39mreturn_generator \u001b[38;5;28;01melse\u001b[39;00m \u001b[38;5;28;43mlist\u001b[39;49m\u001b[43m(\u001b[49m\u001b[43moutput\u001b[49m\u001b[43m)\u001b[49m\n",
      "File \u001b[1;32mc:\\users\\watani mall\\desktop\\ai-lab\\ai_lab\\lib\\site-packages\\joblib\\parallel.py:1595\u001b[0m, in \u001b[0;36mParallel._get_outputs\u001b[1;34m(self, iterator, pre_dispatch)\u001b[0m\n\u001b[0;32m   1592\u001b[0m     \u001b[38;5;28;01myield\u001b[39;00m\n\u001b[0;32m   1594\u001b[0m     \u001b[38;5;28;01mwith\u001b[39;00m \u001b[38;5;28mself\u001b[39m\u001b[38;5;241m.\u001b[39m_backend\u001b[38;5;241m.\u001b[39mretrieval_context():\n\u001b[1;32m-> 1595\u001b[0m         \u001b[38;5;28;01myield from\u001b[39;00m \u001b[38;5;28mself\u001b[39m\u001b[38;5;241m.\u001b[39m_retrieve()\n\u001b[0;32m   1597\u001b[0m \u001b[38;5;28;01mexcept\u001b[39;00m \u001b[38;5;167;01mGeneratorExit\u001b[39;00m:\n\u001b[0;32m   1598\u001b[0m     \u001b[38;5;66;03m# The generator has been garbage collected before being fully\u001b[39;00m\n\u001b[0;32m   1599\u001b[0m     \u001b[38;5;66;03m# consumed. This aborts the remaining tasks if possible and warn\u001b[39;00m\n\u001b[0;32m   1600\u001b[0m     \u001b[38;5;66;03m# the user if necessary.\u001b[39;00m\n\u001b[0;32m   1601\u001b[0m     \u001b[38;5;28mself\u001b[39m\u001b[38;5;241m.\u001b[39m_exception \u001b[38;5;241m=\u001b[39m \u001b[38;5;28;01mTrue\u001b[39;00m\n",
      "File \u001b[1;32mc:\\users\\watani mall\\desktop\\ai-lab\\ai_lab\\lib\\site-packages\\joblib\\parallel.py:1707\u001b[0m, in \u001b[0;36mParallel._retrieve\u001b[1;34m(self)\u001b[0m\n\u001b[0;32m   1702\u001b[0m \u001b[38;5;66;03m# If the next job is not ready for retrieval yet, we just wait for\u001b[39;00m\n\u001b[0;32m   1703\u001b[0m \u001b[38;5;66;03m# async callbacks to progress.\u001b[39;00m\n\u001b[0;32m   1704\u001b[0m \u001b[38;5;28;01mif\u001b[39;00m ((\u001b[38;5;28mlen\u001b[39m(\u001b[38;5;28mself\u001b[39m\u001b[38;5;241m.\u001b[39m_jobs) \u001b[38;5;241m==\u001b[39m \u001b[38;5;241m0\u001b[39m) \u001b[38;5;129;01mor\u001b[39;00m\n\u001b[0;32m   1705\u001b[0m     (\u001b[38;5;28mself\u001b[39m\u001b[38;5;241m.\u001b[39m_jobs[\u001b[38;5;241m0\u001b[39m]\u001b[38;5;241m.\u001b[39mget_status(\n\u001b[0;32m   1706\u001b[0m         timeout\u001b[38;5;241m=\u001b[39m\u001b[38;5;28mself\u001b[39m\u001b[38;5;241m.\u001b[39mtimeout) \u001b[38;5;241m==\u001b[39m TASK_PENDING)):\n\u001b[1;32m-> 1707\u001b[0m     \u001b[43mtime\u001b[49m\u001b[38;5;241;43m.\u001b[39;49m\u001b[43msleep\u001b[49m\u001b[43m(\u001b[49m\u001b[38;5;241;43m0.01\u001b[39;49m\u001b[43m)\u001b[49m\n\u001b[0;32m   1708\u001b[0m     \u001b[38;5;28;01mcontinue\u001b[39;00m\n\u001b[0;32m   1710\u001b[0m \u001b[38;5;66;03m# We need to be careful: the job list can be filling up as\u001b[39;00m\n\u001b[0;32m   1711\u001b[0m \u001b[38;5;66;03m# we empty it and Python list are not thread-safe by\u001b[39;00m\n\u001b[0;32m   1712\u001b[0m \u001b[38;5;66;03m# default hence the use of the lock\u001b[39;00m\n",
      "\u001b[1;31mKeyboardInterrupt\u001b[0m: "
     ]
    }
   ],
   "source": [
    "best_params_svh = find_best_rf_parameters(svh_X_train, svh_y_train, svh_X_val, svh_y_val)"
   ]
  },
  {
   "cell_type": "code",
   "execution_count": 1,
   "id": "4e84cd2b-4a2c-49ae-bfce-3fe4e849d2a1",
   "metadata": {},
   "outputs": [],
   "source": [
    "import cuml"
   ]
  },
  {
   "cell_type": "code",
   "execution_count": null,
   "id": "398b120f-bfea-402c-b7dc-b5ed20c674ac",
   "metadata": {},
   "outputs": [],
   "source": []
  }
 ],
 "metadata": {
  "kernelspec": {
   "display_name": "Python 3 (ipykernel)",
   "language": "python",
   "name": "python3"
  },
  "language_info": {
   "codemirror_mode": {
    "name": "ipython",
    "version": 3
   },
   "file_extension": ".py",
   "mimetype": "text/x-python",
   "name": "python",
   "nbconvert_exporter": "python",
   "pygments_lexer": "ipython3",
   "version": "3.10.13"
  }
 },
 "nbformat": 4,
 "nbformat_minor": 5
}
