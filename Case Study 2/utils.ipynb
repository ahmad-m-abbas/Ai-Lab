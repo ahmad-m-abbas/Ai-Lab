{
 "cells": [
  {
   "cell_type": "code",
   "execution_count": 6,
   "id": "fa6dc654-197c-4262-b080-0011ac21fc66",
   "metadata": {},
   "outputs": [
    {
     "name": "stderr",
     "output_type": "stream",
     "text": [
      "Intel(R) Extension for Scikit-learn* enabled (https://github.com/intel/scikit-learn-intelex)\n"
     ]
    }
   ],
   "source": [
    "import math\n",
    "import numpy as np\n",
    "import pandas as pd\n",
    "import seaborn as sns\n",
    "from matplotlib import pyplot as plt\n",
    "from tabulate import tabulate\n",
    "from sklearnex import patch_sklearn \n",
    "patch_sklearn()\n",
    "from sklearn.utils import shuffle\n",
    "from sklearn.model_selection import ParameterGrid\n",
    "from sklearn.metrics import classification_report, precision_recall_fscore_support, accuracy_score\n",
    "from cuml.model_selection import train_test_split\n",
    "from cuml.ensemble import RandomForestClassifier as cuRF\n",
    "from sklearn.preprocessing import MinMaxScaler\n",
    "from sklearn.svm import SVC\n",
    "from sklearn.decomposition import PCA\n",
    "from skimage import feature as ft\n",
    "import time\n"
   ]
  },
  {
   "cell_type": "code",
   "execution_count": 2,
   "id": "d1383f46-e43c-4849-b813-d342ba33dcfa",
   "metadata": {},
   "outputs": [],
   "source": [
    "import gc\n",
    "def find_best_rf_parameters(X_train, y_train, X_val, y_val):   \n",
    "    rf_param_grid = {\n",
    "        'n_estimators': [10, 50, 100],\n",
    "        'split_criterion': ['entropy', 'gini'],\n",
    "        'max_depth': [10, 50, 100],\n",
    "        'max_features': [\"sqrt\", \"log2\"]\n",
    "    }\n",
    "    rf_grid = ParameterGrid(rf_param_grid)\n",
    "    data = []\n",
    "    head = ['n_estimators', 'split_criterion', 'max_depth', 'max_features', 'score in validation set']\n",
    "\n",
    "    start_time = time.time()\n",
    "    for param in rf_grid:\n",
    "        rf_model = cuRF(**param, n_bins = 32)\n",
    "        rf_model.fit(X_train, y_train)\n",
    "        y_pred = rf_model.predict(X_val)\n",
    "        score = accuracy_score(y_val, y_pred)\n",
    "        list_entry = [param['n_estimators'],  param['split_criterion'], param['max_depth'], param['max_features'], score]\n",
    "        data.insert(0, list_entry)\n",
    "        del rf_model, y_pred\n",
    "        gc.collect()\n",
    "\n",
    "    # Find the best model\n",
    "    max_accuracy = max(entry[4] for entry in data)\n",
    "    best_model = max(data, key=lambda x: x[4])\n",
    "\n",
    "    # Print the results in a table format\n",
    "    print(tabulate(data, headers=head, tablefmt=\"pipe\"))\n",
    "    print(\"--- %s seconds ---\" % (time.time() - start_time))\n",
    "    print(\"The highest Accuracy {:.5f} is the model with n_estimators = {}, criterion = '{}', max_depth = {}, and max_features = '{}'\"\n",
    "          .format(best_model[4], best_model[0], best_model[1], best_model[2], best_model[3]))\n",
    "    return best_model"
   ]
  },
  {
   "cell_type": "code",
   "execution_count": 3,
   "id": "108bda51-2276-4eea-8b6b-ca36489815e0",
   "metadata": {},
   "outputs": [],
   "source": [
    "from cuml.metrics import precision_recall_curve\n",
    "def accuracy_measure_rf(n_estimators = 50, split_criterion  = 'entropy', max_depth =10, max_features='log2'):\n",
    "    start_time = time.time()\n",
    "    rf_model = cuRF(n_estimators = n_estimators, split_criterion  = split_criterion, max_depth =max_depth, max_features=max_features)\n",
    "    rf_model.fit(student_X_train, student_y_train)\n",
    "    rf_accuracy=rf_model.score(student_x_test, student_y_test)\n",
    "    predictions = rf_model.predict(student_x_test)\n",
    "    rf_accuracy= accuracy_score(student_y_test, predictions)\n",
    "    rf_f_score = precision_recall_curve(student_y_test,predictions)\n",
    "    print(\"--- %s seconds ---\" % (time.time() - start_time))\n",
    "    return rf_accuracy, rf_f_score"
   ]
  },
  {
   "cell_type": "code",
   "execution_count": 4,
   "id": "b2b07cf3-7c7d-4bad-a44a-1eb0f5fa9aca",
   "metadata": {},
   "outputs": [],
   "source": [
    "import xgboost as xgb"
   ]
  },
  {
   "cell_type": "code",
   "execution_count": 5,
   "id": "3ee1a253-9cbf-4f6f-84e0-888b8180180d",
   "metadata": {},
   "outputs": [],
   "source": [
    "def find_best_xgb_parameters(X_train, y_train, X_val, y_val):\n",
    "    xgb_param_grid = {\n",
    "        'n_estimators': [10, 50, 100],\n",
    "        'learning_rate': [0.01, 0.1, 0.5],\n",
    "        'max_depth': [10, 50, 100],\n",
    "        'subsample': [0.5, 0.8, 1],\n",
    "        'colsample_bytree': [0.5, 0.8, 1]\n",
    "    }\n",
    "    xgb_grid = ParameterGrid(xgb_param_grid)\n",
    "    data = []\n",
    "    head = ['n_estimators', 'learning_rate', 'max_depth', 'subsample', 'colsample_bytree', 'score in validation set']\n",
    "\n",
    "    start_time = time.time()\n",
    "    for param in xgb_grid:\n",
    "        xgb_model = xgb.XGBClassifier(**param, tree_method = \"hist\", device = \"cuda\")\n",
    "        xgb_model.fit(X_train, y_train)\n",
    "        y_pred = xgb_model.predict(X_val)\n",
    "        score = accuracy_score(y_val, y_pred)\n",
    "        list_entry = [param['n_estimators'], param['learning_rate'], param['max_depth'], param['subsample'], param['colsample_bytree'], score]\n",
    "        data.insert(0, list_entry)\n",
    "        del xgb_model, y_pred\n",
    "        gc.collect()\n",
    "\n",
    "    # Find the best model\n",
    "    max_accuracy = max(entry[5] for entry in data)\n",
    "    best_model = max(data, key=lambda x: x[5])\n",
    "\n",
    "    # Print the results in a table format\n",
    "    print(tabulate(data, headers=head, tablefmt=\"pipe\"))\n",
    "    print(\"--- %s seconds ---\" % (time.time() - start_time))\n",
    "    print(\"The highest Accuracy {:.5f} is the model with n_estimators = {}, learning_rate = {}, max_depth = {}, subsample = {}, colsample_bytree = {}\"\n",
    "          .format(best_model[5], best_model[0], best_model[1], best_model[2], best_model[3], best_model[4]))\n",
    "    return best_model\n"
   ]
  },
  {
   "cell_type": "code",
   "execution_count": null,
   "id": "39ab3e5d-cafe-4401-8e0d-0e40da403108",
   "metadata": {},
   "outputs": [],
   "source": []
  }
 ],
 "metadata": {
  "kernelspec": {
   "display_name": "Python 3 (ipykernel)",
   "language": "python",
   "name": "python3"
  },
  "language_info": {
   "codemirror_mode": {
    "name": "ipython",
    "version": 3
   },
   "file_extension": ".py",
   "mimetype": "text/x-python",
   "name": "python",
   "nbconvert_exporter": "python",
   "pygments_lexer": "ipython3",
   "version": "3.10.13"
  }
 },
 "nbformat": 4,
 "nbformat_minor": 5
}
